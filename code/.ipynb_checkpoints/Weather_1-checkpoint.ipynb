{
 "cells": [
  {
   "cell_type": "markdown",
   "id": "bfc990a9-b9dd-4531-bf69-03ad00c84b3b",
   "metadata": {},
   "source": [
    "# Load and Explore the Data\n",
    "## Import Libraries"
   ]
  },
  {
   "cell_type": "code",
   "execution_count": 3,
   "id": "50b4e725-772d-457c-a144-cb3075f24b99",
   "metadata": {},
   "outputs": [],
   "source": [
    "# Import pandas, numpy, and matplotlib\n",
    "import pandas as pd\n",
    "import numpy as np\n",
    "import matplotlib.pyplot as plt\n",
    "\n",
    "# Seaborn is a data visualization library build on matplotlib\n",
    "import seaborn as sns\n",
    "\n",
    "# Set the plotting style\n",
    "sns.set_style(\"whitegrid\")"
   ]
  },
  {
   "cell_type": "markdown",
   "id": "df583cc2-552f-4f91-8d49-b6613ffd55be",
   "metadata": {},
   "source": [
    "## Load the Data"
   ]
  },
  {
   "cell_type": "code",
   "execution_count": 12,
   "id": "246dabb9-ba51-4e7d-bfa5-0176787d7d44",
   "metadata": {},
   "outputs": [],
   "source": [
    "# Load the Seattle data set\n",
    "df_seattle = pd.read_csv(\n",
    "    'https://raw.githubusercontent.com/brian-fischer/DATA-5100/main/weather/seattle_rain.csv'\n",
    ")"
   ]
  },
  {
   "cell_type": "code",
   "execution_count": 11,
   "id": "89c16057-8255-404d-921c-41dd9af18b43",
   "metadata": {},
   "outputs": [
    {
     "data": {
      "text/plain": [
       "pandas.core.frame.DataFrame"
      ]
     },
     "execution_count": 11,
     "metadata": {},
     "output_type": "execute_result"
    }
   ],
   "source": [
    "# Check the details\n",
    "type(df_seattle)"
   ]
  },
  {
   "cell_type": "code",
   "execution_count": 13,
   "id": "073fcbb3-8005-4bdc-b77b-9424b38a970f",
   "metadata": {},
   "outputs": [],
   "source": [
    "# Load the Springfield data set\n",
    "df_springfield = pd.read_csv(\n",
    "    'https://raw.githubusercontent.com/ejbergevin/Data5100_weather/refs/heads/main/weather/data/springfield_rain.csv'\n",
    ")"
   ]
  },
  {
   "cell_type": "markdown",
   "id": "64c39c38-3669-4073-8ee0-3ae209061629",
   "metadata": {},
   "source": [
    "## Explore the Data"
   ]
  },
  {
   "cell_type": "code",
   "execution_count": 20,
   "id": "4e258dfe-2219-4285-b2f9-391c57ae83b7",
   "metadata": {},
   "outputs": [
    {
     "data": {
      "text/html": [
       "<div>\n",
       "<style scoped>\n",
       "    .dataframe tbody tr th:only-of-type {\n",
       "        vertical-align: middle;\n",
       "    }\n",
       "\n",
       "    .dataframe tbody tr th {\n",
       "        vertical-align: top;\n",
       "    }\n",
       "\n",
       "    .dataframe thead th {\n",
       "        text-align: right;\n",
       "    }\n",
       "</style>\n",
       "<table border=\"1\" class=\"dataframe\">\n",
       "  <thead>\n",
       "    <tr style=\"text-align: right;\">\n",
       "      <th></th>\n",
       "      <th>STATION</th>\n",
       "      <th>NAME</th>\n",
       "      <th>DATE</th>\n",
       "      <th>DAPR</th>\n",
       "      <th>MDPR</th>\n",
       "      <th>PRCP</th>\n",
       "      <th>SNOW</th>\n",
       "      <th>SNWD</th>\n",
       "      <th>WESD</th>\n",
       "      <th>WESF</th>\n",
       "    </tr>\n",
       "  </thead>\n",
       "  <tbody>\n",
       "    <tr>\n",
       "      <th>0</th>\n",
       "      <td>US1WAKG0225</td>\n",
       "      <td>SEATTLE 2.1 ESE, WA US</td>\n",
       "      <td>1/1/18</td>\n",
       "      <td>NaN</td>\n",
       "      <td>NaN</td>\n",
       "      <td>0.00</td>\n",
       "      <td>NaN</td>\n",
       "      <td>NaN</td>\n",
       "      <td>NaN</td>\n",
       "      <td>NaN</td>\n",
       "    </tr>\n",
       "    <tr>\n",
       "      <th>1</th>\n",
       "      <td>US1WAKG0225</td>\n",
       "      <td>SEATTLE 2.1 ESE, WA US</td>\n",
       "      <td>1/2/18</td>\n",
       "      <td>NaN</td>\n",
       "      <td>NaN</td>\n",
       "      <td>0.00</td>\n",
       "      <td>NaN</td>\n",
       "      <td>NaN</td>\n",
       "      <td>NaN</td>\n",
       "      <td>NaN</td>\n",
       "    </tr>\n",
       "    <tr>\n",
       "      <th>2</th>\n",
       "      <td>US1WAKG0225</td>\n",
       "      <td>SEATTLE 2.1 ESE, WA US</td>\n",
       "      <td>1/3/18</td>\n",
       "      <td>NaN</td>\n",
       "      <td>NaN</td>\n",
       "      <td>0.00</td>\n",
       "      <td>NaN</td>\n",
       "      <td>NaN</td>\n",
       "      <td>NaN</td>\n",
       "      <td>NaN</td>\n",
       "    </tr>\n",
       "    <tr>\n",
       "      <th>3</th>\n",
       "      <td>US1WAKG0225</td>\n",
       "      <td>SEATTLE 2.1 ESE, WA US</td>\n",
       "      <td>1/4/18</td>\n",
       "      <td>NaN</td>\n",
       "      <td>NaN</td>\n",
       "      <td>0.00</td>\n",
       "      <td>NaN</td>\n",
       "      <td>NaN</td>\n",
       "      <td>NaN</td>\n",
       "      <td>NaN</td>\n",
       "    </tr>\n",
       "    <tr>\n",
       "      <th>4</th>\n",
       "      <td>US1WAKG0225</td>\n",
       "      <td>SEATTLE 2.1 ESE, WA US</td>\n",
       "      <td>1/5/18</td>\n",
       "      <td>NaN</td>\n",
       "      <td>NaN</td>\n",
       "      <td>0.25</td>\n",
       "      <td>NaN</td>\n",
       "      <td>NaN</td>\n",
       "      <td>NaN</td>\n",
       "      <td>NaN</td>\n",
       "    </tr>\n",
       "    <tr>\n",
       "      <th>5</th>\n",
       "      <td>US1WAKG0225</td>\n",
       "      <td>SEATTLE 2.1 ESE, WA US</td>\n",
       "      <td>1/6/18</td>\n",
       "      <td>NaN</td>\n",
       "      <td>NaN</td>\n",
       "      <td>0.57</td>\n",
       "      <td>NaN</td>\n",
       "      <td>NaN</td>\n",
       "      <td>NaN</td>\n",
       "      <td>NaN</td>\n",
       "    </tr>\n",
       "    <tr>\n",
       "      <th>6</th>\n",
       "      <td>US1WAKG0225</td>\n",
       "      <td>SEATTLE 2.1 ESE, WA US</td>\n",
       "      <td>1/7/18</td>\n",
       "      <td>NaN</td>\n",
       "      <td>NaN</td>\n",
       "      <td>0.23</td>\n",
       "      <td>NaN</td>\n",
       "      <td>NaN</td>\n",
       "      <td>NaN</td>\n",
       "      <td>NaN</td>\n",
       "    </tr>\n",
       "    <tr>\n",
       "      <th>7</th>\n",
       "      <td>US1WAKG0225</td>\n",
       "      <td>SEATTLE 2.1 ESE, WA US</td>\n",
       "      <td>1/8/18</td>\n",
       "      <td>NaN</td>\n",
       "      <td>NaN</td>\n",
       "      <td>0.41</td>\n",
       "      <td>NaN</td>\n",
       "      <td>NaN</td>\n",
       "      <td>NaN</td>\n",
       "      <td>NaN</td>\n",
       "    </tr>\n",
       "    <tr>\n",
       "      <th>8</th>\n",
       "      <td>US1WAKG0225</td>\n",
       "      <td>SEATTLE 2.1 ESE, WA US</td>\n",
       "      <td>3/12/18</td>\n",
       "      <td>NaN</td>\n",
       "      <td>NaN</td>\n",
       "      <td>0.00</td>\n",
       "      <td>NaN</td>\n",
       "      <td>NaN</td>\n",
       "      <td>NaN</td>\n",
       "      <td>NaN</td>\n",
       "    </tr>\n",
       "    <tr>\n",
       "      <th>9</th>\n",
       "      <td>US1WAKG0225</td>\n",
       "      <td>SEATTLE 2.1 ESE, WA US</td>\n",
       "      <td>3/13/18</td>\n",
       "      <td>NaN</td>\n",
       "      <td>NaN</td>\n",
       "      <td>0.00</td>\n",
       "      <td>NaN</td>\n",
       "      <td>NaN</td>\n",
       "      <td>NaN</td>\n",
       "      <td>NaN</td>\n",
       "    </tr>\n",
       "  </tbody>\n",
       "</table>\n",
       "</div>"
      ],
      "text/plain": [
       "       STATION                    NAME     DATE  DAPR  MDPR  PRCP  SNOW  SNWD  \\\n",
       "0  US1WAKG0225  SEATTLE 2.1 ESE, WA US   1/1/18   NaN   NaN  0.00   NaN   NaN   \n",
       "1  US1WAKG0225  SEATTLE 2.1 ESE, WA US   1/2/18   NaN   NaN  0.00   NaN   NaN   \n",
       "2  US1WAKG0225  SEATTLE 2.1 ESE, WA US   1/3/18   NaN   NaN  0.00   NaN   NaN   \n",
       "3  US1WAKG0225  SEATTLE 2.1 ESE, WA US   1/4/18   NaN   NaN  0.00   NaN   NaN   \n",
       "4  US1WAKG0225  SEATTLE 2.1 ESE, WA US   1/5/18   NaN   NaN  0.25   NaN   NaN   \n",
       "5  US1WAKG0225  SEATTLE 2.1 ESE, WA US   1/6/18   NaN   NaN  0.57   NaN   NaN   \n",
       "6  US1WAKG0225  SEATTLE 2.1 ESE, WA US   1/7/18   NaN   NaN  0.23   NaN   NaN   \n",
       "7  US1WAKG0225  SEATTLE 2.1 ESE, WA US   1/8/18   NaN   NaN  0.41   NaN   NaN   \n",
       "8  US1WAKG0225  SEATTLE 2.1 ESE, WA US  3/12/18   NaN   NaN  0.00   NaN   NaN   \n",
       "9  US1WAKG0225  SEATTLE 2.1 ESE, WA US  3/13/18   NaN   NaN  0.00   NaN   NaN   \n",
       "\n",
       "   WESD  WESF  \n",
       "0   NaN   NaN  \n",
       "1   NaN   NaN  \n",
       "2   NaN   NaN  \n",
       "3   NaN   NaN  \n",
       "4   NaN   NaN  \n",
       "5   NaN   NaN  \n",
       "6   NaN   NaN  \n",
       "7   NaN   NaN  \n",
       "8   NaN   NaN  \n",
       "9   NaN   NaN  "
      ]
     },
     "execution_count": 20,
     "metadata": {},
     "output_type": "execute_result"
    }
   ],
   "source": [
    "df_seattle.head(10)"
   ]
  },
  {
   "cell_type": "code",
   "execution_count": 21,
   "id": "e850b1a7-f9cb-4ef9-92fa-58316b12234e",
   "metadata": {},
   "outputs": [
    {
     "data": {
      "text/html": [
       "<div>\n",
       "<style scoped>\n",
       "    .dataframe tbody tr th:only-of-type {\n",
       "        vertical-align: middle;\n",
       "    }\n",
       "\n",
       "    .dataframe tbody tr th {\n",
       "        vertical-align: top;\n",
       "    }\n",
       "\n",
       "    .dataframe thead th {\n",
       "        text-align: right;\n",
       "    }\n",
       "</style>\n",
       "<table border=\"1\" class=\"dataframe\">\n",
       "  <thead>\n",
       "    <tr style=\"text-align: right;\">\n",
       "      <th></th>\n",
       "      <th>STATION</th>\n",
       "      <th>NAME</th>\n",
       "      <th>DATE</th>\n",
       "      <th>DAPR</th>\n",
       "      <th>MDPR</th>\n",
       "      <th>PRCP</th>\n",
       "      <th>SNOW</th>\n",
       "      <th>SNWD</th>\n",
       "    </tr>\n",
       "  </thead>\n",
       "  <tbody>\n",
       "    <tr>\n",
       "      <th>0</th>\n",
       "      <td>US1ORLA0122</td>\n",
       "      <td>SPRINGFIELD 1.5 SE, OR US</td>\n",
       "      <td>2018-01-01</td>\n",
       "      <td>NaN</td>\n",
       "      <td>NaN</td>\n",
       "      <td>0.02</td>\n",
       "      <td>NaN</td>\n",
       "      <td>NaN</td>\n",
       "    </tr>\n",
       "    <tr>\n",
       "      <th>1</th>\n",
       "      <td>US1ORLA0122</td>\n",
       "      <td>SPRINGFIELD 1.5 SE, OR US</td>\n",
       "      <td>2018-01-02</td>\n",
       "      <td>NaN</td>\n",
       "      <td>NaN</td>\n",
       "      <td>0.00</td>\n",
       "      <td>0.0</td>\n",
       "      <td>NaN</td>\n",
       "    </tr>\n",
       "    <tr>\n",
       "      <th>2</th>\n",
       "      <td>US1ORLA0122</td>\n",
       "      <td>SPRINGFIELD 1.5 SE, OR US</td>\n",
       "      <td>2018-01-03</td>\n",
       "      <td>NaN</td>\n",
       "      <td>NaN</td>\n",
       "      <td>0.00</td>\n",
       "      <td>0.0</td>\n",
       "      <td>NaN</td>\n",
       "    </tr>\n",
       "    <tr>\n",
       "      <th>3</th>\n",
       "      <td>US1ORLA0122</td>\n",
       "      <td>SPRINGFIELD 1.5 SE, OR US</td>\n",
       "      <td>2018-01-04</td>\n",
       "      <td>NaN</td>\n",
       "      <td>NaN</td>\n",
       "      <td>0.02</td>\n",
       "      <td>NaN</td>\n",
       "      <td>NaN</td>\n",
       "    </tr>\n",
       "    <tr>\n",
       "      <th>4</th>\n",
       "      <td>US1ORLA0122</td>\n",
       "      <td>SPRINGFIELD 1.5 SE, OR US</td>\n",
       "      <td>2018-01-05</td>\n",
       "      <td>NaN</td>\n",
       "      <td>NaN</td>\n",
       "      <td>0.13</td>\n",
       "      <td>NaN</td>\n",
       "      <td>NaN</td>\n",
       "    </tr>\n",
       "    <tr>\n",
       "      <th>5</th>\n",
       "      <td>US1ORLA0122</td>\n",
       "      <td>SPRINGFIELD 1.5 SE, OR US</td>\n",
       "      <td>2018-01-06</td>\n",
       "      <td>NaN</td>\n",
       "      <td>NaN</td>\n",
       "      <td>0.17</td>\n",
       "      <td>NaN</td>\n",
       "      <td>NaN</td>\n",
       "    </tr>\n",
       "    <tr>\n",
       "      <th>6</th>\n",
       "      <td>US1ORLA0122</td>\n",
       "      <td>SPRINGFIELD 1.5 SE, OR US</td>\n",
       "      <td>2018-01-07</td>\n",
       "      <td>NaN</td>\n",
       "      <td>NaN</td>\n",
       "      <td>0.00</td>\n",
       "      <td>0.0</td>\n",
       "      <td>NaN</td>\n",
       "    </tr>\n",
       "    <tr>\n",
       "      <th>7</th>\n",
       "      <td>US1ORLA0122</td>\n",
       "      <td>SPRINGFIELD 1.5 SE, OR US</td>\n",
       "      <td>2018-01-08</td>\n",
       "      <td>NaN</td>\n",
       "      <td>NaN</td>\n",
       "      <td>0.00</td>\n",
       "      <td>0.0</td>\n",
       "      <td>NaN</td>\n",
       "    </tr>\n",
       "    <tr>\n",
       "      <th>8</th>\n",
       "      <td>US1ORLA0122</td>\n",
       "      <td>SPRINGFIELD 1.5 SE, OR US</td>\n",
       "      <td>2018-01-09</td>\n",
       "      <td>NaN</td>\n",
       "      <td>NaN</td>\n",
       "      <td>0.50</td>\n",
       "      <td>NaN</td>\n",
       "      <td>NaN</td>\n",
       "    </tr>\n",
       "    <tr>\n",
       "      <th>9</th>\n",
       "      <td>US1ORLA0122</td>\n",
       "      <td>SPRINGFIELD 1.5 SE, OR US</td>\n",
       "      <td>2018-01-10</td>\n",
       "      <td>NaN</td>\n",
       "      <td>NaN</td>\n",
       "      <td>0.36</td>\n",
       "      <td>NaN</td>\n",
       "      <td>NaN</td>\n",
       "    </tr>\n",
       "  </tbody>\n",
       "</table>\n",
       "</div>"
      ],
      "text/plain": [
       "       STATION                       NAME        DATE  DAPR  MDPR  PRCP  SNOW  \\\n",
       "0  US1ORLA0122  SPRINGFIELD 1.5 SE, OR US  2018-01-01   NaN   NaN  0.02   NaN   \n",
       "1  US1ORLA0122  SPRINGFIELD 1.5 SE, OR US  2018-01-02   NaN   NaN  0.00   0.0   \n",
       "2  US1ORLA0122  SPRINGFIELD 1.5 SE, OR US  2018-01-03   NaN   NaN  0.00   0.0   \n",
       "3  US1ORLA0122  SPRINGFIELD 1.5 SE, OR US  2018-01-04   NaN   NaN  0.02   NaN   \n",
       "4  US1ORLA0122  SPRINGFIELD 1.5 SE, OR US  2018-01-05   NaN   NaN  0.13   NaN   \n",
       "5  US1ORLA0122  SPRINGFIELD 1.5 SE, OR US  2018-01-06   NaN   NaN  0.17   NaN   \n",
       "6  US1ORLA0122  SPRINGFIELD 1.5 SE, OR US  2018-01-07   NaN   NaN  0.00   0.0   \n",
       "7  US1ORLA0122  SPRINGFIELD 1.5 SE, OR US  2018-01-08   NaN   NaN  0.00   0.0   \n",
       "8  US1ORLA0122  SPRINGFIELD 1.5 SE, OR US  2018-01-09   NaN   NaN  0.50   NaN   \n",
       "9  US1ORLA0122  SPRINGFIELD 1.5 SE, OR US  2018-01-10   NaN   NaN  0.36   NaN   \n",
       "\n",
       "   SNWD  \n",
       "0   NaN  \n",
       "1   NaN  \n",
       "2   NaN  \n",
       "3   NaN  \n",
       "4   NaN  \n",
       "5   NaN  \n",
       "6   NaN  \n",
       "7   NaN  \n",
       "8   NaN  \n",
       "9   NaN  "
      ]
     },
     "execution_count": 21,
     "metadata": {},
     "output_type": "execute_result"
    }
   ],
   "source": [
    "df_springfield.head(10)"
   ]
  },
  {
   "cell_type": "code",
   "execution_count": 22,
   "id": "274f9ca9-3e3f-4e62-96a6-9fe7667a1d70",
   "metadata": {},
   "outputs": [
    {
     "data": {
      "text/plain": [
       "Index(['STATION', 'NAME', 'DATE', 'DAPR', 'MDPR', 'PRCP', 'SNOW', 'SNWD',\n",
       "       'WESD', 'WESF'],\n",
       "      dtype='object')"
      ]
     },
     "execution_count": 22,
     "metadata": {},
     "output_type": "execute_result"
    }
   ],
   "source": [
    "df_seattle.columns"
   ]
  },
  {
   "cell_type": "code",
   "execution_count": 23,
   "id": "9c4a30e6-7a9d-4612-97b3-9c683643c7c8",
   "metadata": {},
   "outputs": [
    {
     "data": {
      "text/plain": [
       "Index(['STATION', 'NAME', 'DATE', 'DAPR', 'MDPR', 'PRCP', 'SNOW', 'SNWD'], dtype='object')"
      ]
     },
     "execution_count": 23,
     "metadata": {},
     "output_type": "execute_result"
    }
   ],
   "source": [
    "df_springfield.columns"
   ]
  },
  {
   "cell_type": "code",
   "execution_count": 24,
   "id": "02b1fae3-338b-43ff-a863-306877333d46",
   "metadata": {},
   "outputs": [
    {
     "name": "stdout",
     "output_type": "stream",
     "text": [
      "<class 'pandas.core.frame.DataFrame'>\n",
      "RangeIndex: 1658 entries, 0 to 1657\n",
      "Data columns (total 10 columns):\n",
      " #   Column   Non-Null Count  Dtype  \n",
      "---  ------   --------------  -----  \n",
      " 0   STATION  1658 non-null   object \n",
      " 1   NAME     1658 non-null   object \n",
      " 2   DATE     1658 non-null   object \n",
      " 3   DAPR     23 non-null     float64\n",
      " 4   MDPR     23 non-null     float64\n",
      " 5   PRCP     1636 non-null   float64\n",
      " 6   SNOW     353 non-null    float64\n",
      " 7   SNWD     66 non-null     float64\n",
      " 8   WESD     15 non-null     float64\n",
      " 9   WESF     28 non-null     float64\n",
      "dtypes: float64(7), object(3)\n",
      "memory usage: 129.7+ KB\n"
     ]
    }
   ],
   "source": [
    "df_seattle.info()"
   ]
  },
  {
   "cell_type": "code",
   "execution_count": 26,
   "id": "49bb4c7a-ce6d-4e67-ad89-474e8c90fdbc",
   "metadata": {},
   "outputs": [
    {
     "name": "stdout",
     "output_type": "stream",
     "text": [
      "<class 'pandas.core.frame.DataFrame'>\n",
      "RangeIndex: 67375 entries, 0 to 67374\n",
      "Data columns (total 8 columns):\n",
      " #   Column   Non-Null Count  Dtype  \n",
      "---  ------   --------------  -----  \n",
      " 0   STATION  67375 non-null  object \n",
      " 1   NAME     67375 non-null  object \n",
      " 2   DATE     67375 non-null  object \n",
      " 3   DAPR     1358 non-null   float64\n",
      " 4   MDPR     1344 non-null   float64\n",
      " 5   PRCP     65993 non-null  float64\n",
      " 6   SNOW     33828 non-null  float64\n",
      " 7   SNWD     6419 non-null   float64\n",
      "dtypes: float64(5), object(3)\n",
      "memory usage: 4.1+ MB\n"
     ]
    }
   ],
   "source": [
    "df_springfield.info()"
   ]
  },
  {
   "cell_type": "code",
   "execution_count": 31,
   "id": "e3d8e261-e9b9-4a9c-8d14-4f9334ce2c16",
   "metadata": {},
   "outputs": [
    {
     "data": {
      "text/plain": [
       "(1658, 10)"
      ]
     },
     "execution_count": 31,
     "metadata": {},
     "output_type": "execute_result"
    }
   ],
   "source": [
    "df_seattle.shape"
   ]
  },
  {
   "cell_type": "code",
   "execution_count": 32,
   "id": "7483946d-3984-4266-8939-e85c76f1e3d9",
   "metadata": {},
   "outputs": [
    {
     "data": {
      "text/plain": [
       "(67375, 8)"
      ]
     },
     "execution_count": 32,
     "metadata": {},
     "output_type": "execute_result"
    }
   ],
   "source": [
    "df_springfield.shape"
   ]
  },
  {
   "cell_type": "markdown",
   "id": "ddd1fd6f-1166-4ed5-9080-a83b01f5de66",
   "metadata": {},
   "source": [
    "## Understand the Data"
   ]
  },
  {
   "cell_type": "code",
   "execution_count": 34,
   "id": "0f4f00c7-f7f4-49c2-bdcc-46aa84f7bac9",
   "metadata": {},
   "outputs": [
    {
     "data": {
      "text/plain": [
       "array(['US1ORLA0122', 'US1ORLA0166', 'US1ORLA0087', 'US1ORLA0044',\n",
       "       'US1ORLA0121', 'US1ORLA0041', 'US1ORLA0085', 'US1ORLA0042',\n",
       "       'US1ORLA0086', 'US1ORLA0083', 'US1ORLA0160', 'US1ORLA0081',\n",
       "       'US1ORLA0209', 'US1ORLA0208', 'US1ORLA0007', 'US1ORLA0205',\n",
       "       'USW00024221', 'US1ORLA0129', 'US1ORLA0206', 'US1ORLA0126',\n",
       "       'US1ORLA0203', 'US1ORLA0127', 'US1ORLA0036', 'US1ORLA0234',\n",
       "       'US1ORLA0235', 'US1ORLA0112', 'US1ORLA0197', 'US1ORLA0198',\n",
       "       'US1ORLA0072', 'US1ORLA0194', 'US1ORLA0191', 'US1ORLA0190',\n",
       "       'US1ORLA0118', 'US1ORLA0239', 'US1ORLA0038', 'US1ORLA0236',\n",
       "       'US1ORLA0026', 'US1ORLA0103', 'US1ORLA0024', 'US1ORLA0101',\n",
       "       'US1ORLA0189', 'US1ORLA0222', 'US1ORLA0021', 'US1ORLA0065',\n",
       "       'US1ORLA0186', 'US1ORLA0066', 'US1ORLA0020', 'US1ORLA0180',\n",
       "       'US1ORLN0081', 'US1ORLA0229', 'USC00352867', 'US1ORLA0104',\n",
       "       'US1ORLA0225', 'US1ORLA0179', 'US1ORLA0212', 'US1ORLA0056',\n",
       "       'US1ORLA0210', 'US1ORLA0013', 'US1ORLA0057', 'US1ORLA0054',\n",
       "       'US1ORLA0055', 'US1ORLA0097', 'US1ORLA0051', 'US1ORLA0219',\n",
       "       'US1ORLA0216', 'US1ORLA0214', 'US1ORLA0017', 'US1ORLA0215'],\n",
       "      dtype=object)"
      ]
     },
     "execution_count": 34,
     "metadata": {},
     "output_type": "execute_result"
    }
   ],
   "source": [
    "df_springfield['STATION'].unique()"
   ]
  },
  {
   "cell_type": "code",
   "execution_count": 35,
   "id": "ae8e8d39-433b-42f2-91a9-fded3d2be5f0",
   "metadata": {},
   "outputs": [
    {
     "data": {
      "text/plain": [
       "68"
      ]
     },
     "execution_count": 35,
     "metadata": {},
     "output_type": "execute_result"
    }
   ],
   "source": [
    "df_springfield['STATION'].nunique()"
   ]
  },
  {
   "cell_type": "code",
   "execution_count": 36,
   "id": "d81afa81-b993-44af-a339-ef0130ade50b",
   "metadata": {},
   "outputs": [
    {
     "data": {
      "text/plain": [
       "array(['US1WAKG0225'], dtype=object)"
      ]
     },
     "execution_count": 36,
     "metadata": {},
     "output_type": "execute_result"
    }
   ],
   "source": [
    "df_seattle['STATION'].unique()"
   ]
  },
  {
   "cell_type": "code",
   "execution_count": 37,
   "id": "190e3df5-8e61-413b-8dc6-64a38e1cb40e",
   "metadata": {},
   "outputs": [
    {
     "data": {
      "text/plain": [
       "1"
      ]
     },
     "execution_count": 37,
     "metadata": {},
     "output_type": "execute_result"
    }
   ],
   "source": [
    "df_seattle['STATION'].nunique()"
   ]
  },
  {
   "cell_type": "code",
   "execution_count": 38,
   "id": "f86e3415-5284-41da-8453-38fbeadbc658",
   "metadata": {},
   "outputs": [
    {
     "data": {
      "text/plain": [
       "0        2018-01-01\n",
       "1        2018-01-02\n",
       "2        2018-01-03\n",
       "3        2018-01-04\n",
       "4        2018-01-05\n",
       "            ...    \n",
       "67370    2022-06-08\n",
       "67371    2022-06-09\n",
       "67372    2022-06-10\n",
       "67373    2022-06-12\n",
       "67374    2022-06-13\n",
       "Name: DATE, Length: 67375, dtype: object"
      ]
     },
     "execution_count": 38,
     "metadata": {},
     "output_type": "execute_result"
    }
   ],
   "source": [
    "df_springfield['DATE']"
   ]
  },
  {
   "cell_type": "code",
   "execution_count": 44,
   "id": "5c6a1fa7-27d3-4efc-87d6-8a1d407187fa",
   "metadata": {},
   "outputs": [
    {
     "name": "stdout",
     "output_type": "stream",
     "text": [
      "9/9/22 1/1/18\n"
     ]
    }
   ],
   "source": [
    "#this could be misleading with the fact that DATE is not an actual date yet\n",
    "print('Min', df_seattle['DATE'].min(), 'Max', df_seattle['DATE'].max()) "
   ]
  },
  {
   "cell_type": "code",
   "execution_count": 47,
   "id": "f30c900c-50b7-4d31-acb1-81264ec83c6a",
   "metadata": {},
   "outputs": [],
   "source": [
    "df_seattle['DATE'] = pd.to_datetime(df_seattle['DATE'])\n",
    "df_springfield['DATE'] = pd.to_datetime(df_springfield['DATE'])"
   ]
  },
  {
   "cell_type": "code",
   "execution_count": 50,
   "id": "206924cc-1e8d-42cc-8f09-a52422d979fc",
   "metadata": {},
   "outputs": [
    {
     "name": "stdout",
     "output_type": "stream",
     "text": [
      "Seattle Min 2018-01-01 00:00:00 Max 2022-12-31 00:00:00\n",
      "Springfield Min 2018-01-01 00:00:00 Max 2022-12-31 00:00:00\n"
     ]
    }
   ],
   "source": [
    "print('Seattle', 'Min', df_seattle['DATE'].min(), 'Max', df_seattle['DATE'].max()) \n",
    "print('Springfield','Min', df_springfield['DATE'].min(), 'Max', df_springfield['DATE'].max()) "
   ]
  },
  {
   "cell_type": "code",
   "execution_count": 51,
   "id": "a7a10b00-e120-46cd-8434-fcc827d56d30",
   "metadata": {},
   "outputs": [
    {
     "data": {
      "text/plain": [
       "min   2018-01-01\n",
       "max   2022-12-31\n",
       "Name: DATE, dtype: datetime64[ns]"
      ]
     },
     "execution_count": 51,
     "metadata": {},
     "output_type": "execute_result"
    }
   ],
   "source": [
    "# aggregator tool\n",
    "df_seattle['DATE'].agg(['min','max'])"
   ]
  },
  {
   "cell_type": "code",
   "execution_count": 52,
   "id": "94012e18-71b6-434a-bb7f-da15f19d516b",
   "metadata": {},
   "outputs": [
    {
     "data": {
      "text/plain": [
       "min   2018-01-01\n",
       "max   2022-12-31\n",
       "Name: DATE, dtype: datetime64[ns]"
      ]
     },
     "execution_count": 52,
     "metadata": {},
     "output_type": "execute_result"
    }
   ],
   "source": [
    "# aggregator tool\n",
    "df_springfield['DATE'].agg(['min','max'])"
   ]
  },
  {
   "cell_type": "markdown",
   "id": "89afb5d5-462b-4934-ad0e-e7c141be3bdd",
   "metadata": {},
   "source": [
    "## Visualizing Data"
   ]
  },
  {
   "cell_type": "code",
   "execution_count": 54,
   "id": "c97d3cfe-94d8-44a6-b0ed-777cc8c6b6ee",
   "metadata": {},
   "outputs": [
    {
     "data": {
      "image/png": "[encoded data removed]",
      "text/plain": [
       "<Figure size 2000x500 with 1 Axes>"
      ]
     },
     "metadata": {},
     "output_type": "display_data"
    }
   ],
   "source": [
    "plt.figure(figsize=(20,5))\n",
    "\n",
    "sns.lineplot(data=df_seattle, x = 'DATE', y='PRCP')\n",
    "\n",
    "plt.xlabel('Date', fontsize=18)\n",
    "plt.ylabel('Prec (inches)', fontsize=18)\n",
    "\n",
    "plt.tick_params(labelsize=15)\n",
    "\n",
    "plt.show()"
   ]
  },
  {
   "cell_type": "code",
   "execution_count": 56,
   "id": "7f09ada9-612a-4606-a61c-cec5a02a0bfa",
   "metadata": {},
   "outputs": [
    {
     "data": {
      "image/png": "[encoded data removed]",
      "text/plain": [
       "<Figure size 2000x500 with 1 Axes>"
      ]
     },
     "metadata": {},
     "output_type": "display_data"
    }
   ],
   "source": [
    "plt.figure(figsize=(20,5))\n",
    "\n",
    "sns.lineplot(data=df_springfield, x = 'DATE', y='PRCP')\n",
    "\n",
    "plt.xlabel('Date', fontsize=18)\n",
    "plt.ylabel('Prec (inches)', fontsize=18)\n",
    "\n",
    "plt.tick_params(labelsize=15)\n",
    "\n",
    "plt.show()"
   ]
  },
  {
   "cell_type": "markdown",
   "id": "25bff838-95e6-406b-95c3-5f0a65df2105",
   "metadata": {},
   "source": [
    "## Subsetting the Data"
   ]
  },
  {
   "cell_type": "code",
   "execution_count": 59,
   "id": "578ed2b1-64a3-4308-8bcc-8d4e177ed8a8",
   "metadata": {},
   "outputs": [
    {
     "name": "stdout",
     "output_type": "stream",
     "text": [
      "<class 'pandas.core.frame.DataFrame'>\n",
      "Index: 1812 entries, 0 to 1811\n",
      "Data columns (total 8 columns):\n",
      " #   Column   Non-Null Count  Dtype         \n",
      "---  ------   --------------  -----         \n",
      " 0   STATION  1812 non-null   object        \n",
      " 1   NAME     1812 non-null   object        \n",
      " 2   DATE     1812 non-null   datetime64[ns]\n",
      " 3   DAPR     3 non-null      float64       \n",
      " 4   MDPR     3 non-null      float64       \n",
      " 5   PRCP     1809 non-null   float64       \n",
      " 6   SNOW     1050 non-null   float64       \n",
      " 7   SNWD     17 non-null     float64       \n",
      "dtypes: datetime64[ns](1), float64(5), object(2)\n",
      "memory usage: 127.4+ KB\n"
     ]
    }
   ],
   "source": [
    "df_sf_station = df_springfield.loc[df_springfield['STATION'] == 'US1ORLA0122']\n",
    "df_sf_station.info()"
   ]
  },
  {
   "cell_type": "markdown",
   "id": "eab3c478-be9e-410c-bf46-401475548152",
   "metadata": {},
   "source": [
    "## Joining the Data"
   ]
  },
  {
   "cell_type": "code",
   "execution_count": 63,
   "id": "c370d161-1f19-4299-857c-c7d361d3c44a",
   "metadata": {},
   "outputs": [
    {
     "data": {
      "text/html": [
       "<div>\n",
       "<style scoped>\n",
       "    .dataframe tbody tr th:only-of-type {\n",
       "        vertical-align: middle;\n",
       "    }\n",
       "\n",
       "    .dataframe tbody tr th {\n",
       "        vertical-align: top;\n",
       "    }\n",
       "\n",
       "    .dataframe thead th {\n",
       "        text-align: right;\n",
       "    }\n",
       "</style>\n",
       "<table border=\"1\" class=\"dataframe\">\n",
       "  <thead>\n",
       "    <tr style=\"text-align: right;\">\n",
       "      <th></th>\n",
       "      <th>DATE</th>\n",
       "      <th>PRCP_x</th>\n",
       "      <th>PRCP_y</th>\n",
       "    </tr>\n",
       "  </thead>\n",
       "  <tbody>\n",
       "    <tr>\n",
       "      <th>0</th>\n",
       "      <td>2018-01-01</td>\n",
       "      <td>0.00</td>\n",
       "      <td>0.02</td>\n",
       "    </tr>\n",
       "    <tr>\n",
       "      <th>1</th>\n",
       "      <td>2018-01-02</td>\n",
       "      <td>0.00</td>\n",
       "      <td>0.00</td>\n",
       "    </tr>\n",
       "    <tr>\n",
       "      <th>2</th>\n",
       "      <td>2018-01-03</td>\n",
       "      <td>0.00</td>\n",
       "      <td>0.00</td>\n",
       "    </tr>\n",
       "    <tr>\n",
       "      <th>3</th>\n",
       "      <td>2018-01-04</td>\n",
       "      <td>0.00</td>\n",
       "      <td>0.02</td>\n",
       "    </tr>\n",
       "    <tr>\n",
       "      <th>4</th>\n",
       "      <td>2018-01-05</td>\n",
       "      <td>0.25</td>\n",
       "      <td>0.13</td>\n",
       "    </tr>\n",
       "  </tbody>\n",
       "</table>\n",
       "</div>"
      ],
      "text/plain": [
       "        DATE  PRCP_x  PRCP_y\n",
       "0 2018-01-01    0.00    0.02\n",
       "1 2018-01-02    0.00    0.00\n",
       "2 2018-01-03    0.00    0.00\n",
       "3 2018-01-04    0.00    0.02\n",
       "4 2018-01-05    0.25    0.13"
      ]
     },
     "execution_count": 63,
     "metadata": {},
     "output_type": "execute_result"
    }
   ],
   "source": [
    "df_joined = df_seattle[['DATE','PRCP']].merge(df_sf_station[['DATE','PRCP']], on='DATE', how='outer')\n",
    "df_joined.head()"
   ]
  },
  {
   "cell_type": "markdown",
   "id": "2e4f473b-c03e-4179-a95f-12e2b59e8adb",
   "metadata": {},
   "source": [
    "### Let's tidy the data"
   ]
  },
  {
   "cell_type": "code",
   "execution_count": 65,
   "id": "0ab8a4f3-6f7f-43d6-ad2c-eeeb7c0aab49",
   "metadata": {},
   "outputs": [
    {
     "data": {
      "text/html": [
       "<div>\n",
       "<style scoped>\n",
       "    .dataframe tbody tr th:only-of-type {\n",
       "        vertical-align: middle;\n",
       "    }\n",
       "\n",
       "    .dataframe tbody tr th {\n",
       "        vertical-align: top;\n",
       "    }\n",
       "\n",
       "    .dataframe thead th {\n",
       "        text-align: right;\n",
       "    }\n",
       "</style>\n",
       "<table border=\"1\" class=\"dataframe\">\n",
       "  <thead>\n",
       "    <tr style=\"text-align: right;\">\n",
       "      <th></th>\n",
       "      <th>DATE</th>\n",
       "      <th>CITY</th>\n",
       "      <th>PRECIPITATION</th>\n",
       "    </tr>\n",
       "  </thead>\n",
       "  <tbody>\n",
       "    <tr>\n",
       "      <th>0</th>\n",
       "      <td>2018-01-01</td>\n",
       "      <td>PRCP_x</td>\n",
       "      <td>0.00</td>\n",
       "    </tr>\n",
       "    <tr>\n",
       "      <th>1</th>\n",
       "      <td>2018-01-02</td>\n",
       "      <td>PRCP_x</td>\n",
       "      <td>0.00</td>\n",
       "    </tr>\n",
       "    <tr>\n",
       "      <th>2</th>\n",
       "      <td>2018-01-03</td>\n",
       "      <td>PRCP_x</td>\n",
       "      <td>0.00</td>\n",
       "    </tr>\n",
       "    <tr>\n",
       "      <th>3</th>\n",
       "      <td>2018-01-04</td>\n",
       "      <td>PRCP_x</td>\n",
       "      <td>0.00</td>\n",
       "    </tr>\n",
       "    <tr>\n",
       "      <th>4</th>\n",
       "      <td>2018-01-05</td>\n",
       "      <td>PRCP_x</td>\n",
       "      <td>0.25</td>\n",
       "    </tr>\n",
       "  </tbody>\n",
       "</table>\n",
       "</div>"
      ],
      "text/plain": [
       "        DATE    CITY  PRECIPITATION\n",
       "0 2018-01-01  PRCP_x           0.00\n",
       "1 2018-01-02  PRCP_x           0.00\n",
       "2 2018-01-03  PRCP_x           0.00\n",
       "3 2018-01-04  PRCP_x           0.00\n",
       "4 2018-01-05  PRCP_x           0.25"
      ]
     },
     "execution_count": 65,
     "metadata": {},
     "output_type": "execute_result"
    }
   ],
   "source": [
    "df_tidy = pd.melt(df_joined, id_vars = 'DATE', var_name = 'CITY', value_name='PRECIPITATION')\n",
    "df_tidy.head()"
   ]
  },
  {
   "cell_type": "code",
   "execution_count": 71,
   "id": "7afc0fbd-5312-41c1-9219-51b7b626be69",
   "metadata": {},
   "outputs": [
    {
     "data": {
      "text/html": [
       "<div>\n",
       "<style scoped>\n",
       "    .dataframe tbody tr th:only-of-type {\n",
       "        vertical-align: middle;\n",
       "    }\n",
       "\n",
       "    .dataframe tbody tr th {\n",
       "        vertical-align: top;\n",
       "    }\n",
       "\n",
       "    .dataframe thead th {\n",
       "        text-align: right;\n",
       "    }\n",
       "</style>\n",
       "<table border=\"1\" class=\"dataframe\">\n",
       "  <thead>\n",
       "    <tr style=\"text-align: right;\">\n",
       "      <th></th>\n",
       "      <th>DATE</th>\n",
       "      <th>CITY</th>\n",
       "      <th>PRECIPITATION</th>\n",
       "    </tr>\n",
       "  </thead>\n",
       "  <tbody>\n",
       "    <tr>\n",
       "      <th>0</th>\n",
       "      <td>2018-01-01</td>\n",
       "      <td>SPF</td>\n",
       "      <td>0.00</td>\n",
       "    </tr>\n",
       "    <tr>\n",
       "      <th>1</th>\n",
       "      <td>2018-01-02</td>\n",
       "      <td>SPF</td>\n",
       "      <td>0.00</td>\n",
       "    </tr>\n",
       "    <tr>\n",
       "      <th>2</th>\n",
       "      <td>2018-01-03</td>\n",
       "      <td>SPF</td>\n",
       "      <td>0.00</td>\n",
       "    </tr>\n",
       "    <tr>\n",
       "      <th>3</th>\n",
       "      <td>2018-01-04</td>\n",
       "      <td>SPF</td>\n",
       "      <td>0.00</td>\n",
       "    </tr>\n",
       "    <tr>\n",
       "      <th>4</th>\n",
       "      <td>2018-01-05</td>\n",
       "      <td>SPF</td>\n",
       "      <td>0.25</td>\n",
       "    </tr>\n",
       "  </tbody>\n",
       "</table>\n",
       "</div>"
      ],
      "text/plain": [
       "        DATE CITY  PRECIPITATION\n",
       "0 2018-01-01  SPF           0.00\n",
       "1 2018-01-02  SPF           0.00\n",
       "2 2018-01-03  SPF           0.00\n",
       "3 2018-01-04  SPF           0.00\n",
       "4 2018-01-05  SPF           0.25"
      ]
     },
     "execution_count": 71,
     "metadata": {},
     "output_type": "execute_result"
    }
   ],
   "source": [
    "df_tidy.loc[df_tidy['CITY'] == 'PRCP_x', 'CITY'] = 'SPF'\n",
    "df_tidy.loc[df_tidy['CITY'] == 'PRCP_y', 'CITY'] = 'SEA'\n",
    "df_tidy.head() "
   ]
  },
  {
   "cell_type": "markdown",
   "id": "ceac6c7f-70d9-4bd3-9eac-b523d190a027",
   "metadata": {},
   "source": [
    "## Imputing the Data\n",
    "Imputing means creating missing data.\n",
    "Let's start by checking how much data is missing..."
   ]
  },
  {
   "cell_type": "code",
   "execution_count": 72,
   "id": "30bf30a2-3476-47b7-8859-d111afbcc86c",
   "metadata": {},
   "outputs": [
    {
     "data": {
      "text/plain": [
       "DATE             3644\n",
       "CITY             3644\n",
       "PRECIPITATION    3445\n",
       "dtype: int64"
      ]
     },
     "execution_count": 72,
     "metadata": {},
     "output_type": "execute_result"
    }
   ],
   "source": [
    "df_tidy.notna().sum()"
   ]
  },
  {
   "cell_type": "code",
   "execution_count": 73,
   "id": "69798595-8bc0-450a-9a2d-e38d399ad5a7",
   "metadata": {},
   "outputs": [
    {
     "data": {
      "text/plain": [
       "DATE               0\n",
       "CITY               0\n",
       "PRECIPITATION    199\n",
       "dtype: int64"
      ]
     },
     "execution_count": 73,
     "metadata": {},
     "output_type": "execute_result"
    }
   ],
   "source": [
    "df_tidy.isna().sum()"
   ]
  },
  {
   "cell_type": "markdown",
   "id": "e3e01492-041f-40eb-a45a-71222d9b3416",
   "metadata": {},
   "source": [
    "We have missing precipitation values between the joined data sets. Let's see the split between Seattle and Springfield."
   ]
  },
  {
   "cell_type": "code",
   "execution_count": 74,
   "id": "89e985da-2601-4aa7-afc0-77b267078110",
   "metadata": {},
   "outputs": [
    {
     "data": {
      "text/plain": [
       "13"
      ]
     },
     "execution_count": 74,
     "metadata": {},
     "output_type": "execute_result"
    }
   ],
   "source": [
    "df_tidy.loc[df_tidy['CITY'] == 'SEA', 'PRECIPITATION'].isna().sum()"
   ]
  },
  {
   "cell_type": "code",
   "execution_count": 78,
   "id": "74a8940d-ed5b-43ad-95c8-bdb12ccd1bf0",
   "metadata": {},
   "outputs": [
    {
     "data": {
      "text/plain": [
       "1809"
      ]
     },
     "execution_count": 78,
     "metadata": {},
     "output_type": "execute_result"
    }
   ],
   "source": [
    "df_tidy.loc[df_tidy['CITY'] == 'SEA', 'PRECIPITATION'].notna().sum()"
   ]
  },
  {
   "cell_type": "code",
   "execution_count": 94,
   "id": "c49a517e-0c0e-40a0-8ec2-72ff9478b315",
   "metadata": {},
   "outputs": [
    {
     "data": {
      "text/plain": [
       "1822"
      ]
     },
     "execution_count": 94,
     "metadata": {},
     "output_type": "execute_result"
    }
   ],
   "source": [
    "df_tidy.loc[df_tidy['CITY'] == 'SEA', 'PRECIPITATION'].size"
   ]
  },
  {
   "cell_type": "code",
   "execution_count": 96,
   "id": "803deeee-c76a-4bbf-a52d-6ca76e008f0f",
   "metadata": {},
   "outputs": [
    {
     "data": {
      "text/plain": [
       "186"
      ]
     },
     "execution_count": 96,
     "metadata": {},
     "output_type": "execute_result"
    }
   ],
   "source": [
    "df_tidy.loc[df_tidy['CITY'] == 'SPF', 'PRECIPITATION'].isna().sum()"
   ]
  },
  {
   "cell_type": "code",
   "execution_count": 97,
   "id": "5e3bc2f3-bf3a-41fc-bf26-bf482a4b432e",
   "metadata": {},
   "outputs": [
    {
     "data": {
      "text/plain": [
       "1636"
      ]
     },
     "execution_count": 97,
     "metadata": {},
     "output_type": "execute_result"
    }
   ],
   "source": [
    "df_tidy.loc[df_tidy['CITY'] == 'SPF', 'PRECIPITATION'].notna().sum()"
   ]
  },
  {
   "cell_type": "code",
   "execution_count": 98,
   "id": "87e0791c-d1dd-4c19-979b-6fd389024525",
   "metadata": {},
   "outputs": [
    {
     "data": {
      "text/plain": [
       "1822"
      ]
     },
     "execution_count": 98,
     "metadata": {},
     "output_type": "execute_result"
    }
   ],
   "source": [
    "df_tidy.loc[df_tidy['CITY'] == 'SPF', 'PRECIPITATION'].size"
   ]
  },
  {
   "cell_type": "markdown",
   "id": "a90d6015-db1b-484e-ad95-04ea8450116c",
   "metadata": {},
   "source": [
    "So there are a bunch of missing precip values for Springfield. How many full datapoints should we be expecting for each set? Jan 01 2018 to Dec 31 2022 is 5 years"
   ]
  },
  {
   "cell_type": "code",
   "execution_count": 99,
   "id": "8a81945a-2dc2-4b6b-afd3-1f4fa7bd643b",
   "metadata": {},
   "outputs": [
    {
     "data": {
      "text/plain": [
       "1826"
      ]
     },
     "execution_count": 99,
     "metadata": {},
     "output_type": "execute_result"
    }
   ],
   "source": [
    "5 * 365 + 1"
   ]
  },
  {
   "cell_type": "markdown",
   "id": "2b77fe7a-af51-48d9-835c-1cd29c13c7bf",
   "metadata": {},
   "source": [
    "Total should be twice that."
   ]
  },
  {
   "cell_type": "code",
   "execution_count": 179,
   "id": "e2e0738d-5712-4a5c-a4d7-8bb3ab4556bd",
   "metadata": {},
   "outputs": [
    {
     "data": {
      "text/plain": [
       "3652"
      ]
     },
     "execution_count": 179,
     "metadata": {},
     "output_type": "execute_result"
    }
   ],
   "source": [
    "2 * (5 * 365 + 1)"
   ]
  },
  {
   "cell_type": "markdown",
   "id": "3f2531aa-bb2e-4109-990b-c2fe7f602e57",
   "metadata": {},
   "source": [
    "We definitely don't have that -- we're missing some dates from both sets. To determine them, we will need a dataframe of all dates in the period."
   ]
  },
  {
   "cell_type": "code",
   "execution_count": 176,
   "id": "2d9db78e-24bd-405a-924c-428406102ba2",
   "metadata": {},
   "outputs": [
    {
     "data": {
      "text/html": [
       "<div>\n",
       "<style scoped>\n",
       "    .dataframe tbody tr th:only-of-type {\n",
       "        vertical-align: middle;\n",
       "    }\n",
       "\n",
       "    .dataframe tbody tr th {\n",
       "        vertical-align: top;\n",
       "    }\n",
       "\n",
       "    .dataframe thead th {\n",
       "        text-align: right;\n",
       "    }\n",
       "</style>\n",
       "<table border=\"1\" class=\"dataframe\">\n",
       "  <thead>\n",
       "    <tr style=\"text-align: right;\">\n",
       "      <th></th>\n",
       "      <th>DATE</th>\n",
       "    </tr>\n",
       "  </thead>\n",
       "  <tbody>\n",
       "    <tr>\n",
       "      <th>0</th>\n",
       "      <td>2018-01-01</td>\n",
       "    </tr>\n",
       "    <tr>\n",
       "      <th>1</th>\n",
       "      <td>2018-01-02</td>\n",
       "    </tr>\n",
       "    <tr>\n",
       "      <th>2</th>\n",
       "      <td>2018-01-03</td>\n",
       "    </tr>\n",
       "    <tr>\n",
       "      <th>3</th>\n",
       "      <td>2018-01-04</td>\n",
       "    </tr>\n",
       "    <tr>\n",
       "      <th>4</th>\n",
       "      <td>2018-01-05</td>\n",
       "    </tr>\n",
       "    <tr>\n",
       "      <th>...</th>\n",
       "      <td>...</td>\n",
       "    </tr>\n",
       "    <tr>\n",
       "      <th>1821</th>\n",
       "      <td>2022-12-27</td>\n",
       "    </tr>\n",
       "    <tr>\n",
       "      <th>1822</th>\n",
       "      <td>2022-12-28</td>\n",
       "    </tr>\n",
       "    <tr>\n",
       "      <th>1823</th>\n",
       "      <td>2022-12-29</td>\n",
       "    </tr>\n",
       "    <tr>\n",
       "      <th>1824</th>\n",
       "      <td>2022-12-30</td>\n",
       "    </tr>\n",
       "    <tr>\n",
       "      <th>1825</th>\n",
       "      <td>2022-12-31</td>\n",
       "    </tr>\n",
       "  </tbody>\n",
       "</table>\n",
       "<p>1826 rows × 1 columns</p>\n",
       "</div>"
      ],
      "text/plain": [
       "           DATE\n",
       "0    2018-01-01\n",
       "1    2018-01-02\n",
       "2    2018-01-03\n",
       "3    2018-01-04\n",
       "4    2018-01-05\n",
       "...         ...\n",
       "1821 2022-12-27\n",
       "1822 2022-12-28\n",
       "1823 2022-12-29\n",
       "1824 2022-12-30\n",
       "1825 2022-12-31\n",
       "\n",
       "[1826 rows x 1 columns]"
      ]
     },
     "execution_count": 176,
     "metadata": {},
     "output_type": "execute_result"
    }
   ],
   "source": [
    "df_alldates = pd.date_range(start='01-Jan-2018', end='31-Dec-2022', freq='D', name='DATE').to_frame(index=False)\n",
    "df_alldates"
   ]
  },
  {
   "cell_type": "markdown",
   "id": "ac2f9067-d256-432d-8f56-4fc11e68be5d",
   "metadata": {},
   "source": [
    "And then let's make a frame for our cities."
   ]
  },
  {
   "cell_type": "code",
   "execution_count": 116,
   "id": "80860cb6-739c-41b1-a961-1bf4ca95a532",
   "metadata": {},
   "outputs": [
    {
     "data": {
      "text/html": [
       "<div>\n",
       "<style scoped>\n",
       "    .dataframe tbody tr th:only-of-type {\n",
       "        vertical-align: middle;\n",
       "    }\n",
       "\n",
       "    .dataframe tbody tr th {\n",
       "        vertical-align: top;\n",
       "    }\n",
       "\n",
       "    .dataframe thead th {\n",
       "        text-align: right;\n",
       "    }\n",
       "</style>\n",
       "<table border=\"1\" class=\"dataframe\">\n",
       "  <thead>\n",
       "    <tr style=\"text-align: right;\">\n",
       "      <th></th>\n",
       "      <th>CITY</th>\n",
       "    </tr>\n",
       "  </thead>\n",
       "  <tbody>\n",
       "    <tr>\n",
       "      <th>0</th>\n",
       "      <td>SEA</td>\n",
       "    </tr>\n",
       "    <tr>\n",
       "      <th>1</th>\n",
       "      <td>SPF</td>\n",
       "    </tr>\n",
       "  </tbody>\n",
       "</table>\n",
       "</div>"
      ],
      "text/plain": [
       "  CITY\n",
       "0  SEA\n",
       "1  SPF"
      ]
     },
     "execution_count": 116,
     "metadata": {},
     "output_type": "execute_result"
    }
   ],
   "source": [
    "# little dataframe of just the cities\n",
    "df_cities = pd.DataFrame(columns = [\"CITY\"], data=[['SEA'],['SPF']])\n",
    "df_cities\n",
    "\n"
   ]
  },
  {
   "cell_type": "markdown",
   "id": "6acba8b1-ec41-4dec-b5ef-9da8787584de",
   "metadata": {},
   "source": [
    "So now we can cross join the two dataframes we just constructed."
   ]
  },
  {
   "cell_type": "code",
   "execution_count": 175,
   "id": "5136140d-e51d-4a2b-a4dd-1b840190b1d4",
   "metadata": {},
   "outputs": [
    {
     "data": {
      "text/html": [
       "<div>\n",
       "<style scoped>\n",
       "    .dataframe tbody tr th:only-of-type {\n",
       "        vertical-align: middle;\n",
       "    }\n",
       "\n",
       "    .dataframe tbody tr th {\n",
       "        vertical-align: top;\n",
       "    }\n",
       "\n",
       "    .dataframe thead th {\n",
       "        text-align: right;\n",
       "    }\n",
       "</style>\n",
       "<table border=\"1\" class=\"dataframe\">\n",
       "  <thead>\n",
       "    <tr style=\"text-align: right;\">\n",
       "      <th></th>\n",
       "      <th>CITY</th>\n",
       "      <th>DATE</th>\n",
       "    </tr>\n",
       "  </thead>\n",
       "  <tbody>\n",
       "    <tr>\n",
       "      <th>0</th>\n",
       "      <td>SEA</td>\n",
       "      <td>2018-01-01</td>\n",
       "    </tr>\n",
       "    <tr>\n",
       "      <th>1</th>\n",
       "      <td>SEA</td>\n",
       "      <td>2018-01-02</td>\n",
       "    </tr>\n",
       "    <tr>\n",
       "      <th>2</th>\n",
       "      <td>SEA</td>\n",
       "      <td>2018-01-03</td>\n",
       "    </tr>\n",
       "    <tr>\n",
       "      <th>3</th>\n",
       "      <td>SEA</td>\n",
       "      <td>2018-01-04</td>\n",
       "    </tr>\n",
       "    <tr>\n",
       "      <th>4</th>\n",
       "      <td>SEA</td>\n",
       "      <td>2018-01-05</td>\n",
       "    </tr>\n",
       "    <tr>\n",
       "      <th>...</th>\n",
       "      <td>...</td>\n",
       "      <td>...</td>\n",
       "    </tr>\n",
       "    <tr>\n",
       "      <th>3647</th>\n",
       "      <td>SPF</td>\n",
       "      <td>2022-12-27</td>\n",
       "    </tr>\n",
       "    <tr>\n",
       "      <th>3648</th>\n",
       "      <td>SPF</td>\n",
       "      <td>2022-12-28</td>\n",
       "    </tr>\n",
       "    <tr>\n",
       "      <th>3649</th>\n",
       "      <td>SPF</td>\n",
       "      <td>2022-12-29</td>\n",
       "    </tr>\n",
       "    <tr>\n",
       "      <th>3650</th>\n",
       "      <td>SPF</td>\n",
       "      <td>2022-12-30</td>\n",
       "    </tr>\n",
       "    <tr>\n",
       "      <th>3651</th>\n",
       "      <td>SPF</td>\n",
       "      <td>2022-12-31</td>\n",
       "    </tr>\n",
       "  </tbody>\n",
       "</table>\n",
       "<p>3652 rows × 2 columns</p>\n",
       "</div>"
      ],
      "text/plain": [
       "     CITY       DATE\n",
       "0     SEA 2018-01-01\n",
       "1     SEA 2018-01-02\n",
       "2     SEA 2018-01-03\n",
       "3     SEA 2018-01-04\n",
       "4     SEA 2018-01-05\n",
       "...   ...        ...\n",
       "3647  SPF 2022-12-27\n",
       "3648  SPF 2022-12-28\n",
       "3649  SPF 2022-12-29\n",
       "3650  SPF 2022-12-30\n",
       "3651  SPF 2022-12-31\n",
       "\n",
       "[3652 rows x 2 columns]"
      ]
     },
     "execution_count": 175,
     "metadata": {},
     "output_type": "execute_result"
    }
   ],
   "source": [
    "#cross join\n",
    "df_citydate = df_cities.merge(df_alldates, how='cross')\n",
    "df_citydate\n"
   ]
  },
  {
   "cell_type": "markdown",
   "id": "bb6fd822-fa06-47de-b74c-85cbe08042db",
   "metadata": {},
   "source": [
    "Now we can outer join our expected data with what we actually have to determine the missing dates."
   ]
  },
  {
   "cell_type": "code",
   "execution_count": 207,
   "id": "d2de877e-747c-4f24-85bb-4d3618208fcc",
   "metadata": {},
   "outputs": [
    {
     "data": {
      "text/html": [
       "<div>\n",
       "<style scoped>\n",
       "    .dataframe tbody tr th:only-of-type {\n",
       "        vertical-align: middle;\n",
       "    }\n",
       "\n",
       "    .dataframe tbody tr th {\n",
       "        vertical-align: top;\n",
       "    }\n",
       "\n",
       "    .dataframe thead th {\n",
       "        text-align: right;\n",
       "    }\n",
       "</style>\n",
       "<table border=\"1\" class=\"dataframe\">\n",
       "  <thead>\n",
       "    <tr style=\"text-align: right;\">\n",
       "      <th></th>\n",
       "      <th>DATE</th>\n",
       "      <th>CITY</th>\n",
       "      <th>PRECIPITATION</th>\n",
       "    </tr>\n",
       "  </thead>\n",
       "  <tbody>\n",
       "    <tr>\n",
       "      <th>0</th>\n",
       "      <td>2018-01-01</td>\n",
       "      <td>SEA</td>\n",
       "      <td>0.02</td>\n",
       "    </tr>\n",
       "    <tr>\n",
       "      <th>1</th>\n",
       "      <td>2018-01-02</td>\n",
       "      <td>SEA</td>\n",
       "      <td>0.00</td>\n",
       "    </tr>\n",
       "    <tr>\n",
       "      <th>2</th>\n",
       "      <td>2018-01-03</td>\n",
       "      <td>SEA</td>\n",
       "      <td>0.00</td>\n",
       "    </tr>\n",
       "    <tr>\n",
       "      <th>3</th>\n",
       "      <td>2018-01-04</td>\n",
       "      <td>SEA</td>\n",
       "      <td>0.02</td>\n",
       "    </tr>\n",
       "    <tr>\n",
       "      <th>4</th>\n",
       "      <td>2018-01-05</td>\n",
       "      <td>SEA</td>\n",
       "      <td>0.13</td>\n",
       "    </tr>\n",
       "    <tr>\n",
       "      <th>...</th>\n",
       "      <td>...</td>\n",
       "      <td>...</td>\n",
       "      <td>...</td>\n",
       "    </tr>\n",
       "    <tr>\n",
       "      <th>3647</th>\n",
       "      <td>2022-12-27</td>\n",
       "      <td>SPF</td>\n",
       "      <td>0.78</td>\n",
       "    </tr>\n",
       "    <tr>\n",
       "      <th>3648</th>\n",
       "      <td>2022-12-28</td>\n",
       "      <td>SPF</td>\n",
       "      <td>0.40</td>\n",
       "    </tr>\n",
       "    <tr>\n",
       "      <th>3649</th>\n",
       "      <td>2022-12-29</td>\n",
       "      <td>SPF</td>\n",
       "      <td>0.03</td>\n",
       "    </tr>\n",
       "    <tr>\n",
       "      <th>3650</th>\n",
       "      <td>2022-12-30</td>\n",
       "      <td>SPF</td>\n",
       "      <td>0.62</td>\n",
       "    </tr>\n",
       "    <tr>\n",
       "      <th>3651</th>\n",
       "      <td>2022-12-31</td>\n",
       "      <td>SPF</td>\n",
       "      <td>0.17</td>\n",
       "    </tr>\n",
       "  </tbody>\n",
       "</table>\n",
       "<p>3652 rows × 3 columns</p>\n",
       "</div>"
      ],
      "text/plain": [
       "           DATE CITY  PRECIPITATION\n",
       "0    2018-01-01  SEA           0.02\n",
       "1    2018-01-02  SEA           0.00\n",
       "2    2018-01-03  SEA           0.00\n",
       "3    2018-01-04  SEA           0.02\n",
       "4    2018-01-05  SEA           0.13\n",
       "...         ...  ...            ...\n",
       "3647 2022-12-27  SPF           0.78\n",
       "3648 2022-12-28  SPF           0.40\n",
       "3649 2022-12-29  SPF           0.03\n",
       "3650 2022-12-30  SPF           0.62\n",
       "3651 2022-12-31  SPF           0.17\n",
       "\n",
       "[3652 rows x 3 columns]"
      ]
     },
     "execution_count": 207,
     "metadata": {},
     "output_type": "execute_result"
    }
   ],
   "source": [
    "df_tidy_a = pd.merge(df_tidy, df_citydate, on=['DATE','CITY'], how='outer').sort_values(['CITY','DATE']).reset_index(drop=True)\n",
    "df_tidy_a"
   ]
  },
  {
   "cell_type": "markdown",
   "id": "f213a2ab-e6b8-4c85-9d6b-d399a88be2a8",
   "metadata": {},
   "source": [
    "And we can see that we do in fact have the 3652 records we are expecting. Now, let's consider how to treat all those missing values. "
   ]
  },
  {
   "cell_type": "code",
   "execution_count": 208,
   "id": "82d4799d-05ec-47c1-9617-41a1a58741e3",
   "metadata": {},
   "outputs": [
    {
     "data": {
      "text/html": [
       "<div>\n",
       "<style scoped>\n",
       "    .dataframe tbody tr th:only-of-type {\n",
       "        vertical-align: middle;\n",
       "    }\n",
       "\n",
       "    .dataframe tbody tr th {\n",
       "        vertical-align: top;\n",
       "    }\n",
       "\n",
       "    .dataframe thead th {\n",
       "        text-align: right;\n",
       "    }\n",
       "</style>\n",
       "<table border=\"1\" class=\"dataframe\">\n",
       "  <thead>\n",
       "    <tr style=\"text-align: right;\">\n",
       "      <th></th>\n",
       "      <th>DATE</th>\n",
       "      <th>CITY</th>\n",
       "      <th>PRECIPITATION</th>\n",
       "    </tr>\n",
       "  </thead>\n",
       "  <tbody>\n",
       "    <tr>\n",
       "      <th>37</th>\n",
       "      <td>2018-02-07</td>\n",
       "      <td>SEA</td>\n",
       "      <td>NaN</td>\n",
       "    </tr>\n",
       "    <tr>\n",
       "      <th>38</th>\n",
       "      <td>2018-02-08</td>\n",
       "      <td>SEA</td>\n",
       "      <td>NaN</td>\n",
       "    </tr>\n",
       "    <tr>\n",
       "      <th>39</th>\n",
       "      <td>2018-02-09</td>\n",
       "      <td>SEA</td>\n",
       "      <td>NaN</td>\n",
       "    </tr>\n",
       "    <tr>\n",
       "      <th>490</th>\n",
       "      <td>2019-05-06</td>\n",
       "      <td>SEA</td>\n",
       "      <td>NaN</td>\n",
       "    </tr>\n",
       "    <tr>\n",
       "      <th>549</th>\n",
       "      <td>2019-07-04</td>\n",
       "      <td>SEA</td>\n",
       "      <td>NaN</td>\n",
       "    </tr>\n",
       "    <tr>\n",
       "      <th>...</th>\n",
       "      <td>...</td>\n",
       "      <td>...</td>\n",
       "      <td>...</td>\n",
       "    </tr>\n",
       "    <tr>\n",
       "      <th>3368</th>\n",
       "      <td>2022-03-23</td>\n",
       "      <td>SPF</td>\n",
       "      <td>NaN</td>\n",
       "    </tr>\n",
       "    <tr>\n",
       "      <th>3369</th>\n",
       "      <td>2022-03-24</td>\n",
       "      <td>SPF</td>\n",
       "      <td>NaN</td>\n",
       "    </tr>\n",
       "    <tr>\n",
       "      <th>3370</th>\n",
       "      <td>2022-03-25</td>\n",
       "      <td>SPF</td>\n",
       "      <td>NaN</td>\n",
       "    </tr>\n",
       "    <tr>\n",
       "      <th>3371</th>\n",
       "      <td>2022-03-26</td>\n",
       "      <td>SPF</td>\n",
       "      <td>NaN</td>\n",
       "    </tr>\n",
       "    <tr>\n",
       "      <th>3372</th>\n",
       "      <td>2022-03-27</td>\n",
       "      <td>SPF</td>\n",
       "      <td>NaN</td>\n",
       "    </tr>\n",
       "  </tbody>\n",
       "</table>\n",
       "<p>207 rows × 3 columns</p>\n",
       "</div>"
      ],
      "text/plain": [
       "           DATE CITY  PRECIPITATION\n",
       "37   2018-02-07  SEA            NaN\n",
       "38   2018-02-08  SEA            NaN\n",
       "39   2018-02-09  SEA            NaN\n",
       "490  2019-05-06  SEA            NaN\n",
       "549  2019-07-04  SEA            NaN\n",
       "...         ...  ...            ...\n",
       "3368 2022-03-23  SPF            NaN\n",
       "3369 2022-03-24  SPF            NaN\n",
       "3370 2022-03-25  SPF            NaN\n",
       "3371 2022-03-26  SPF            NaN\n",
       "3372 2022-03-27  SPF            NaN\n",
       "\n",
       "[207 rows x 3 columns]"
      ]
     },
     "execution_count": 208,
     "metadata": {},
     "output_type": "execute_result"
    }
   ],
   "source": [
    "df_tidy_a.loc[df_tidy_a['PRECIPITATION'].isna()]"
   ]
  },
  {
   "cell_type": "markdown",
   "id": "0aea7f2a-7209-45e2-b96c-f0a5e36ef854",
   "metadata": {},
   "source": [
    "Let's consider using the mean for precip by each city set..."
   ]
  },
  {
   "cell_type": "code",
   "execution_count": 209,
   "id": "a41c3778-2d91-48fc-bb6a-cb58060f5688",
   "metadata": {},
   "outputs": [
    {
     "data": {
      "text/plain": [
       "0.10874516307352128"
      ]
     },
     "execution_count": 209,
     "metadata": {},
     "output_type": "execute_result"
    }
   ],
   "source": [
    "#testing getting mean for a subset\n",
    "df_tidy_a.loc[df_tidy_a['CITY'] == 'SEA', 'PRECIPITATION'].mean()"
   ]
  },
  {
   "cell_type": "markdown",
   "id": "c2461ab6-21ad-4c1d-9fbf-1746800ce95e",
   "metadata": {},
   "source": [
    "But that will likely be too broad a mean. Let's use day of year for each city set as well (there should be nearly five instances of each day.) We will need a day of year column."
   ]
  },
  {
   "cell_type": "code",
   "execution_count": 211,
   "id": "a9224c1d-c4d1-46bd-b15e-62ffbadc5e28",
   "metadata": {},
   "outputs": [
    {
     "data": {
      "text/html": [
       "<div>\n",
       "<style scoped>\n",
       "    .dataframe tbody tr th:only-of-type {\n",
       "        vertical-align: middle;\n",
       "    }\n",
       "\n",
       "    .dataframe tbody tr th {\n",
       "        vertical-align: top;\n",
       "    }\n",
       "\n",
       "    .dataframe thead th {\n",
       "        text-align: right;\n",
       "    }\n",
       "</style>\n",
       "<table border=\"1\" class=\"dataframe\">\n",
       "  <thead>\n",
       "    <tr style=\"text-align: right;\">\n",
       "      <th></th>\n",
       "      <th>DATE</th>\n",
       "      <th>CITY</th>\n",
       "      <th>PRECIPITATION</th>\n",
       "      <th>DAY_OF_YEAR</th>\n",
       "    </tr>\n",
       "  </thead>\n",
       "  <tbody>\n",
       "    <tr>\n",
       "      <th>0</th>\n",
       "      <td>2018-01-01</td>\n",
       "      <td>SEA</td>\n",
       "      <td>0.02</td>\n",
       "      <td>1</td>\n",
       "    </tr>\n",
       "    <tr>\n",
       "      <th>1</th>\n",
       "      <td>2018-01-02</td>\n",
       "      <td>SEA</td>\n",
       "      <td>0.00</td>\n",
       "      <td>2</td>\n",
       "    </tr>\n",
       "    <tr>\n",
       "      <th>2</th>\n",
       "      <td>2018-01-03</td>\n",
       "      <td>SEA</td>\n",
       "      <td>0.00</td>\n",
       "      <td>3</td>\n",
       "    </tr>\n",
       "    <tr>\n",
       "      <th>3</th>\n",
       "      <td>2018-01-04</td>\n",
       "      <td>SEA</td>\n",
       "      <td>0.02</td>\n",
       "      <td>4</td>\n",
       "    </tr>\n",
       "    <tr>\n",
       "      <th>4</th>\n",
       "      <td>2018-01-05</td>\n",
       "      <td>SEA</td>\n",
       "      <td>0.13</td>\n",
       "      <td>5</td>\n",
       "    </tr>\n",
       "    <tr>\n",
       "      <th>...</th>\n",
       "      <td>...</td>\n",
       "      <td>...</td>\n",
       "      <td>...</td>\n",
       "      <td>...</td>\n",
       "    </tr>\n",
       "    <tr>\n",
       "      <th>3647</th>\n",
       "      <td>2022-12-27</td>\n",
       "      <td>SPF</td>\n",
       "      <td>0.78</td>\n",
       "      <td>361</td>\n",
       "    </tr>\n",
       "    <tr>\n",
       "      <th>3648</th>\n",
       "      <td>2022-12-28</td>\n",
       "      <td>SPF</td>\n",
       "      <td>0.40</td>\n",
       "      <td>362</td>\n",
       "    </tr>\n",
       "    <tr>\n",
       "      <th>3649</th>\n",
       "      <td>2022-12-29</td>\n",
       "      <td>SPF</td>\n",
       "      <td>0.03</td>\n",
       "      <td>363</td>\n",
       "    </tr>\n",
       "    <tr>\n",
       "      <th>3650</th>\n",
       "      <td>2022-12-30</td>\n",
       "      <td>SPF</td>\n",
       "      <td>0.62</td>\n",
       "      <td>364</td>\n",
       "    </tr>\n",
       "    <tr>\n",
       "      <th>3651</th>\n",
       "      <td>2022-12-31</td>\n",
       "      <td>SPF</td>\n",
       "      <td>0.17</td>\n",
       "      <td>365</td>\n",
       "    </tr>\n",
       "  </tbody>\n",
       "</table>\n",
       "<p>3652 rows × 4 columns</p>\n",
       "</div>"
      ],
      "text/plain": [
       "           DATE CITY  PRECIPITATION  DAY_OF_YEAR\n",
       "0    2018-01-01  SEA           0.02            1\n",
       "1    2018-01-02  SEA           0.00            2\n",
       "2    2018-01-03  SEA           0.00            3\n",
       "3    2018-01-04  SEA           0.02            4\n",
       "4    2018-01-05  SEA           0.13            5\n",
       "...         ...  ...            ...          ...\n",
       "3647 2022-12-27  SPF           0.78          361\n",
       "3648 2022-12-28  SPF           0.40          362\n",
       "3649 2022-12-29  SPF           0.03          363\n",
       "3650 2022-12-30  SPF           0.62          364\n",
       "3651 2022-12-31  SPF           0.17          365\n",
       "\n",
       "[3652 rows x 4 columns]"
      ]
     },
     "execution_count": 211,
     "metadata": {},
     "output_type": "execute_result"
    }
   ],
   "source": [
    "df_tidy_a['DAY_OF_YEAR'] = pd.DatetimeIndex(df_tidy_a['DATE']).day_of_year\n",
    "df_tidy_a"
   ]
  },
  {
   "cell_type": "markdown",
   "id": "8c919368-f072-4e0d-80c0-40de5dc94454",
   "metadata": {},
   "source": [
    "Now let's create a dataframe of just averages in appropriate groups by "
   ]
  },
  {
   "cell_type": "code",
   "execution_count": 212,
   "id": "3ab26af9-128d-4536-81e3-18c397fc982e",
   "metadata": {},
   "outputs": [
    {
     "data": {
      "text/html": [
       "<div>\n",
       "<style scoped>\n",
       "    .dataframe tbody tr th:only-of-type {\n",
       "        vertical-align: middle;\n",
       "    }\n",
       "\n",
       "    .dataframe tbody tr th {\n",
       "        vertical-align: top;\n",
       "    }\n",
       "\n",
       "    .dataframe thead th {\n",
       "        text-align: right;\n",
       "    }\n",
       "</style>\n",
       "<table border=\"1\" class=\"dataframe\">\n",
       "  <thead>\n",
       "    <tr style=\"text-align: right;\">\n",
       "      <th></th>\n",
       "      <th>CITY</th>\n",
       "      <th>DAY_OF_YEAR</th>\n",
       "      <th>AVG</th>\n",
       "    </tr>\n",
       "  </thead>\n",
       "  <tbody>\n",
       "    <tr>\n",
       "      <th>0</th>\n",
       "      <td>SEA</td>\n",
       "      <td>1</td>\n",
       "      <td>0.128</td>\n",
       "    </tr>\n",
       "    <tr>\n",
       "      <th>1</th>\n",
       "      <td>SEA</td>\n",
       "      <td>2</td>\n",
       "      <td>0.084</td>\n",
       "    </tr>\n",
       "    <tr>\n",
       "      <th>2</th>\n",
       "      <td>SEA</td>\n",
       "      <td>3</td>\n",
       "      <td>0.242</td>\n",
       "    </tr>\n",
       "    <tr>\n",
       "      <th>3</th>\n",
       "      <td>SEA</td>\n",
       "      <td>4</td>\n",
       "      <td>0.438</td>\n",
       "    </tr>\n",
       "    <tr>\n",
       "      <th>4</th>\n",
       "      <td>SEA</td>\n",
       "      <td>5</td>\n",
       "      <td>0.312</td>\n",
       "    </tr>\n",
       "    <tr>\n",
       "      <th>...</th>\n",
       "      <td>...</td>\n",
       "      <td>...</td>\n",
       "      <td>...</td>\n",
       "    </tr>\n",
       "    <tr>\n",
       "      <th>727</th>\n",
       "      <td>SPF</td>\n",
       "      <td>362</td>\n",
       "      <td>0.120</td>\n",
       "    </tr>\n",
       "    <tr>\n",
       "      <th>728</th>\n",
       "      <td>SPF</td>\n",
       "      <td>363</td>\n",
       "      <td>0.102</td>\n",
       "    </tr>\n",
       "    <tr>\n",
       "      <th>729</th>\n",
       "      <td>SPF</td>\n",
       "      <td>364</td>\n",
       "      <td>0.268</td>\n",
       "    </tr>\n",
       "    <tr>\n",
       "      <th>730</th>\n",
       "      <td>SPF</td>\n",
       "      <td>365</td>\n",
       "      <td>0.140</td>\n",
       "    </tr>\n",
       "    <tr>\n",
       "      <th>731</th>\n",
       "      <td>SPF</td>\n",
       "      <td>366</td>\n",
       "      <td>0.500</td>\n",
       "    </tr>\n",
       "  </tbody>\n",
       "</table>\n",
       "<p>732 rows × 3 columns</p>\n",
       "</div>"
      ],
      "text/plain": [
       "    CITY  DAY_OF_YEAR    AVG\n",
       "0    SEA            1  0.128\n",
       "1    SEA            2  0.084\n",
       "2    SEA            3  0.242\n",
       "3    SEA            4  0.438\n",
       "4    SEA            5  0.312\n",
       "..   ...          ...    ...\n",
       "727  SPF          362  0.120\n",
       "728  SPF          363  0.102\n",
       "729  SPF          364  0.268\n",
       "730  SPF          365  0.140\n",
       "731  SPF          366  0.500\n",
       "\n",
       "[732 rows x 3 columns]"
      ]
     },
     "execution_count": 212,
     "metadata": {},
     "output_type": "execute_result"
    }
   ],
   "source": [
    "df_daycityavg = pd.DataFrame(df_tidy_a.groupby(['CITY','DAY_OF_YEAR'])['PRECIPITATION'].mean()).reset_index()\n",
    "df_daycityavg.rename(columns={'PRECIPITATION':'AVG'}, inplace=True)\n",
    "df_daycityavg"
   ]
  },
  {
   "cell_type": "markdown",
   "id": "30bd2239-9533-418d-bb43-e216dc47f35d",
   "metadata": {},
   "source": [
    "We need to apply the averages to our existing larger dataframe. We can join them in."
   ]
  },
  {
   "cell_type": "code",
   "execution_count": 214,
   "id": "02d5f511-52f7-4cb9-abc7-92c0b4d587a3",
   "metadata": {},
   "outputs": [
    {
     "data": {
      "text/html": [
       "<div>\n",
       "<style scoped>\n",
       "    .dataframe tbody tr th:only-of-type {\n",
       "        vertical-align: middle;\n",
       "    }\n",
       "\n",
       "    .dataframe tbody tr th {\n",
       "        vertical-align: top;\n",
       "    }\n",
       "\n",
       "    .dataframe thead th {\n",
       "        text-align: right;\n",
       "    }\n",
       "</style>\n",
       "<table border=\"1\" class=\"dataframe\">\n",
       "  <thead>\n",
       "    <tr style=\"text-align: right;\">\n",
       "      <th></th>\n",
       "      <th>DATE</th>\n",
       "      <th>CITY</th>\n",
       "      <th>PRECIPITATION</th>\n",
       "      <th>DAY_OF_YEAR</th>\n",
       "      <th>AVG</th>\n",
       "    </tr>\n",
       "  </thead>\n",
       "  <tbody>\n",
       "    <tr>\n",
       "      <th>0</th>\n",
       "      <td>2018-01-01</td>\n",
       "      <td>SEA</td>\n",
       "      <td>0.02</td>\n",
       "      <td>1</td>\n",
       "      <td>0.128</td>\n",
       "    </tr>\n",
       "    <tr>\n",
       "      <th>1</th>\n",
       "      <td>2018-01-02</td>\n",
       "      <td>SEA</td>\n",
       "      <td>0.00</td>\n",
       "      <td>2</td>\n",
       "      <td>0.084</td>\n",
       "    </tr>\n",
       "    <tr>\n",
       "      <th>2</th>\n",
       "      <td>2018-01-03</td>\n",
       "      <td>SEA</td>\n",
       "      <td>0.00</td>\n",
       "      <td>3</td>\n",
       "      <td>0.242</td>\n",
       "    </tr>\n",
       "    <tr>\n",
       "      <th>3</th>\n",
       "      <td>2018-01-04</td>\n",
       "      <td>SEA</td>\n",
       "      <td>0.02</td>\n",
       "      <td>4</td>\n",
       "      <td>0.438</td>\n",
       "    </tr>\n",
       "    <tr>\n",
       "      <th>4</th>\n",
       "      <td>2018-01-05</td>\n",
       "      <td>SEA</td>\n",
       "      <td>0.13</td>\n",
       "      <td>5</td>\n",
       "      <td>0.312</td>\n",
       "    </tr>\n",
       "    <tr>\n",
       "      <th>...</th>\n",
       "      <td>...</td>\n",
       "      <td>...</td>\n",
       "      <td>...</td>\n",
       "      <td>...</td>\n",
       "      <td>...</td>\n",
       "    </tr>\n",
       "    <tr>\n",
       "      <th>3647</th>\n",
       "      <td>2022-12-27</td>\n",
       "      <td>SPF</td>\n",
       "      <td>0.78</td>\n",
       "      <td>361</td>\n",
       "      <td>0.304</td>\n",
       "    </tr>\n",
       "    <tr>\n",
       "      <th>3648</th>\n",
       "      <td>2022-12-28</td>\n",
       "      <td>SPF</td>\n",
       "      <td>0.40</td>\n",
       "      <td>362</td>\n",
       "      <td>0.120</td>\n",
       "    </tr>\n",
       "    <tr>\n",
       "      <th>3649</th>\n",
       "      <td>2022-12-29</td>\n",
       "      <td>SPF</td>\n",
       "      <td>0.03</td>\n",
       "      <td>363</td>\n",
       "      <td>0.102</td>\n",
       "    </tr>\n",
       "    <tr>\n",
       "      <th>3650</th>\n",
       "      <td>2022-12-30</td>\n",
       "      <td>SPF</td>\n",
       "      <td>0.62</td>\n",
       "      <td>364</td>\n",
       "      <td>0.268</td>\n",
       "    </tr>\n",
       "    <tr>\n",
       "      <th>3651</th>\n",
       "      <td>2022-12-31</td>\n",
       "      <td>SPF</td>\n",
       "      <td>0.17</td>\n",
       "      <td>365</td>\n",
       "      <td>0.140</td>\n",
       "    </tr>\n",
       "  </tbody>\n",
       "</table>\n",
       "<p>3652 rows × 5 columns</p>\n",
       "</div>"
      ],
      "text/plain": [
       "           DATE CITY  PRECIPITATION  DAY_OF_YEAR    AVG\n",
       "0    2018-01-01  SEA           0.02            1  0.128\n",
       "1    2018-01-02  SEA           0.00            2  0.084\n",
       "2    2018-01-03  SEA           0.00            3  0.242\n",
       "3    2018-01-04  SEA           0.02            4  0.438\n",
       "4    2018-01-05  SEA           0.13            5  0.312\n",
       "...         ...  ...            ...          ...    ...\n",
       "3647 2022-12-27  SPF           0.78          361  0.304\n",
       "3648 2022-12-28  SPF           0.40          362  0.120\n",
       "3649 2022-12-29  SPF           0.03          363  0.102\n",
       "3650 2022-12-30  SPF           0.62          364  0.268\n",
       "3651 2022-12-31  SPF           0.17          365  0.140\n",
       "\n",
       "[3652 rows x 5 columns]"
      ]
     },
     "execution_count": 214,
     "metadata": {},
     "output_type": "execute_result"
    }
   ],
   "source": [
    "df_w_avg = pd.merge(df_tidy_a, df_daycityavg, on=['DAY_OF_YEAR','CITY'], how='inner').sort_values(['CITY','DATE']).reset_index(drop=True)\n",
    "df_w_avg"
   ]
  },
  {
   "cell_type": "markdown",
   "id": "d1e65c19-aea6-4e8a-9d7e-feb86671f0a9",
   "metadata": {},
   "source": [
    "So now we create a new column holding one or the other, depending on if precipitation was NaN."
   ]
  },
  {
   "cell_type": "code",
   "execution_count": 219,
   "id": "c12453c1-026a-451b-ab34-ce3207daa54d",
   "metadata": {},
   "outputs": [],
   "source": [
    "df_w_avg.loc[df_tidy_b['PRECIPITATION'].isna(), 'PRECIPITATION_OR_AVG'] = df_tidy_b.loc[df_tidy_b['PRECIPITATION'].isna(), 'AVG']\n",
    "df_w_avg.loc[df_tidy_b['PRECIPITATION'].notna(), 'PRECIPITATION_OR_AVG'] = df_tidy_b.loc[df_tidy_b['PRECIPITATION'].notna(), 'PRECIPITATION']"
   ]
  },
  {
   "cell_type": "markdown",
   "id": "5a277016-be7f-43ce-b407-348cf3fa5568",
   "metadata": {},
   "source": [
    "Check that missing precip dates uses average."
   ]
  },
  {
   "cell_type": "code",
   "execution_count": 220,
   "id": "efc2fc92-f6b2-40a3-a6c5-a1140d39a6d9",
   "metadata": {},
   "outputs": [
    {
     "data": {
      "text/html": [
       "<div>\n",
       "<style scoped>\n",
       "    .dataframe tbody tr th:only-of-type {\n",
       "        vertical-align: middle;\n",
       "    }\n",
       "\n",
       "    .dataframe tbody tr th {\n",
       "        vertical-align: top;\n",
       "    }\n",
       "\n",
       "    .dataframe thead th {\n",
       "        text-align: right;\n",
       "    }\n",
       "</style>\n",
       "<table border=\"1\" class=\"dataframe\">\n",
       "  <thead>\n",
       "    <tr style=\"text-align: right;\">\n",
       "      <th></th>\n",
       "      <th>DATE</th>\n",
       "      <th>CITY</th>\n",
       "      <th>PRECIPITATION</th>\n",
       "      <th>DAY_OF_YEAR</th>\n",
       "      <th>AVG</th>\n",
       "      <th>PRECIPITATION_OR_AVG</th>\n",
       "    </tr>\n",
       "  </thead>\n",
       "  <tbody>\n",
       "    <tr>\n",
       "      <th>37</th>\n",
       "      <td>2018-02-07</td>\n",
       "      <td>SEA</td>\n",
       "      <td>NaN</td>\n",
       "      <td>38</td>\n",
       "      <td>0.01</td>\n",
       "      <td>0.01</td>\n",
       "    </tr>\n",
       "  </tbody>\n",
       "</table>\n",
       "</div>"
      ],
      "text/plain": [
       "         DATE CITY  PRECIPITATION  DAY_OF_YEAR   AVG  PRECIPITATION_OR_AVG\n",
       "37 2018-02-07  SEA            NaN           38  0.01                  0.01"
      ]
     },
     "execution_count": 220,
     "metadata": {},
     "output_type": "execute_result"
    }
   ],
   "source": [
    "df_w_avg.loc[df_tidy_b['PRECIPITATION'].isna()].head(1)"
   ]
  },
  {
   "cell_type": "markdown",
   "id": "2c07ba42-ca6f-472f-811c-c839f343a303",
   "metadata": {},
   "source": [
    "Check that not missing precip dates uses true precip."
   ]
  },
  {
   "cell_type": "code",
   "execution_count": 221,
   "id": "da3bc088-4ace-4ee1-8f06-6803b67fb422",
   "metadata": {},
   "outputs": [
    {
     "data": {
      "text/html": [
       "<div>\n",
       "<style scoped>\n",
       "    .dataframe tbody tr th:only-of-type {\n",
       "        vertical-align: middle;\n",
       "    }\n",
       "\n",
       "    .dataframe tbody tr th {\n",
       "        vertical-align: top;\n",
       "    }\n",
       "\n",
       "    .dataframe thead th {\n",
       "        text-align: right;\n",
       "    }\n",
       "</style>\n",
       "<table border=\"1\" class=\"dataframe\">\n",
       "  <thead>\n",
       "    <tr style=\"text-align: right;\">\n",
       "      <th></th>\n",
       "      <th>DATE</th>\n",
       "      <th>CITY</th>\n",
       "      <th>PRECIPITATION</th>\n",
       "      <th>DAY_OF_YEAR</th>\n",
       "      <th>AVG</th>\n",
       "      <th>PRECIPITATION_OR_AVG</th>\n",
       "    </tr>\n",
       "  </thead>\n",
       "  <tbody>\n",
       "    <tr>\n",
       "      <th>0</th>\n",
       "      <td>2018-01-01</td>\n",
       "      <td>SEA</td>\n",
       "      <td>0.02</td>\n",
       "      <td>1</td>\n",
       "      <td>0.128</td>\n",
       "      <td>0.02</td>\n",
       "    </tr>\n",
       "  </tbody>\n",
       "</table>\n",
       "</div>"
      ],
      "text/plain": [
       "        DATE CITY  PRECIPITATION  DAY_OF_YEAR    AVG  PRECIPITATION_OR_AVG\n",
       "0 2018-01-01  SEA           0.02            1  0.128                  0.02"
      ]
     },
     "execution_count": 221,
     "metadata": {},
     "output_type": "execute_result"
    }
   ],
   "source": [
    "df_w_avg.loc[df_tidy_b['PRECIPITATION'].notna()].head(1)"
   ]
  },
  {
   "cell_type": "markdown",
   "id": "d7a03516-f1cd-45c1-bf80-94ababb803ad",
   "metadata": {},
   "source": [
    "And confirm there are no missing values in our final column."
   ]
  },
  {
   "cell_type": "code",
   "execution_count": 223,
   "id": "2091079e-5285-4bae-be34-55e9197b3645",
   "metadata": {},
   "outputs": [
    {
     "data": {
      "text/plain": [
       "0"
      ]
     },
     "execution_count": 223,
     "metadata": {},
     "output_type": "execute_result"
    }
   ],
   "source": [
    "df_w_avg['PRECIPITATION_OR_AVG'].isna().sum()"
   ]
  },
  {
   "cell_type": "markdown",
   "id": "d3079388-c7ef-4cf0-9245-2ae49c058ad2",
   "metadata": {},
   "source": [
    "## Exporting Ready Data"
   ]
  },
  {
   "cell_type": "code",
   "execution_count": 226,
   "id": "64a1a54b-db8f-4d31-b63c-3b98742d0e23",
   "metadata": {},
   "outputs": [
    {
     "data": {
      "text/plain": [
       "'C:\\\\Users\\\\ejber\\\\Python for Grad School\\\\DATA5100'"
      ]
     },
     "execution_count": 226,
     "metadata": {},
     "output_type": "execute_result"
    }
   ],
   "source": [
    "import os\n",
    "os.getcwd()"
   ]
  }
 ],
 "metadata": {
  "kernelspec": {
   "display_name": "Python [conda env:base] *",
   "language": "python",
   "name": "conda-base-py"
  },
  "language_info": {
   "codemirror_mode": {
    "name": "ipython",
    "version": 3
   },
   "file_extension": ".py",
   "mimetype": "text/x-python",
   "name": "python",
   "nbconvert_exporter": "python",
   "pygments_lexer": "ipython3",
   "version": "3.12.4"
  }
 },
 "nbformat": 4,
 "nbformat_minor": 5
}
