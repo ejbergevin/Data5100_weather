{
 "cells": [
  {
   "cell_type": "markdown",
   "id": "bfc990a9-b9dd-4531-bf69-03ad00c84b3b",
   "metadata": {},
   "source": [
    "# Comparison of Precipitation Between Cities\n",
    "#### Where is it rainier? Seattle, WA or Springfield, OR?\n",
    "We will attempt to answer this question by comparing precipitation data from NOAA NCEI collected at local weather stations between 01-01-2018 and 12-31-2022.\n",
    "We will begin by assessing the selected data sets, preparing them for appropriate use, and then analyzing the data, generating graphic and basic statistical measures to inform a conclusion.\n",
    "\n",
    "## Processing Data\n",
    "### Import Libraries\n",
    "We will import some integral python packages: numpy for numerical computing, pandas for wrangling tabular data, matplotlib.pyplot for graphics, seaborn for improved visualization."
   ]
  },
  {
   "cell_type": "code",
   "execution_count": 379,
   "id": "50b4e725-772d-457c-a144-cb3075f24b99",
   "metadata": {},
   "outputs": [],
   "source": [
    "import numpy as np\n",
    "import pandas as pd\n",
    "import matplotlib.pyplot as plt\n",
    "import seaborn as sns\n",
    "\n",
    "# Set the plotting style\n",
    "sns.set_style(\"whitegrid\")"
   ]
  },
  {
   "cell_type": "markdown",
   "id": "df583cc2-552f-4f91-8d49-b6613ffd55be",
   "metadata": {},
   "source": [
    "### Load the Data"
   ]
  },
  {
   "cell_type": "markdown",
   "id": "1ef83719-404f-4bfd-9b03-5d410659be8d",
   "metadata": {},
   "source": [
    "Let's collect the Seattle and Springfield data from my Github repository."
   ]
  },
  {
   "cell_type": "code",
   "execution_count": 380,
   "id": "246dabb9-ba51-4e7d-bfa5-0176787d7d44",
   "metadata": {},
   "outputs": [],
   "source": [
    "df_seattle = pd.read_csv(\n",
    "    'https://raw.githubusercontent.com/brian-fischer/DATA-5100/main/weather/seattle_rain.csv'\n",
    ")"
   ]
  },
  {
   "cell_type": "code",
   "execution_count": 381,
   "id": "073fcbb3-8005-4bdc-b77b-9424b38a970f",
   "metadata": {},
   "outputs": [],
   "source": [
    "df_springfield = pd.read_csv(\n",
    "    'https://raw.githubusercontent.com/ejbergevin/Data5100_weather/refs/heads/main/data/springfield_rain.csv'\n",
    ")"
   ]
  },
  {
   "cell_type": "markdown",
   "id": "64c39c38-3669-4073-8ee0-3ae209061629",
   "metadata": {},
   "source": [
    "### Explore the Data"
   ]
  },
  {
   "cell_type": "markdown",
   "id": "be1aa09e-1444-4bc7-84af-09e9d38ae1ba",
   "metadata": {},
   "source": [
    "Let's explore the first few records in the Seattle data."
   ]
  },
  {
   "cell_type": "code",
   "execution_count": 382,
   "id": "4e258dfe-2219-4285-b2f9-391c57ae83b7",
   "metadata": {},
   "outputs": [
    {
     "data": {
      "text/html": [
       "<div>\n",
       "<style scoped>\n",
       "    .dataframe tbody tr th:only-of-type {\n",
       "        vertical-align: middle;\n",
       "    }\n",
       "\n",
       "    .dataframe tbody tr th {\n",
       "        vertical-align: top;\n",
       "    }\n",
       "\n",
       "    .dataframe thead th {\n",
       "        text-align: right;\n",
       "    }\n",
       "</style>\n",
       "<table border=\"1\" class=\"dataframe\">\n",
       "  <thead>\n",
       "    <tr style=\"text-align: right;\">\n",
       "      <th></th>\n",
       "      <th>STATION</th>\n",
       "      <th>NAME</th>\n",
       "      <th>DATE</th>\n",
       "      <th>DAPR</th>\n",
       "      <th>MDPR</th>\n",
       "      <th>PRCP</th>\n",
       "      <th>SNOW</th>\n",
       "      <th>SNWD</th>\n",
       "      <th>WESD</th>\n",
       "      <th>WESF</th>\n",
       "    </tr>\n",
       "  </thead>\n",
       "  <tbody>\n",
       "    <tr>\n",
       "      <th>0</th>\n",
       "      <td>US1WAKG0225</td>\n",
       "      <td>SEATTLE 2.1 ESE, WA US</td>\n",
       "      <td>1/1/18</td>\n",
       "      <td>NaN</td>\n",
       "      <td>NaN</td>\n",
       "      <td>0.00</td>\n",
       "      <td>NaN</td>\n",
       "      <td>NaN</td>\n",
       "      <td>NaN</td>\n",
       "      <td>NaN</td>\n",
       "    </tr>\n",
       "    <tr>\n",
       "      <th>1</th>\n",
       "      <td>US1WAKG0225</td>\n",
       "      <td>SEATTLE 2.1 ESE, WA US</td>\n",
       "      <td>1/2/18</td>\n",
       "      <td>NaN</td>\n",
       "      <td>NaN</td>\n",
       "      <td>0.00</td>\n",
       "      <td>NaN</td>\n",
       "      <td>NaN</td>\n",
       "      <td>NaN</td>\n",
       "      <td>NaN</td>\n",
       "    </tr>\n",
       "    <tr>\n",
       "      <th>2</th>\n",
       "      <td>US1WAKG0225</td>\n",
       "      <td>SEATTLE 2.1 ESE, WA US</td>\n",
       "      <td>1/3/18</td>\n",
       "      <td>NaN</td>\n",
       "      <td>NaN</td>\n",
       "      <td>0.00</td>\n",
       "      <td>NaN</td>\n",
       "      <td>NaN</td>\n",
       "      <td>NaN</td>\n",
       "      <td>NaN</td>\n",
       "    </tr>\n",
       "    <tr>\n",
       "      <th>3</th>\n",
       "      <td>US1WAKG0225</td>\n",
       "      <td>SEATTLE 2.1 ESE, WA US</td>\n",
       "      <td>1/4/18</td>\n",
       "      <td>NaN</td>\n",
       "      <td>NaN</td>\n",
       "      <td>0.00</td>\n",
       "      <td>NaN</td>\n",
       "      <td>NaN</td>\n",
       "      <td>NaN</td>\n",
       "      <td>NaN</td>\n",
       "    </tr>\n",
       "    <tr>\n",
       "      <th>4</th>\n",
       "      <td>US1WAKG0225</td>\n",
       "      <td>SEATTLE 2.1 ESE, WA US</td>\n",
       "      <td>1/5/18</td>\n",
       "      <td>NaN</td>\n",
       "      <td>NaN</td>\n",
       "      <td>0.25</td>\n",
       "      <td>NaN</td>\n",
       "      <td>NaN</td>\n",
       "      <td>NaN</td>\n",
       "      <td>NaN</td>\n",
       "    </tr>\n",
       "    <tr>\n",
       "      <th>5</th>\n",
       "      <td>US1WAKG0225</td>\n",
       "      <td>SEATTLE 2.1 ESE, WA US</td>\n",
       "      <td>1/6/18</td>\n",
       "      <td>NaN</td>\n",
       "      <td>NaN</td>\n",
       "      <td>0.57</td>\n",
       "      <td>NaN</td>\n",
       "      <td>NaN</td>\n",
       "      <td>NaN</td>\n",
       "      <td>NaN</td>\n",
       "    </tr>\n",
       "    <tr>\n",
       "      <th>6</th>\n",
       "      <td>US1WAKG0225</td>\n",
       "      <td>SEATTLE 2.1 ESE, WA US</td>\n",
       "      <td>1/7/18</td>\n",
       "      <td>NaN</td>\n",
       "      <td>NaN</td>\n",
       "      <td>0.23</td>\n",
       "      <td>NaN</td>\n",
       "      <td>NaN</td>\n",
       "      <td>NaN</td>\n",
       "      <td>NaN</td>\n",
       "    </tr>\n",
       "    <tr>\n",
       "      <th>7</th>\n",
       "      <td>US1WAKG0225</td>\n",
       "      <td>SEATTLE 2.1 ESE, WA US</td>\n",
       "      <td>1/8/18</td>\n",
       "      <td>NaN</td>\n",
       "      <td>NaN</td>\n",
       "      <td>0.41</td>\n",
       "      <td>NaN</td>\n",
       "      <td>NaN</td>\n",
       "      <td>NaN</td>\n",
       "      <td>NaN</td>\n",
       "    </tr>\n",
       "    <tr>\n",
       "      <th>8</th>\n",
       "      <td>US1WAKG0225</td>\n",
       "      <td>SEATTLE 2.1 ESE, WA US</td>\n",
       "      <td>3/12/18</td>\n",
       "      <td>NaN</td>\n",
       "      <td>NaN</td>\n",
       "      <td>0.00</td>\n",
       "      <td>NaN</td>\n",
       "      <td>NaN</td>\n",
       "      <td>NaN</td>\n",
       "      <td>NaN</td>\n",
       "    </tr>\n",
       "    <tr>\n",
       "      <th>9</th>\n",
       "      <td>US1WAKG0225</td>\n",
       "      <td>SEATTLE 2.1 ESE, WA US</td>\n",
       "      <td>3/13/18</td>\n",
       "      <td>NaN</td>\n",
       "      <td>NaN</td>\n",
       "      <td>0.00</td>\n",
       "      <td>NaN</td>\n",
       "      <td>NaN</td>\n",
       "      <td>NaN</td>\n",
       "      <td>NaN</td>\n",
       "    </tr>\n",
       "  </tbody>\n",
       "</table>\n",
       "</div>"
      ],
      "text/plain": [
       "       STATION                    NAME     DATE  DAPR  MDPR  PRCP  SNOW  SNWD  \\\n",
       "0  US1WAKG0225  SEATTLE 2.1 ESE, WA US   1/1/18   NaN   NaN  0.00   NaN   NaN   \n",
       "1  US1WAKG0225  SEATTLE 2.1 ESE, WA US   1/2/18   NaN   NaN  0.00   NaN   NaN   \n",
       "2  US1WAKG0225  SEATTLE 2.1 ESE, WA US   1/3/18   NaN   NaN  0.00   NaN   NaN   \n",
       "3  US1WAKG0225  SEATTLE 2.1 ESE, WA US   1/4/18   NaN   NaN  0.00   NaN   NaN   \n",
       "4  US1WAKG0225  SEATTLE 2.1 ESE, WA US   1/5/18   NaN   NaN  0.25   NaN   NaN   \n",
       "5  US1WAKG0225  SEATTLE 2.1 ESE, WA US   1/6/18   NaN   NaN  0.57   NaN   NaN   \n",
       "6  US1WAKG0225  SEATTLE 2.1 ESE, WA US   1/7/18   NaN   NaN  0.23   NaN   NaN   \n",
       "7  US1WAKG0225  SEATTLE 2.1 ESE, WA US   1/8/18   NaN   NaN  0.41   NaN   NaN   \n",
       "8  US1WAKG0225  SEATTLE 2.1 ESE, WA US  3/12/18   NaN   NaN  0.00   NaN   NaN   \n",
       "9  US1WAKG0225  SEATTLE 2.1 ESE, WA US  3/13/18   NaN   NaN  0.00   NaN   NaN   \n",
       "\n",
       "   WESD  WESF  \n",
       "0   NaN   NaN  \n",
       "1   NaN   NaN  \n",
       "2   NaN   NaN  \n",
       "3   NaN   NaN  \n",
       "4   NaN   NaN  \n",
       "5   NaN   NaN  \n",
       "6   NaN   NaN  \n",
       "7   NaN   NaN  \n",
       "8   NaN   NaN  \n",
       "9   NaN   NaN  "
      ]
     },
     "execution_count": 382,
     "metadata": {},
     "output_type": "execute_result"
    }
   ],
   "source": [
    "df_seattle.head(10)"
   ]
  },
  {
   "cell_type": "code",
   "execution_count": 383,
   "id": "02b1fae3-338b-43ff-a863-306877333d46",
   "metadata": {},
   "outputs": [
    {
     "name": "stdout",
     "output_type": "stream",
     "text": [
      "<class 'pandas.core.frame.DataFrame'>\n",
      "RangeIndex: 1658 entries, 0 to 1657\n",
      "Data columns (total 10 columns):\n",
      " #   Column   Non-Null Count  Dtype  \n",
      "---  ------   --------------  -----  \n",
      " 0   STATION  1658 non-null   object \n",
      " 1   NAME     1658 non-null   object \n",
      " 2   DATE     1658 non-null   object \n",
      " 3   DAPR     23 non-null     float64\n",
      " 4   MDPR     23 non-null     float64\n",
      " 5   PRCP     1636 non-null   float64\n",
      " 6   SNOW     353 non-null    float64\n",
      " 7   SNWD     66 non-null     float64\n",
      " 8   WESD     15 non-null     float64\n",
      " 9   WESF     28 non-null     float64\n",
      "dtypes: float64(7), object(3)\n",
      "memory usage: 129.7+ KB\n"
     ]
    }
   ],
   "source": [
    "df_seattle.info()"
   ]
  },
  {
   "cell_type": "markdown",
   "id": "1c2d1fdb-596f-4c23-b96a-b37d44cd9bf3",
   "metadata": {},
   "source": [
    "Observe station code, the name of station, an unformatted date field, and several additional fields with missing values. The PRCP field is our key precipitation variable. Now let's peek at the Springfield data."
   ]
  },
  {
   "cell_type": "code",
   "execution_count": 384,
   "id": "e850b1a7-f9cb-4ef9-92fa-58316b12234e",
   "metadata": {},
   "outputs": [
    {
     "data": {
      "text/html": [
       "<div>\n",
       "<style scoped>\n",
       "    .dataframe tbody tr th:only-of-type {\n",
       "        vertical-align: middle;\n",
       "    }\n",
       "\n",
       "    .dataframe tbody tr th {\n",
       "        vertical-align: top;\n",
       "    }\n",
       "\n",
       "    .dataframe thead th {\n",
       "        text-align: right;\n",
       "    }\n",
       "</style>\n",
       "<table border=\"1\" class=\"dataframe\">\n",
       "  <thead>\n",
       "    <tr style=\"text-align: right;\">\n",
       "      <th></th>\n",
       "      <th>STATION</th>\n",
       "      <th>NAME</th>\n",
       "      <th>DATE</th>\n",
       "      <th>DAPR</th>\n",
       "      <th>MDPR</th>\n",
       "      <th>PRCP</th>\n",
       "      <th>SNOW</th>\n",
       "      <th>SNWD</th>\n",
       "    </tr>\n",
       "  </thead>\n",
       "  <tbody>\n",
       "    <tr>\n",
       "      <th>0</th>\n",
       "      <td>US1ORLA0122</td>\n",
       "      <td>SPRINGFIELD 1.5 SE, OR US</td>\n",
       "      <td>2018-01-01</td>\n",
       "      <td>NaN</td>\n",
       "      <td>NaN</td>\n",
       "      <td>0.02</td>\n",
       "      <td>NaN</td>\n",
       "      <td>NaN</td>\n",
       "    </tr>\n",
       "    <tr>\n",
       "      <th>1</th>\n",
       "      <td>US1ORLA0122</td>\n",
       "      <td>SPRINGFIELD 1.5 SE, OR US</td>\n",
       "      <td>2018-01-02</td>\n",
       "      <td>NaN</td>\n",
       "      <td>NaN</td>\n",
       "      <td>0.00</td>\n",
       "      <td>0.0</td>\n",
       "      <td>NaN</td>\n",
       "    </tr>\n",
       "    <tr>\n",
       "      <th>2</th>\n",
       "      <td>US1ORLA0122</td>\n",
       "      <td>SPRINGFIELD 1.5 SE, OR US</td>\n",
       "      <td>2018-01-03</td>\n",
       "      <td>NaN</td>\n",
       "      <td>NaN</td>\n",
       "      <td>0.00</td>\n",
       "      <td>0.0</td>\n",
       "      <td>NaN</td>\n",
       "    </tr>\n",
       "    <tr>\n",
       "      <th>3</th>\n",
       "      <td>US1ORLA0122</td>\n",
       "      <td>SPRINGFIELD 1.5 SE, OR US</td>\n",
       "      <td>2018-01-04</td>\n",
       "      <td>NaN</td>\n",
       "      <td>NaN</td>\n",
       "      <td>0.02</td>\n",
       "      <td>NaN</td>\n",
       "      <td>NaN</td>\n",
       "    </tr>\n",
       "    <tr>\n",
       "      <th>4</th>\n",
       "      <td>US1ORLA0122</td>\n",
       "      <td>SPRINGFIELD 1.5 SE, OR US</td>\n",
       "      <td>2018-01-05</td>\n",
       "      <td>NaN</td>\n",
       "      <td>NaN</td>\n",
       "      <td>0.13</td>\n",
       "      <td>NaN</td>\n",
       "      <td>NaN</td>\n",
       "    </tr>\n",
       "    <tr>\n",
       "      <th>5</th>\n",
       "      <td>US1ORLA0122</td>\n",
       "      <td>SPRINGFIELD 1.5 SE, OR US</td>\n",
       "      <td>2018-01-06</td>\n",
       "      <td>NaN</td>\n",
       "      <td>NaN</td>\n",
       "      <td>0.17</td>\n",
       "      <td>NaN</td>\n",
       "      <td>NaN</td>\n",
       "    </tr>\n",
       "    <tr>\n",
       "      <th>6</th>\n",
       "      <td>US1ORLA0122</td>\n",
       "      <td>SPRINGFIELD 1.5 SE, OR US</td>\n",
       "      <td>2018-01-07</td>\n",
       "      <td>NaN</td>\n",
       "      <td>NaN</td>\n",
       "      <td>0.00</td>\n",
       "      <td>0.0</td>\n",
       "      <td>NaN</td>\n",
       "    </tr>\n",
       "    <tr>\n",
       "      <th>7</th>\n",
       "      <td>US1ORLA0122</td>\n",
       "      <td>SPRINGFIELD 1.5 SE, OR US</td>\n",
       "      <td>2018-01-08</td>\n",
       "      <td>NaN</td>\n",
       "      <td>NaN</td>\n",
       "      <td>0.00</td>\n",
       "      <td>0.0</td>\n",
       "      <td>NaN</td>\n",
       "    </tr>\n",
       "    <tr>\n",
       "      <th>8</th>\n",
       "      <td>US1ORLA0122</td>\n",
       "      <td>SPRINGFIELD 1.5 SE, OR US</td>\n",
       "      <td>2018-01-09</td>\n",
       "      <td>NaN</td>\n",
       "      <td>NaN</td>\n",
       "      <td>0.50</td>\n",
       "      <td>NaN</td>\n",
       "      <td>NaN</td>\n",
       "    </tr>\n",
       "    <tr>\n",
       "      <th>9</th>\n",
       "      <td>US1ORLA0122</td>\n",
       "      <td>SPRINGFIELD 1.5 SE, OR US</td>\n",
       "      <td>2018-01-10</td>\n",
       "      <td>NaN</td>\n",
       "      <td>NaN</td>\n",
       "      <td>0.36</td>\n",
       "      <td>NaN</td>\n",
       "      <td>NaN</td>\n",
       "    </tr>\n",
       "  </tbody>\n",
       "</table>\n",
       "</div>"
      ],
      "text/plain": [
       "       STATION                       NAME        DATE  DAPR  MDPR  PRCP  SNOW  \\\n",
       "0  US1ORLA0122  SPRINGFIELD 1.5 SE, OR US  2018-01-01   NaN   NaN  0.02   NaN   \n",
       "1  US1ORLA0122  SPRINGFIELD 1.5 SE, OR US  2018-01-02   NaN   NaN  0.00   0.0   \n",
       "2  US1ORLA0122  SPRINGFIELD 1.5 SE, OR US  2018-01-03   NaN   NaN  0.00   0.0   \n",
       "3  US1ORLA0122  SPRINGFIELD 1.5 SE, OR US  2018-01-04   NaN   NaN  0.02   NaN   \n",
       "4  US1ORLA0122  SPRINGFIELD 1.5 SE, OR US  2018-01-05   NaN   NaN  0.13   NaN   \n",
       "5  US1ORLA0122  SPRINGFIELD 1.5 SE, OR US  2018-01-06   NaN   NaN  0.17   NaN   \n",
       "6  US1ORLA0122  SPRINGFIELD 1.5 SE, OR US  2018-01-07   NaN   NaN  0.00   0.0   \n",
       "7  US1ORLA0122  SPRINGFIELD 1.5 SE, OR US  2018-01-08   NaN   NaN  0.00   0.0   \n",
       "8  US1ORLA0122  SPRINGFIELD 1.5 SE, OR US  2018-01-09   NaN   NaN  0.50   NaN   \n",
       "9  US1ORLA0122  SPRINGFIELD 1.5 SE, OR US  2018-01-10   NaN   NaN  0.36   NaN   \n",
       "\n",
       "   SNWD  \n",
       "0   NaN  \n",
       "1   NaN  \n",
       "2   NaN  \n",
       "3   NaN  \n",
       "4   NaN  \n",
       "5   NaN  \n",
       "6   NaN  \n",
       "7   NaN  \n",
       "8   NaN  \n",
       "9   NaN  "
      ]
     },
     "execution_count": 384,
     "metadata": {},
     "output_type": "execute_result"
    }
   ],
   "source": [
    "df_springfield.head(10)"
   ]
  },
  {
   "cell_type": "code",
   "execution_count": 385,
   "id": "49bb4c7a-ce6d-4e67-ad89-474e8c90fdbc",
   "metadata": {},
   "outputs": [
    {
     "name": "stdout",
     "output_type": "stream",
     "text": [
      "<class 'pandas.core.frame.DataFrame'>\n",
      "RangeIndex: 67375 entries, 0 to 67374\n",
      "Data columns (total 8 columns):\n",
      " #   Column   Non-Null Count  Dtype  \n",
      "---  ------   --------------  -----  \n",
      " 0   STATION  67375 non-null  object \n",
      " 1   NAME     67375 non-null  object \n",
      " 2   DATE     67375 non-null  object \n",
      " 3   DAPR     1358 non-null   float64\n",
      " 4   MDPR     1344 non-null   float64\n",
      " 5   PRCP     65993 non-null  float64\n",
      " 6   SNOW     33828 non-null  float64\n",
      " 7   SNWD     6419 non-null   float64\n",
      "dtypes: float64(5), object(3)\n",
      "memory usage: 4.1+ MB\n"
     ]
    }
   ],
   "source": [
    "df_springfield.info()"
   ]
  },
  {
   "cell_type": "markdown",
   "id": "2ff5bb52-e0d0-4e43-9aa4-b73bcaf7ccc7",
   "metadata": {},
   "source": [
    "Observe similar information, but a differently formatted date, and fewer overall fields. Additionally, Springfield has many more records than Seattle. Let's figure out why."
   ]
  },
  {
   "cell_type": "markdown",
   "id": "ddd1fd6f-1166-4ed5-9080-a83b01f5de66",
   "metadata": {},
   "source": [
    "### Understand the Data"
   ]
  },
  {
   "cell_type": "markdown",
   "id": "7fd3e3aa-2500-491a-ae79-ce005e60cc84",
   "metadata": {},
   "source": [
    "Let's take a peek at the unique values of station for Springfield."
   ]
  },
  {
   "cell_type": "code",
   "execution_count": 386,
   "id": "0f4f00c7-f7f4-49c2-bdcc-46aa84f7bac9",
   "metadata": {},
   "outputs": [
    {
     "data": {
      "text/plain": [
       "array(['US1ORLA0122', 'US1ORLA0166', 'US1ORLA0087', 'US1ORLA0044',\n",
       "       'US1ORLA0121', 'US1ORLA0041', 'US1ORLA0085', 'US1ORLA0042',\n",
       "       'US1ORLA0086', 'US1ORLA0083', 'US1ORLA0160', 'US1ORLA0081',\n",
       "       'US1ORLA0209', 'US1ORLA0208', 'US1ORLA0007', 'US1ORLA0205',\n",
       "       'USW00024221', 'US1ORLA0129', 'US1ORLA0206', 'US1ORLA0126',\n",
       "       'US1ORLA0203', 'US1ORLA0127', 'US1ORLA0036', 'US1ORLA0234',\n",
       "       'US1ORLA0235', 'US1ORLA0112', 'US1ORLA0197', 'US1ORLA0198',\n",
       "       'US1ORLA0072', 'US1ORLA0194', 'US1ORLA0191', 'US1ORLA0190',\n",
       "       'US1ORLA0118', 'US1ORLA0239', 'US1ORLA0038', 'US1ORLA0236',\n",
       "       'US1ORLA0026', 'US1ORLA0103', 'US1ORLA0024', 'US1ORLA0101',\n",
       "       'US1ORLA0189', 'US1ORLA0222', 'US1ORLA0021', 'US1ORLA0065',\n",
       "       'US1ORLA0186', 'US1ORLA0066', 'US1ORLA0020', 'US1ORLA0180',\n",
       "       'US1ORLN0081', 'US1ORLA0229', 'USC00352867', 'US1ORLA0104',\n",
       "       'US1ORLA0225', 'US1ORLA0179', 'US1ORLA0212', 'US1ORLA0056',\n",
       "       'US1ORLA0210', 'US1ORLA0013', 'US1ORLA0057', 'US1ORLA0054',\n",
       "       'US1ORLA0055', 'US1ORLA0097', 'US1ORLA0051', 'US1ORLA0219',\n",
       "       'US1ORLA0216', 'US1ORLA0214', 'US1ORLA0017', 'US1ORLA0215'],\n",
       "      dtype=object)"
      ]
     },
     "execution_count": 386,
     "metadata": {},
     "output_type": "execute_result"
    }
   ],
   "source": [
    "df_springfield['STATION'].unique()"
   ]
  },
  {
   "cell_type": "code",
   "execution_count": 387,
   "id": "ae8e8d39-433b-42f2-91a9-fded3d2be5f0",
   "metadata": {},
   "outputs": [
    {
     "data": {
      "text/plain": [
       "68"
      ]
     },
     "execution_count": 387,
     "metadata": {},
     "output_type": "execute_result"
    }
   ],
   "source": [
    "df_springfield['STATION'].nunique()"
   ]
  },
  {
   "cell_type": "code",
   "execution_count": 388,
   "id": "eec6319e-f3c2-41b1-bca4-ac37bd25ec41",
   "metadata": {},
   "outputs": [
    {
     "data": {
      "text/plain": [
       "STATION\n",
       "US1ORLA0007    1820\n",
       "US1ORLA0013    1587\n",
       "US1ORLA0017    1404\n",
       "US1ORLA0020     323\n",
       "US1ORLA0021       2\n",
       "               ... \n",
       "US1ORLA0236     393\n",
       "US1ORLA0239     122\n",
       "US1ORLN0081    1053\n",
       "USC00352867    1682\n",
       "USW00024221    1826\n",
       "Name: STATION, Length: 68, dtype: int64"
      ]
     },
     "execution_count": 388,
     "metadata": {},
     "output_type": "execute_result"
    }
   ],
   "source": [
    "df_springfield.groupby('STATION')['STATION'].size()"
   ]
  },
  {
   "cell_type": "markdown",
   "id": "be59812e-6956-41a9-8a9b-6a72441ca45a",
   "metadata": {},
   "source": [
    "We have 68 unique stations in Springfield with various record counts... And in Seattle?"
   ]
  },
  {
   "cell_type": "code",
   "execution_count": 389,
   "id": "d81afa81-b993-44af-a339-ef0130ade50b",
   "metadata": {},
   "outputs": [
    {
     "data": {
      "text/plain": [
       "array(['US1WAKG0225'], dtype=object)"
      ]
     },
     "execution_count": 389,
     "metadata": {},
     "output_type": "execute_result"
    }
   ],
   "source": [
    "df_seattle['STATION'].unique()"
   ]
  },
  {
   "cell_type": "code",
   "execution_count": 390,
   "id": "190e3df5-8e61-413b-8dc6-64a38e1cb40e",
   "metadata": {},
   "outputs": [
    {
     "data": {
      "text/plain": [
       "1"
      ]
     },
     "execution_count": 390,
     "metadata": {},
     "output_type": "execute_result"
    }
   ],
   "source": [
    "df_seattle['STATION'].nunique()"
   ]
  },
  {
   "cell_type": "code",
   "execution_count": 391,
   "id": "6d3dce42-7565-4127-a83c-1c998f27f589",
   "metadata": {},
   "outputs": [
    {
     "data": {
      "text/plain": [
       "STATION\n",
       "US1WAKG0225    1658\n",
       "Name: STATION, dtype: int64"
      ]
     },
     "execution_count": 391,
     "metadata": {},
     "output_type": "execute_result"
    }
   ],
   "source": [
    "df_seattle.groupby('STATION')['STATION'].size()"
   ]
  },
  {
   "cell_type": "markdown",
   "id": "67361cbc-35cf-4659-a63a-cea41154539a",
   "metadata": {},
   "source": [
    "We have only one unique station with around 1700 records. This explains the large difference in record counts between the data sets. Let's also confirm that our data covers the date range we expect. In order to avoid the misinterpretation of DATE and its order, we cast both data sets DATE field to explicitly date type."
   ]
  },
  {
   "cell_type": "code",
   "execution_count": 392,
   "id": "f30c900c-50b7-4d31-acb1-81264ec83c6a",
   "metadata": {},
   "outputs": [
    {
     "name": "stderr",
     "output_type": "stream",
     "text": [
      "C:\\Users\\ejber\\AppData\\Local\\Temp\\ipykernel_9940\\4047229948.py:1: UserWarning: Could not infer format, so each element will be parsed individually, falling back to `dateutil`. To ensure parsing is consistent and as-expected, please specify a format.\n",
      "  df_seattle['DATE'] = pd.to_datetime(df_seattle['DATE'])\n"
     ]
    }
   ],
   "source": [
    "df_seattle['DATE'] = pd.to_datetime(df_seattle['DATE'])\n",
    "df_springfield['DATE'] = pd.to_datetime(df_springfield['DATE'])"
   ]
  },
  {
   "cell_type": "code",
   "execution_count": 393,
   "id": "a7a10b00-e120-46cd-8434-fcc827d56d30",
   "metadata": {},
   "outputs": [
    {
     "data": {
      "text/plain": [
       "min   2018-01-01\n",
       "max   2022-12-31\n",
       "Name: DATE, dtype: datetime64[ns]"
      ]
     },
     "execution_count": 393,
     "metadata": {},
     "output_type": "execute_result"
    }
   ],
   "source": [
    "df_seattle['DATE'].agg(['min','max'])"
   ]
  },
  {
   "cell_type": "code",
   "execution_count": 394,
   "id": "94012e18-71b6-434a-bb7f-da15f19d516b",
   "metadata": {},
   "outputs": [
    {
     "data": {
      "text/plain": [
       "min   2018-01-01\n",
       "max   2022-12-31\n",
       "Name: DATE, dtype: datetime64[ns]"
      ]
     },
     "execution_count": 394,
     "metadata": {},
     "output_type": "execute_result"
    }
   ],
   "source": [
    "df_springfield['DATE'].agg(['min','max'])"
   ]
  },
  {
   "cell_type": "markdown",
   "id": "05b07aab-e8f4-40d2-8df2-c57200598b81",
   "metadata": {},
   "source": [
    "Both data sets run our expected range."
   ]
  },
  {
   "cell_type": "markdown",
   "id": "89afb5d5-462b-4934-ad0e-e7c141be3bdd",
   "metadata": {},
   "source": [
    "### Visualizing the Data"
   ]
  },
  {
   "cell_type": "markdown",
   "id": "3bbb91c3-599f-4726-aa09-ff4c84879f32",
   "metadata": {},
   "source": [
    "By peeking at the plotted data for Seattle, we notice there are some missing points around early 2018."
   ]
  },
  {
   "cell_type": "code",
   "execution_count": 395,
   "id": "c97d3cfe-94d8-44a6-b0ed-777cc8c6b6ee",
   "metadata": {},
   "outputs": [
    {
     "data": {
      "image/png": "[encoded data removed]",
      "text/plain": [
       "<Figure size 2000x500 with 1 Axes>"
      ]
     },
     "metadata": {},
     "output_type": "display_data"
    }
   ],
   "source": [
    "plt.figure(figsize=(20,5))\n",
    "\n",
    "sns.lineplot(data=df_seattle, x = 'DATE', y='PRCP')\n",
    "\n",
    "plt.xlabel('Date', fontsize=18)\n",
    "plt.ylabel('Prec (inches)', fontsize=18)\n",
    "\n",
    "plt.tick_params(labelsize=15)\n",
    "\n",
    "plt.show()"
   ]
  },
  {
   "cell_type": "markdown",
   "id": "1079ea4a-e35c-4303-abf5-da001f2e7745",
   "metadata": {},
   "source": [
    "We can do the same for Springfield, but but because there are so many data points, generating is time intensive and does not visually reveal missing values. I have commented out the logic below. We will need to address the NaNs for both cities."
   ]
  },
  {
   "cell_type": "code",
   "execution_count": 396,
   "id": "7f09ada9-612a-4606-a61c-cec5a02a0bfa",
   "metadata": {},
   "outputs": [],
   "source": [
    "# plt.figure(figsize=(20,5))\n",
    "\n",
    "# sns.lineplot(data=df_springfield, x = 'DATE', y='PRCP')\n",
    "\n",
    "# plt.xlabel('Date', fontsize=18)\n",
    "# plt.ylabel('Prec (inches)', fontsize=18)\n",
    "\n",
    "# plt.tick_params(labelsize=15)\n",
    "\n",
    "# plt.show()"
   ]
  },
  {
   "cell_type": "markdown",
   "id": "25bff838-95e6-406b-95c3-5f0a65df2105",
   "metadata": {},
   "source": [
    "### Subsetting the Data"
   ]
  },
  {
   "cell_type": "markdown",
   "id": "ef6e7fef-bf22-4a32-b5af-8c906816b1f1",
   "metadata": {},
   "source": [
    "To work with just one random station from Springfield, we'll filter down to just those records."
   ]
  },
  {
   "cell_type": "code",
   "execution_count": 397,
   "id": "578ed2b1-64a3-4308-8bcc-8d4e177ed8a8",
   "metadata": {},
   "outputs": [
    {
     "data": {
      "text/plain": [
       "STATION\n",
       "US1ORLA0122    1812\n",
       "Name: STATION, dtype: int64"
      ]
     },
     "execution_count": 397,
     "metadata": {},
     "output_type": "execute_result"
    }
   ],
   "source": [
    "df_sf_station = df_springfield.loc[df_springfield['STATION'] == 'US1ORLA0122']\n",
    "df_sf_station.groupby('STATION')['STATION'].size()"
   ]
  },
  {
   "cell_type": "markdown",
   "id": "e80cf29e-cacf-4455-afc3-468b9060c30a",
   "metadata": {},
   "source": [
    "Now we have data for Springfield comparable in size to the Seattle set."
   ]
  },
  {
   "cell_type": "markdown",
   "id": "eab3c478-be9e-410c-bf46-401475548152",
   "metadata": {},
   "source": [
    "### Joining the Data"
   ]
  },
  {
   "cell_type": "markdown",
   "id": "97b8dddc-b1bf-423e-bb90-8f9a43a0de69",
   "metadata": {},
   "source": [
    "We will combine both datasets into one frame utilizing the date field as the joining key."
   ]
  },
  {
   "cell_type": "code",
   "execution_count": 398,
   "id": "c370d161-1f19-4299-857c-c7d361d3c44a",
   "metadata": {},
   "outputs": [
    {
     "data": {
      "text/html": [
       "<div>\n",
       "<style scoped>\n",
       "    .dataframe tbody tr th:only-of-type {\n",
       "        vertical-align: middle;\n",
       "    }\n",
       "\n",
       "    .dataframe tbody tr th {\n",
       "        vertical-align: top;\n",
       "    }\n",
       "\n",
       "    .dataframe thead th {\n",
       "        text-align: right;\n",
       "    }\n",
       "</style>\n",
       "<table border=\"1\" class=\"dataframe\">\n",
       "  <thead>\n",
       "    <tr style=\"text-align: right;\">\n",
       "      <th></th>\n",
       "      <th>DATE</th>\n",
       "      <th>PRCP_x</th>\n",
       "      <th>PRCP_y</th>\n",
       "    </tr>\n",
       "  </thead>\n",
       "  <tbody>\n",
       "    <tr>\n",
       "      <th>0</th>\n",
       "      <td>2018-01-01</td>\n",
       "      <td>0.00</td>\n",
       "      <td>0.02</td>\n",
       "    </tr>\n",
       "    <tr>\n",
       "      <th>1</th>\n",
       "      <td>2018-01-02</td>\n",
       "      <td>0.00</td>\n",
       "      <td>0.00</td>\n",
       "    </tr>\n",
       "    <tr>\n",
       "      <th>2</th>\n",
       "      <td>2018-01-03</td>\n",
       "      <td>0.00</td>\n",
       "      <td>0.00</td>\n",
       "    </tr>\n",
       "    <tr>\n",
       "      <th>3</th>\n",
       "      <td>2018-01-04</td>\n",
       "      <td>0.00</td>\n",
       "      <td>0.02</td>\n",
       "    </tr>\n",
       "    <tr>\n",
       "      <th>4</th>\n",
       "      <td>2018-01-05</td>\n",
       "      <td>0.25</td>\n",
       "      <td>0.13</td>\n",
       "    </tr>\n",
       "  </tbody>\n",
       "</table>\n",
       "</div>"
      ],
      "text/plain": [
       "        DATE  PRCP_x  PRCP_y\n",
       "0 2018-01-01    0.00    0.02\n",
       "1 2018-01-02    0.00    0.00\n",
       "2 2018-01-03    0.00    0.00\n",
       "3 2018-01-04    0.00    0.02\n",
       "4 2018-01-05    0.25    0.13"
      ]
     },
     "execution_count": 398,
     "metadata": {},
     "output_type": "execute_result"
    }
   ],
   "source": [
    "df_joined = df_seattle[['DATE','PRCP']].merge(df_sf_station[['DATE','PRCP']], on='DATE', how='outer')\n",
    "df_joined.head()"
   ]
  },
  {
   "cell_type": "markdown",
   "id": "d3fe1dbd-8556-40ae-a3cc-03cd286f26d4",
   "metadata": {},
   "source": [
    "Peeking at the head of our new joined set, we can see the result is not tidy, but wide format, with columns for numerical values by a discrete cetegory (city)."
   ]
  },
  {
   "cell_type": "markdown",
   "id": "2e4f473b-c03e-4179-a95f-12e2b59e8adb",
   "metadata": {},
   "source": [
    "### Tidying the Data"
   ]
  },
  {
   "cell_type": "markdown",
   "id": "897f3fce-e5f7-4f66-956c-52a6192201fe",
   "metadata": {},
   "source": [
    "We can unpivot the data creating a new categorical field for city to collapse the two precipitation fields."
   ]
  },
  {
   "cell_type": "code",
   "execution_count": 399,
   "id": "0ab8a4f3-6f7f-43d6-ad2c-eeeb7c0aab49",
   "metadata": {},
   "outputs": [
    {
     "data": {
      "text/html": [
       "<div>\n",
       "<style scoped>\n",
       "    .dataframe tbody tr th:only-of-type {\n",
       "        vertical-align: middle;\n",
       "    }\n",
       "\n",
       "    .dataframe tbody tr th {\n",
       "        vertical-align: top;\n",
       "    }\n",
       "\n",
       "    .dataframe thead th {\n",
       "        text-align: right;\n",
       "    }\n",
       "</style>\n",
       "<table border=\"1\" class=\"dataframe\">\n",
       "  <thead>\n",
       "    <tr style=\"text-align: right;\">\n",
       "      <th></th>\n",
       "      <th>DATE</th>\n",
       "      <th>CITY</th>\n",
       "      <th>PRECIPITATION</th>\n",
       "    </tr>\n",
       "  </thead>\n",
       "  <tbody>\n",
       "    <tr>\n",
       "      <th>0</th>\n",
       "      <td>2018-01-01</td>\n",
       "      <td>PRCP_x</td>\n",
       "      <td>0.00</td>\n",
       "    </tr>\n",
       "    <tr>\n",
       "      <th>1</th>\n",
       "      <td>2018-01-02</td>\n",
       "      <td>PRCP_x</td>\n",
       "      <td>0.00</td>\n",
       "    </tr>\n",
       "    <tr>\n",
       "      <th>2</th>\n",
       "      <td>2018-01-03</td>\n",
       "      <td>PRCP_x</td>\n",
       "      <td>0.00</td>\n",
       "    </tr>\n",
       "    <tr>\n",
       "      <th>3</th>\n",
       "      <td>2018-01-04</td>\n",
       "      <td>PRCP_x</td>\n",
       "      <td>0.00</td>\n",
       "    </tr>\n",
       "    <tr>\n",
       "      <th>4</th>\n",
       "      <td>2018-01-05</td>\n",
       "      <td>PRCP_x</td>\n",
       "      <td>0.25</td>\n",
       "    </tr>\n",
       "  </tbody>\n",
       "</table>\n",
       "</div>"
      ],
      "text/plain": [
       "        DATE    CITY  PRECIPITATION\n",
       "0 2018-01-01  PRCP_x           0.00\n",
       "1 2018-01-02  PRCP_x           0.00\n",
       "2 2018-01-03  PRCP_x           0.00\n",
       "3 2018-01-04  PRCP_x           0.00\n",
       "4 2018-01-05  PRCP_x           0.25"
      ]
     },
     "execution_count": 399,
     "metadata": {},
     "output_type": "execute_result"
    }
   ],
   "source": [
    "df_tidy = pd.melt(df_joined, id_vars = 'DATE', var_name = 'CITY', value_name='PRECIPITATION')\n",
    "df_tidy.head()"
   ]
  },
  {
   "cell_type": "markdown",
   "id": "558bcb5f-0580-4abe-8492-98de1bc79973",
   "metadata": {},
   "source": [
    "Npw we have long form tidy data. We rename the categorical city values to be clearer."
   ]
  },
  {
   "cell_type": "code",
   "execution_count": 400,
   "id": "7afc0fbd-5312-41c1-9219-51b7b626be69",
   "metadata": {},
   "outputs": [
    {
     "data": {
      "text/html": [
       "<div>\n",
       "<style scoped>\n",
       "    .dataframe tbody tr th:only-of-type {\n",
       "        vertical-align: middle;\n",
       "    }\n",
       "\n",
       "    .dataframe tbody tr th {\n",
       "        vertical-align: top;\n",
       "    }\n",
       "\n",
       "    .dataframe thead th {\n",
       "        text-align: right;\n",
       "    }\n",
       "</style>\n",
       "<table border=\"1\" class=\"dataframe\">\n",
       "  <thead>\n",
       "    <tr style=\"text-align: right;\">\n",
       "      <th></th>\n",
       "      <th>DATE</th>\n",
       "      <th>CITY</th>\n",
       "      <th>PRECIPITATION</th>\n",
       "    </tr>\n",
       "  </thead>\n",
       "  <tbody>\n",
       "    <tr>\n",
       "      <th>0</th>\n",
       "      <td>2018-01-01</td>\n",
       "      <td>SPF</td>\n",
       "      <td>0.00</td>\n",
       "    </tr>\n",
       "    <tr>\n",
       "      <th>1</th>\n",
       "      <td>2018-01-02</td>\n",
       "      <td>SPF</td>\n",
       "      <td>0.00</td>\n",
       "    </tr>\n",
       "    <tr>\n",
       "      <th>2</th>\n",
       "      <td>2018-01-03</td>\n",
       "      <td>SPF</td>\n",
       "      <td>0.00</td>\n",
       "    </tr>\n",
       "    <tr>\n",
       "      <th>3</th>\n",
       "      <td>2018-01-04</td>\n",
       "      <td>SPF</td>\n",
       "      <td>0.00</td>\n",
       "    </tr>\n",
       "    <tr>\n",
       "      <th>4</th>\n",
       "      <td>2018-01-05</td>\n",
       "      <td>SPF</td>\n",
       "      <td>0.25</td>\n",
       "    </tr>\n",
       "    <tr>\n",
       "      <th>...</th>\n",
       "      <td>...</td>\n",
       "      <td>...</td>\n",
       "      <td>...</td>\n",
       "    </tr>\n",
       "    <tr>\n",
       "      <th>3639</th>\n",
       "      <td>2022-12-27</td>\n",
       "      <td>SEA</td>\n",
       "      <td>1.22</td>\n",
       "    </tr>\n",
       "    <tr>\n",
       "      <th>3640</th>\n",
       "      <td>2022-12-28</td>\n",
       "      <td>SEA</td>\n",
       "      <td>1.28</td>\n",
       "    </tr>\n",
       "    <tr>\n",
       "      <th>3641</th>\n",
       "      <td>2022-12-29</td>\n",
       "      <td>SEA</td>\n",
       "      <td>0.27</td>\n",
       "    </tr>\n",
       "    <tr>\n",
       "      <th>3642</th>\n",
       "      <td>2022-12-30</td>\n",
       "      <td>SEA</td>\n",
       "      <td>0.32</td>\n",
       "    </tr>\n",
       "    <tr>\n",
       "      <th>3643</th>\n",
       "      <td>2022-12-31</td>\n",
       "      <td>SEA</td>\n",
       "      <td>0.73</td>\n",
       "    </tr>\n",
       "  </tbody>\n",
       "</table>\n",
       "<p>3644 rows × 3 columns</p>\n",
       "</div>"
      ],
      "text/plain": [
       "           DATE CITY  PRECIPITATION\n",
       "0    2018-01-01  SPF           0.00\n",
       "1    2018-01-02  SPF           0.00\n",
       "2    2018-01-03  SPF           0.00\n",
       "3    2018-01-04  SPF           0.00\n",
       "4    2018-01-05  SPF           0.25\n",
       "...         ...  ...            ...\n",
       "3639 2022-12-27  SEA           1.22\n",
       "3640 2022-12-28  SEA           1.28\n",
       "3641 2022-12-29  SEA           0.27\n",
       "3642 2022-12-30  SEA           0.32\n",
       "3643 2022-12-31  SEA           0.73\n",
       "\n",
       "[3644 rows x 3 columns]"
      ]
     },
     "execution_count": 400,
     "metadata": {},
     "output_type": "execute_result"
    }
   ],
   "source": [
    "df_tidy.loc[df_tidy['CITY'] == 'PRCP_x', 'CITY'] = 'SPF'\n",
    "df_tidy.loc[df_tidy['CITY'] == 'PRCP_y', 'CITY'] = 'SEA'\n",
    "df_tidy"
   ]
  },
  {
   "cell_type": "markdown",
   "id": "ceac6c7f-70d9-4bd3-9eac-b523d190a027",
   "metadata": {},
   "source": [
    "### Imputing the Data\n",
    "Imputing means creating missing data.\n",
    "Let's start by checking how much data is missing..."
   ]
  },
  {
   "cell_type": "code",
   "execution_count": 401,
   "id": "30bf30a2-3476-47b7-8859-d111afbcc86c",
   "metadata": {},
   "outputs": [
    {
     "data": {
      "text/plain": [
       "DATE             3644\n",
       "CITY             3644\n",
       "PRECIPITATION    3445\n",
       "dtype: int64"
      ]
     },
     "execution_count": 401,
     "metadata": {},
     "output_type": "execute_result"
    }
   ],
   "source": [
    "df_tidy.notna().sum()"
   ]
  },
  {
   "cell_type": "code",
   "execution_count": 402,
   "id": "69798595-8bc0-450a-9a2d-e38d399ad5a7",
   "metadata": {},
   "outputs": [
    {
     "data": {
      "text/plain": [
       "DATE               0\n",
       "CITY               0\n",
       "PRECIPITATION    199\n",
       "dtype: int64"
      ]
     },
     "execution_count": 402,
     "metadata": {},
     "output_type": "execute_result"
    }
   ],
   "source": [
    "df_tidy.isna().sum()"
   ]
  },
  {
   "cell_type": "markdown",
   "id": "e3e01492-041f-40eb-a45a-71222d9b3416",
   "metadata": {},
   "source": [
    "We have missing precipitation values between the joined data sets. Let's see the split between Seattle and Springfield."
   ]
  },
  {
   "cell_type": "code",
   "execution_count": 403,
   "id": "89e985da-2601-4aa7-afc0-77b267078110",
   "metadata": {},
   "outputs": [
    {
     "data": {
      "text/plain": [
       "13"
      ]
     },
     "execution_count": 403,
     "metadata": {},
     "output_type": "execute_result"
    }
   ],
   "source": [
    "df_tidy.loc[df_tidy['CITY'] == 'SEA', 'PRECIPITATION'].isna().sum()"
   ]
  },
  {
   "cell_type": "code",
   "execution_count": 404,
   "id": "74a8940d-ed5b-43ad-95c8-bdb12ccd1bf0",
   "metadata": {},
   "outputs": [
    {
     "data": {
      "text/plain": [
       "1809"
      ]
     },
     "execution_count": 404,
     "metadata": {},
     "output_type": "execute_result"
    }
   ],
   "source": [
    "df_tidy.loc[df_tidy['CITY'] == 'SEA', 'PRECIPITATION'].notna().sum()"
   ]
  },
  {
   "cell_type": "code",
   "execution_count": 405,
   "id": "c49a517e-0c0e-40a0-8ec2-72ff9478b315",
   "metadata": {},
   "outputs": [
    {
     "data": {
      "text/plain": [
       "1822"
      ]
     },
     "execution_count": 405,
     "metadata": {},
     "output_type": "execute_result"
    }
   ],
   "source": [
    "df_tidy.loc[df_tidy['CITY'] == 'SEA', 'PRECIPITATION'].size"
   ]
  },
  {
   "cell_type": "code",
   "execution_count": 406,
   "id": "803deeee-c76a-4bbf-a52d-6ca76e008f0f",
   "metadata": {},
   "outputs": [
    {
     "data": {
      "text/plain": [
       "186"
      ]
     },
     "execution_count": 406,
     "metadata": {},
     "output_type": "execute_result"
    }
   ],
   "source": [
    "df_tidy.loc[df_tidy['CITY'] == 'SPF', 'PRECIPITATION'].isna().sum()"
   ]
  },
  {
   "cell_type": "code",
   "execution_count": 407,
   "id": "5e3bc2f3-bf3a-41fc-bf26-bf482a4b432e",
   "metadata": {},
   "outputs": [
    {
     "data": {
      "text/plain": [
       "1636"
      ]
     },
     "execution_count": 407,
     "metadata": {},
     "output_type": "execute_result"
    }
   ],
   "source": [
    "df_tidy.loc[df_tidy['CITY'] == 'SPF', 'PRECIPITATION'].notna().sum()"
   ]
  },
  {
   "cell_type": "code",
   "execution_count": 408,
   "id": "87e0791c-d1dd-4c19-979b-6fd389024525",
   "metadata": {},
   "outputs": [
    {
     "data": {
      "text/plain": [
       "1822"
      ]
     },
     "execution_count": 408,
     "metadata": {},
     "output_type": "execute_result"
    }
   ],
   "source": [
    "df_tidy.loc[df_tidy['CITY'] == 'SPF', 'PRECIPITATION'].size"
   ]
  },
  {
   "cell_type": "markdown",
   "id": "a90d6015-db1b-484e-ad95-04ea8450116c",
   "metadata": {},
   "source": [
    "So there are a far more missing precip values for Springfield. How many full datapoints should we be expecting for each set? Jan 01 2018 to Dec 31 2022 is 5 years."
   ]
  },
  {
   "cell_type": "code",
   "execution_count": 409,
   "id": "8a81945a-2dc2-4b6b-afd3-1f4fa7bd643b",
   "metadata": {},
   "outputs": [
    {
     "data": {
      "text/plain": [
       "1826"
      ]
     },
     "execution_count": 409,
     "metadata": {},
     "output_type": "execute_result"
    }
   ],
   "source": [
    "5 * 365 + 1"
   ]
  },
  {
   "cell_type": "markdown",
   "id": "2b77fe7a-af51-48d9-835c-1cd29c13c7bf",
   "metadata": {},
   "source": [
    "Total should be twice that (for two cities)."
   ]
  },
  {
   "cell_type": "code",
   "execution_count": 410,
   "id": "e2e0738d-5712-4a5c-a4d7-8bb3ab4556bd",
   "metadata": {},
   "outputs": [
    {
     "data": {
      "text/plain": [
       "3652"
      ]
     },
     "execution_count": 410,
     "metadata": {},
     "output_type": "execute_result"
    }
   ],
   "source": [
    "2 * (5 * 365 + 1)"
   ]
  },
  {
   "cell_type": "markdown",
   "id": "3f2531aa-bb2e-4109-990b-c2fe7f602e57",
   "metadata": {},
   "source": [
    "Reminder: the total length of our data set is less than that."
   ]
  },
  {
   "cell_type": "code",
   "execution_count": 411,
   "id": "54a3ffd1-0eac-493b-a8b3-1be1a1030ad1",
   "metadata": {},
   "outputs": [
    {
     "data": {
      "text/plain": [
       "3644"
      ]
     },
     "execution_count": 411,
     "metadata": {},
     "output_type": "execute_result"
    }
   ],
   "source": [
    "df_tidy['PRECIPITATION'].size"
   ]
  },
  {
   "cell_type": "markdown",
   "id": "1a15e877-7b58-435f-89f1-3cad88e84307",
   "metadata": {},
   "source": [
    "So we're missing some dates from both sets. To determine them, we will build a dataframe of all expected dates in the period."
   ]
  },
  {
   "cell_type": "code",
   "execution_count": 412,
   "id": "2d9db78e-24bd-405a-924c-428406102ba2",
   "metadata": {},
   "outputs": [
    {
     "data": {
      "text/html": [
       "<div>\n",
       "<style scoped>\n",
       "    .dataframe tbody tr th:only-of-type {\n",
       "        vertical-align: middle;\n",
       "    }\n",
       "\n",
       "    .dataframe tbody tr th {\n",
       "        vertical-align: top;\n",
       "    }\n",
       "\n",
       "    .dataframe thead th {\n",
       "        text-align: right;\n",
       "    }\n",
       "</style>\n",
       "<table border=\"1\" class=\"dataframe\">\n",
       "  <thead>\n",
       "    <tr style=\"text-align: right;\">\n",
       "      <th></th>\n",
       "      <th>DATE</th>\n",
       "    </tr>\n",
       "  </thead>\n",
       "  <tbody>\n",
       "    <tr>\n",
       "      <th>0</th>\n",
       "      <td>2018-01-01</td>\n",
       "    </tr>\n",
       "    <tr>\n",
       "      <th>1</th>\n",
       "      <td>2018-01-02</td>\n",
       "    </tr>\n",
       "    <tr>\n",
       "      <th>2</th>\n",
       "      <td>2018-01-03</td>\n",
       "    </tr>\n",
       "    <tr>\n",
       "      <th>3</th>\n",
       "      <td>2018-01-04</td>\n",
       "    </tr>\n",
       "    <tr>\n",
       "      <th>4</th>\n",
       "      <td>2018-01-05</td>\n",
       "    </tr>\n",
       "    <tr>\n",
       "      <th>...</th>\n",
       "      <td>...</td>\n",
       "    </tr>\n",
       "    <tr>\n",
       "      <th>1821</th>\n",
       "      <td>2022-12-27</td>\n",
       "    </tr>\n",
       "    <tr>\n",
       "      <th>1822</th>\n",
       "      <td>2022-12-28</td>\n",
       "    </tr>\n",
       "    <tr>\n",
       "      <th>1823</th>\n",
       "      <td>2022-12-29</td>\n",
       "    </tr>\n",
       "    <tr>\n",
       "      <th>1824</th>\n",
       "      <td>2022-12-30</td>\n",
       "    </tr>\n",
       "    <tr>\n",
       "      <th>1825</th>\n",
       "      <td>2022-12-31</td>\n",
       "    </tr>\n",
       "  </tbody>\n",
       "</table>\n",
       "<p>1826 rows × 1 columns</p>\n",
       "</div>"
      ],
      "text/plain": [
       "           DATE\n",
       "0    2018-01-01\n",
       "1    2018-01-02\n",
       "2    2018-01-03\n",
       "3    2018-01-04\n",
       "4    2018-01-05\n",
       "...         ...\n",
       "1821 2022-12-27\n",
       "1822 2022-12-28\n",
       "1823 2022-12-29\n",
       "1824 2022-12-30\n",
       "1825 2022-12-31\n",
       "\n",
       "[1826 rows x 1 columns]"
      ]
     },
     "execution_count": 412,
     "metadata": {},
     "output_type": "execute_result"
    }
   ],
   "source": [
    "df_alldates = pd.date_range(start='01-Jan-2018', end='31-Dec-2022', freq='D', name='DATE').to_frame(index=False)\n",
    "df_alldates"
   ]
  },
  {
   "cell_type": "markdown",
   "id": "ac2f9067-d256-432d-8f56-4fc11e68be5d",
   "metadata": {},
   "source": [
    "And then let's make a frame for our cities."
   ]
  },
  {
   "cell_type": "code",
   "execution_count": 413,
   "id": "80860cb6-739c-41b1-a961-1bf4ca95a532",
   "metadata": {
    "scrolled": true
   },
   "outputs": [],
   "source": [
    "df_cities = pd.DataFrame(columns = [\"CITY\"], data=[['SEA'],['SPF']])"
   ]
  },
  {
   "cell_type": "markdown",
   "id": "6acba8b1-ec41-4dec-b5ef-9da8787584de",
   "metadata": {},
   "source": [
    "So now we can cross join the two dataframes we just constructed to create a combo of each city with each date."
   ]
  },
  {
   "cell_type": "code",
   "execution_count": 414,
   "id": "5136140d-e51d-4a2b-a4dd-1b840190b1d4",
   "metadata": {},
   "outputs": [
    {
     "data": {
      "text/html": [
       "<div>\n",
       "<style scoped>\n",
       "    .dataframe tbody tr th:only-of-type {\n",
       "        vertical-align: middle;\n",
       "    }\n",
       "\n",
       "    .dataframe tbody tr th {\n",
       "        vertical-align: top;\n",
       "    }\n",
       "\n",
       "    .dataframe thead th {\n",
       "        text-align: right;\n",
       "    }\n",
       "</style>\n",
       "<table border=\"1\" class=\"dataframe\">\n",
       "  <thead>\n",
       "    <tr style=\"text-align: right;\">\n",
       "      <th></th>\n",
       "      <th>CITY</th>\n",
       "      <th>DATE</th>\n",
       "    </tr>\n",
       "  </thead>\n",
       "  <tbody>\n",
       "    <tr>\n",
       "      <th>0</th>\n",
       "      <td>SEA</td>\n",
       "      <td>2018-01-01</td>\n",
       "    </tr>\n",
       "    <tr>\n",
       "      <th>1</th>\n",
       "      <td>SEA</td>\n",
       "      <td>2018-01-02</td>\n",
       "    </tr>\n",
       "    <tr>\n",
       "      <th>2</th>\n",
       "      <td>SEA</td>\n",
       "      <td>2018-01-03</td>\n",
       "    </tr>\n",
       "    <tr>\n",
       "      <th>3</th>\n",
       "      <td>SEA</td>\n",
       "      <td>2018-01-04</td>\n",
       "    </tr>\n",
       "    <tr>\n",
       "      <th>4</th>\n",
       "      <td>SEA</td>\n",
       "      <td>2018-01-05</td>\n",
       "    </tr>\n",
       "    <tr>\n",
       "      <th>...</th>\n",
       "      <td>...</td>\n",
       "      <td>...</td>\n",
       "    </tr>\n",
       "    <tr>\n",
       "      <th>3647</th>\n",
       "      <td>SPF</td>\n",
       "      <td>2022-12-27</td>\n",
       "    </tr>\n",
       "    <tr>\n",
       "      <th>3648</th>\n",
       "      <td>SPF</td>\n",
       "      <td>2022-12-28</td>\n",
       "    </tr>\n",
       "    <tr>\n",
       "      <th>3649</th>\n",
       "      <td>SPF</td>\n",
       "      <td>2022-12-29</td>\n",
       "    </tr>\n",
       "    <tr>\n",
       "      <th>3650</th>\n",
       "      <td>SPF</td>\n",
       "      <td>2022-12-30</td>\n",
       "    </tr>\n",
       "    <tr>\n",
       "      <th>3651</th>\n",
       "      <td>SPF</td>\n",
       "      <td>2022-12-31</td>\n",
       "    </tr>\n",
       "  </tbody>\n",
       "</table>\n",
       "<p>3652 rows × 2 columns</p>\n",
       "</div>"
      ],
      "text/plain": [
       "     CITY       DATE\n",
       "0     SEA 2018-01-01\n",
       "1     SEA 2018-01-02\n",
       "2     SEA 2018-01-03\n",
       "3     SEA 2018-01-04\n",
       "4     SEA 2018-01-05\n",
       "...   ...        ...\n",
       "3647  SPF 2022-12-27\n",
       "3648  SPF 2022-12-28\n",
       "3649  SPF 2022-12-29\n",
       "3650  SPF 2022-12-30\n",
       "3651  SPF 2022-12-31\n",
       "\n",
       "[3652 rows x 2 columns]"
      ]
     },
     "execution_count": 414,
     "metadata": {},
     "output_type": "execute_result"
    }
   ],
   "source": [
    "df_citydate = df_cities.merge(df_alldates, how='cross')\n",
    "df_citydate"
   ]
  },
  {
   "cell_type": "markdown",
   "id": "bb6fd822-fa06-47de-b74c-85cbe08042db",
   "metadata": {},
   "source": [
    "Now we can outer join our expected data with what we actually have to determine the missing dates. The dates and the cities make up the join key."
   ]
  },
  {
   "cell_type": "code",
   "execution_count": 415,
   "id": "d2de877e-747c-4f24-85bb-4d3618208fcc",
   "metadata": {},
   "outputs": [
    {
     "data": {
      "text/html": [
       "<div>\n",
       "<style scoped>\n",
       "    .dataframe tbody tr th:only-of-type {\n",
       "        vertical-align: middle;\n",
       "    }\n",
       "\n",
       "    .dataframe tbody tr th {\n",
       "        vertical-align: top;\n",
       "    }\n",
       "\n",
       "    .dataframe thead th {\n",
       "        text-align: right;\n",
       "    }\n",
       "</style>\n",
       "<table border=\"1\" class=\"dataframe\">\n",
       "  <thead>\n",
       "    <tr style=\"text-align: right;\">\n",
       "      <th></th>\n",
       "      <th>DATE</th>\n",
       "      <th>CITY</th>\n",
       "      <th>PRECIPITATION</th>\n",
       "    </tr>\n",
       "  </thead>\n",
       "  <tbody>\n",
       "    <tr>\n",
       "      <th>0</th>\n",
       "      <td>2018-01-01</td>\n",
       "      <td>SEA</td>\n",
       "      <td>0.02</td>\n",
       "    </tr>\n",
       "    <tr>\n",
       "      <th>1</th>\n",
       "      <td>2018-01-02</td>\n",
       "      <td>SEA</td>\n",
       "      <td>0.00</td>\n",
       "    </tr>\n",
       "    <tr>\n",
       "      <th>2</th>\n",
       "      <td>2018-01-03</td>\n",
       "      <td>SEA</td>\n",
       "      <td>0.00</td>\n",
       "    </tr>\n",
       "    <tr>\n",
       "      <th>3</th>\n",
       "      <td>2018-01-04</td>\n",
       "      <td>SEA</td>\n",
       "      <td>0.02</td>\n",
       "    </tr>\n",
       "    <tr>\n",
       "      <th>4</th>\n",
       "      <td>2018-01-05</td>\n",
       "      <td>SEA</td>\n",
       "      <td>0.13</td>\n",
       "    </tr>\n",
       "    <tr>\n",
       "      <th>...</th>\n",
       "      <td>...</td>\n",
       "      <td>...</td>\n",
       "      <td>...</td>\n",
       "    </tr>\n",
       "    <tr>\n",
       "      <th>3647</th>\n",
       "      <td>2022-12-27</td>\n",
       "      <td>SPF</td>\n",
       "      <td>0.78</td>\n",
       "    </tr>\n",
       "    <tr>\n",
       "      <th>3648</th>\n",
       "      <td>2022-12-28</td>\n",
       "      <td>SPF</td>\n",
       "      <td>0.40</td>\n",
       "    </tr>\n",
       "    <tr>\n",
       "      <th>3649</th>\n",
       "      <td>2022-12-29</td>\n",
       "      <td>SPF</td>\n",
       "      <td>0.03</td>\n",
       "    </tr>\n",
       "    <tr>\n",
       "      <th>3650</th>\n",
       "      <td>2022-12-30</td>\n",
       "      <td>SPF</td>\n",
       "      <td>0.62</td>\n",
       "    </tr>\n",
       "    <tr>\n",
       "      <th>3651</th>\n",
       "      <td>2022-12-31</td>\n",
       "      <td>SPF</td>\n",
       "      <td>0.17</td>\n",
       "    </tr>\n",
       "  </tbody>\n",
       "</table>\n",
       "<p>3652 rows × 3 columns</p>\n",
       "</div>"
      ],
      "text/plain": [
       "           DATE CITY  PRECIPITATION\n",
       "0    2018-01-01  SEA           0.02\n",
       "1    2018-01-02  SEA           0.00\n",
       "2    2018-01-03  SEA           0.00\n",
       "3    2018-01-04  SEA           0.02\n",
       "4    2018-01-05  SEA           0.13\n",
       "...         ...  ...            ...\n",
       "3647 2022-12-27  SPF           0.78\n",
       "3648 2022-12-28  SPF           0.40\n",
       "3649 2022-12-29  SPF           0.03\n",
       "3650 2022-12-30  SPF           0.62\n",
       "3651 2022-12-31  SPF           0.17\n",
       "\n",
       "[3652 rows x 3 columns]"
      ]
     },
     "execution_count": 415,
     "metadata": {},
     "output_type": "execute_result"
    }
   ],
   "source": [
    "df_tidy_a = pd.merge(df_tidy, df_citydate, on=['DATE','CITY'], how='outer').sort_values(['CITY','DATE']).reset_index(drop=True)\n",
    "df_tidy_a"
   ]
  },
  {
   "cell_type": "markdown",
   "id": "f213a2ab-e6b8-4c85-9d6b-d399a88be2a8",
   "metadata": {},
   "source": [
    "And we can see that we do in fact have the 3652 records we are expecting. Now, let's consider how to treat all those missing values. "
   ]
  },
  {
   "cell_type": "code",
   "execution_count": 416,
   "id": "82d4799d-05ec-47c1-9617-41a1a58741e3",
   "metadata": {},
   "outputs": [
    {
     "data": {
      "text/html": [
       "<div>\n",
       "<style scoped>\n",
       "    .dataframe tbody tr th:only-of-type {\n",
       "        vertical-align: middle;\n",
       "    }\n",
       "\n",
       "    .dataframe tbody tr th {\n",
       "        vertical-align: top;\n",
       "    }\n",
       "\n",
       "    .dataframe thead th {\n",
       "        text-align: right;\n",
       "    }\n",
       "</style>\n",
       "<table border=\"1\" class=\"dataframe\">\n",
       "  <thead>\n",
       "    <tr style=\"text-align: right;\">\n",
       "      <th></th>\n",
       "      <th>DATE</th>\n",
       "      <th>CITY</th>\n",
       "      <th>PRECIPITATION</th>\n",
       "    </tr>\n",
       "  </thead>\n",
       "  <tbody>\n",
       "    <tr>\n",
       "      <th>37</th>\n",
       "      <td>2018-02-07</td>\n",
       "      <td>SEA</td>\n",
       "      <td>NaN</td>\n",
       "    </tr>\n",
       "    <tr>\n",
       "      <th>38</th>\n",
       "      <td>2018-02-08</td>\n",
       "      <td>SEA</td>\n",
       "      <td>NaN</td>\n",
       "    </tr>\n",
       "    <tr>\n",
       "      <th>39</th>\n",
       "      <td>2018-02-09</td>\n",
       "      <td>SEA</td>\n",
       "      <td>NaN</td>\n",
       "    </tr>\n",
       "    <tr>\n",
       "      <th>490</th>\n",
       "      <td>2019-05-06</td>\n",
       "      <td>SEA</td>\n",
       "      <td>NaN</td>\n",
       "    </tr>\n",
       "    <tr>\n",
       "      <th>549</th>\n",
       "      <td>2019-07-04</td>\n",
       "      <td>SEA</td>\n",
       "      <td>NaN</td>\n",
       "    </tr>\n",
       "    <tr>\n",
       "      <th>...</th>\n",
       "      <td>...</td>\n",
       "      <td>...</td>\n",
       "      <td>...</td>\n",
       "    </tr>\n",
       "    <tr>\n",
       "      <th>3368</th>\n",
       "      <td>2022-03-23</td>\n",
       "      <td>SPF</td>\n",
       "      <td>NaN</td>\n",
       "    </tr>\n",
       "    <tr>\n",
       "      <th>3369</th>\n",
       "      <td>2022-03-24</td>\n",
       "      <td>SPF</td>\n",
       "      <td>NaN</td>\n",
       "    </tr>\n",
       "    <tr>\n",
       "      <th>3370</th>\n",
       "      <td>2022-03-25</td>\n",
       "      <td>SPF</td>\n",
       "      <td>NaN</td>\n",
       "    </tr>\n",
       "    <tr>\n",
       "      <th>3371</th>\n",
       "      <td>2022-03-26</td>\n",
       "      <td>SPF</td>\n",
       "      <td>NaN</td>\n",
       "    </tr>\n",
       "    <tr>\n",
       "      <th>3372</th>\n",
       "      <td>2022-03-27</td>\n",
       "      <td>SPF</td>\n",
       "      <td>NaN</td>\n",
       "    </tr>\n",
       "  </tbody>\n",
       "</table>\n",
       "<p>207 rows × 3 columns</p>\n",
       "</div>"
      ],
      "text/plain": [
       "           DATE CITY  PRECIPITATION\n",
       "37   2018-02-07  SEA            NaN\n",
       "38   2018-02-08  SEA            NaN\n",
       "39   2018-02-09  SEA            NaN\n",
       "490  2019-05-06  SEA            NaN\n",
       "549  2019-07-04  SEA            NaN\n",
       "...         ...  ...            ...\n",
       "3368 2022-03-23  SPF            NaN\n",
       "3369 2022-03-24  SPF            NaN\n",
       "3370 2022-03-25  SPF            NaN\n",
       "3371 2022-03-26  SPF            NaN\n",
       "3372 2022-03-27  SPF            NaN\n",
       "\n",
       "[207 rows x 3 columns]"
      ]
     },
     "execution_count": 416,
     "metadata": {},
     "output_type": "execute_result"
    }
   ],
   "source": [
    "df_tidy_a.loc[df_tidy_a['PRECIPITATION'].isna()]"
   ]
  },
  {
   "cell_type": "markdown",
   "id": "c2461ab6-21ad-4c1d-9fbf-1746800ce95e",
   "metadata": {},
   "source": [
    "But that will likely be too broad a mean. Let's use the mean by day of year for each city set. There should be nearly five instances of each day in each city. We will need a day of year column calculated from the date column."
   ]
  },
  {
   "cell_type": "code",
   "execution_count": 417,
   "id": "a9224c1d-c4d1-46bd-b15e-62ffbadc5e28",
   "metadata": {},
   "outputs": [
    {
     "data": {
      "text/html": [
       "<div>\n",
       "<style scoped>\n",
       "    .dataframe tbody tr th:only-of-type {\n",
       "        vertical-align: middle;\n",
       "    }\n",
       "\n",
       "    .dataframe tbody tr th {\n",
       "        vertical-align: top;\n",
       "    }\n",
       "\n",
       "    .dataframe thead th {\n",
       "        text-align: right;\n",
       "    }\n",
       "</style>\n",
       "<table border=\"1\" class=\"dataframe\">\n",
       "  <thead>\n",
       "    <tr style=\"text-align: right;\">\n",
       "      <th></th>\n",
       "      <th>DATE</th>\n",
       "      <th>CITY</th>\n",
       "      <th>PRECIPITATION</th>\n",
       "      <th>DAY_OF_YEAR</th>\n",
       "    </tr>\n",
       "  </thead>\n",
       "  <tbody>\n",
       "    <tr>\n",
       "      <th>0</th>\n",
       "      <td>2018-01-01</td>\n",
       "      <td>SEA</td>\n",
       "      <td>0.02</td>\n",
       "      <td>1</td>\n",
       "    </tr>\n",
       "    <tr>\n",
       "      <th>1</th>\n",
       "      <td>2018-01-02</td>\n",
       "      <td>SEA</td>\n",
       "      <td>0.00</td>\n",
       "      <td>2</td>\n",
       "    </tr>\n",
       "    <tr>\n",
       "      <th>2</th>\n",
       "      <td>2018-01-03</td>\n",
       "      <td>SEA</td>\n",
       "      <td>0.00</td>\n",
       "      <td>3</td>\n",
       "    </tr>\n",
       "    <tr>\n",
       "      <th>3</th>\n",
       "      <td>2018-01-04</td>\n",
       "      <td>SEA</td>\n",
       "      <td>0.02</td>\n",
       "      <td>4</td>\n",
       "    </tr>\n",
       "    <tr>\n",
       "      <th>4</th>\n",
       "      <td>2018-01-05</td>\n",
       "      <td>SEA</td>\n",
       "      <td>0.13</td>\n",
       "      <td>5</td>\n",
       "    </tr>\n",
       "    <tr>\n",
       "      <th>...</th>\n",
       "      <td>...</td>\n",
       "      <td>...</td>\n",
       "      <td>...</td>\n",
       "      <td>...</td>\n",
       "    </tr>\n",
       "    <tr>\n",
       "      <th>3647</th>\n",
       "      <td>2022-12-27</td>\n",
       "      <td>SPF</td>\n",
       "      <td>0.78</td>\n",
       "      <td>361</td>\n",
       "    </tr>\n",
       "    <tr>\n",
       "      <th>3648</th>\n",
       "      <td>2022-12-28</td>\n",
       "      <td>SPF</td>\n",
       "      <td>0.40</td>\n",
       "      <td>362</td>\n",
       "    </tr>\n",
       "    <tr>\n",
       "      <th>3649</th>\n",
       "      <td>2022-12-29</td>\n",
       "      <td>SPF</td>\n",
       "      <td>0.03</td>\n",
       "      <td>363</td>\n",
       "    </tr>\n",
       "    <tr>\n",
       "      <th>3650</th>\n",
       "      <td>2022-12-30</td>\n",
       "      <td>SPF</td>\n",
       "      <td>0.62</td>\n",
       "      <td>364</td>\n",
       "    </tr>\n",
       "    <tr>\n",
       "      <th>3651</th>\n",
       "      <td>2022-12-31</td>\n",
       "      <td>SPF</td>\n",
       "      <td>0.17</td>\n",
       "      <td>365</td>\n",
       "    </tr>\n",
       "  </tbody>\n",
       "</table>\n",
       "<p>3652 rows × 4 columns</p>\n",
       "</div>"
      ],
      "text/plain": [
       "           DATE CITY  PRECIPITATION  DAY_OF_YEAR\n",
       "0    2018-01-01  SEA           0.02            1\n",
       "1    2018-01-02  SEA           0.00            2\n",
       "2    2018-01-03  SEA           0.00            3\n",
       "3    2018-01-04  SEA           0.02            4\n",
       "4    2018-01-05  SEA           0.13            5\n",
       "...         ...  ...            ...          ...\n",
       "3647 2022-12-27  SPF           0.78          361\n",
       "3648 2022-12-28  SPF           0.40          362\n",
       "3649 2022-12-29  SPF           0.03          363\n",
       "3650 2022-12-30  SPF           0.62          364\n",
       "3651 2022-12-31  SPF           0.17          365\n",
       "\n",
       "[3652 rows x 4 columns]"
      ]
     },
     "execution_count": 417,
     "metadata": {},
     "output_type": "execute_result"
    }
   ],
   "source": [
    "df_tidy_a['DAY_OF_YEAR'] = pd.DatetimeIndex(df_tidy_a['DATE']).day_of_year\n",
    "df_tidy_a"
   ]
  },
  {
   "cell_type": "markdown",
   "id": "8c919368-f072-4e0d-80c0-40de5dc94454",
   "metadata": {},
   "source": [
    "Now let's create a dataframe of just averages in appropriate groups. We will name the average precipication field uniquely."
   ]
  },
  {
   "cell_type": "code",
   "execution_count": 418,
   "id": "3ab26af9-128d-4536-81e3-18c397fc982e",
   "metadata": {},
   "outputs": [
    {
     "data": {
      "text/html": [
       "<div>\n",
       "<style scoped>\n",
       "    .dataframe tbody tr th:only-of-type {\n",
       "        vertical-align: middle;\n",
       "    }\n",
       "\n",
       "    .dataframe tbody tr th {\n",
       "        vertical-align: top;\n",
       "    }\n",
       "\n",
       "    .dataframe thead th {\n",
       "        text-align: right;\n",
       "    }\n",
       "</style>\n",
       "<table border=\"1\" class=\"dataframe\">\n",
       "  <thead>\n",
       "    <tr style=\"text-align: right;\">\n",
       "      <th></th>\n",
       "      <th>CITY</th>\n",
       "      <th>DAY_OF_YEAR</th>\n",
       "      <th>AVG</th>\n",
       "    </tr>\n",
       "  </thead>\n",
       "  <tbody>\n",
       "    <tr>\n",
       "      <th>0</th>\n",
       "      <td>SEA</td>\n",
       "      <td>1</td>\n",
       "      <td>0.128</td>\n",
       "    </tr>\n",
       "    <tr>\n",
       "      <th>1</th>\n",
       "      <td>SEA</td>\n",
       "      <td>2</td>\n",
       "      <td>0.084</td>\n",
       "    </tr>\n",
       "    <tr>\n",
       "      <th>2</th>\n",
       "      <td>SEA</td>\n",
       "      <td>3</td>\n",
       "      <td>0.242</td>\n",
       "    </tr>\n",
       "    <tr>\n",
       "      <th>3</th>\n",
       "      <td>SEA</td>\n",
       "      <td>4</td>\n",
       "      <td>0.438</td>\n",
       "    </tr>\n",
       "    <tr>\n",
       "      <th>4</th>\n",
       "      <td>SEA</td>\n",
       "      <td>5</td>\n",
       "      <td>0.312</td>\n",
       "    </tr>\n",
       "    <tr>\n",
       "      <th>...</th>\n",
       "      <td>...</td>\n",
       "      <td>...</td>\n",
       "      <td>...</td>\n",
       "    </tr>\n",
       "    <tr>\n",
       "      <th>727</th>\n",
       "      <td>SPF</td>\n",
       "      <td>362</td>\n",
       "      <td>0.120</td>\n",
       "    </tr>\n",
       "    <tr>\n",
       "      <th>728</th>\n",
       "      <td>SPF</td>\n",
       "      <td>363</td>\n",
       "      <td>0.102</td>\n",
       "    </tr>\n",
       "    <tr>\n",
       "      <th>729</th>\n",
       "      <td>SPF</td>\n",
       "      <td>364</td>\n",
       "      <td>0.268</td>\n",
       "    </tr>\n",
       "    <tr>\n",
       "      <th>730</th>\n",
       "      <td>SPF</td>\n",
       "      <td>365</td>\n",
       "      <td>0.140</td>\n",
       "    </tr>\n",
       "    <tr>\n",
       "      <th>731</th>\n",
       "      <td>SPF</td>\n",
       "      <td>366</td>\n",
       "      <td>0.500</td>\n",
       "    </tr>\n",
       "  </tbody>\n",
       "</table>\n",
       "<p>732 rows × 3 columns</p>\n",
       "</div>"
      ],
      "text/plain": [
       "    CITY  DAY_OF_YEAR    AVG\n",
       "0    SEA            1  0.128\n",
       "1    SEA            2  0.084\n",
       "2    SEA            3  0.242\n",
       "3    SEA            4  0.438\n",
       "4    SEA            5  0.312\n",
       "..   ...          ...    ...\n",
       "727  SPF          362  0.120\n",
       "728  SPF          363  0.102\n",
       "729  SPF          364  0.268\n",
       "730  SPF          365  0.140\n",
       "731  SPF          366  0.500\n",
       "\n",
       "[732 rows x 3 columns]"
      ]
     },
     "execution_count": 418,
     "metadata": {},
     "output_type": "execute_result"
    }
   ],
   "source": [
    "df_daycityavg = pd.DataFrame(df_tidy_a.groupby(['CITY','DAY_OF_YEAR'])['PRECIPITATION'].mean()).reset_index()\n",
    "df_daycityavg.rename(columns={'PRECIPITATION':'AVG'}, inplace=True)\n",
    "df_daycityavg"
   ]
  },
  {
   "cell_type": "markdown",
   "id": "30bd2239-9533-418d-bb43-e216dc47f35d",
   "metadata": {},
   "source": [
    "Now we can apply the averages to our existing larger dataframe. We can join them in."
   ]
  },
  {
   "cell_type": "code",
   "execution_count": 419,
   "id": "02d5f511-52f7-4cb9-abc7-92c0b4d587a3",
   "metadata": {},
   "outputs": [
    {
     "data": {
      "text/html": [
       "<div>\n",
       "<style scoped>\n",
       "    .dataframe tbody tr th:only-of-type {\n",
       "        vertical-align: middle;\n",
       "    }\n",
       "\n",
       "    .dataframe tbody tr th {\n",
       "        vertical-align: top;\n",
       "    }\n",
       "\n",
       "    .dataframe thead th {\n",
       "        text-align: right;\n",
       "    }\n",
       "</style>\n",
       "<table border=\"1\" class=\"dataframe\">\n",
       "  <thead>\n",
       "    <tr style=\"text-align: right;\">\n",
       "      <th></th>\n",
       "      <th>DATE</th>\n",
       "      <th>CITY</th>\n",
       "      <th>PRECIPITATION</th>\n",
       "      <th>DAY_OF_YEAR</th>\n",
       "      <th>AVG</th>\n",
       "    </tr>\n",
       "  </thead>\n",
       "  <tbody>\n",
       "    <tr>\n",
       "      <th>0</th>\n",
       "      <td>2018-01-01</td>\n",
       "      <td>SEA</td>\n",
       "      <td>0.02</td>\n",
       "      <td>1</td>\n",
       "      <td>0.128</td>\n",
       "    </tr>\n",
       "    <tr>\n",
       "      <th>1</th>\n",
       "      <td>2018-01-02</td>\n",
       "      <td>SEA</td>\n",
       "      <td>0.00</td>\n",
       "      <td>2</td>\n",
       "      <td>0.084</td>\n",
       "    </tr>\n",
       "    <tr>\n",
       "      <th>2</th>\n",
       "      <td>2018-01-03</td>\n",
       "      <td>SEA</td>\n",
       "      <td>0.00</td>\n",
       "      <td>3</td>\n",
       "      <td>0.242</td>\n",
       "    </tr>\n",
       "    <tr>\n",
       "      <th>3</th>\n",
       "      <td>2018-01-04</td>\n",
       "      <td>SEA</td>\n",
       "      <td>0.02</td>\n",
       "      <td>4</td>\n",
       "      <td>0.438</td>\n",
       "    </tr>\n",
       "    <tr>\n",
       "      <th>4</th>\n",
       "      <td>2018-01-05</td>\n",
       "      <td>SEA</td>\n",
       "      <td>0.13</td>\n",
       "      <td>5</td>\n",
       "      <td>0.312</td>\n",
       "    </tr>\n",
       "    <tr>\n",
       "      <th>...</th>\n",
       "      <td>...</td>\n",
       "      <td>...</td>\n",
       "      <td>...</td>\n",
       "      <td>...</td>\n",
       "      <td>...</td>\n",
       "    </tr>\n",
       "    <tr>\n",
       "      <th>3647</th>\n",
       "      <td>2022-12-27</td>\n",
       "      <td>SPF</td>\n",
       "      <td>0.78</td>\n",
       "      <td>361</td>\n",
       "      <td>0.304</td>\n",
       "    </tr>\n",
       "    <tr>\n",
       "      <th>3648</th>\n",
       "      <td>2022-12-28</td>\n",
       "      <td>SPF</td>\n",
       "      <td>0.40</td>\n",
       "      <td>362</td>\n",
       "      <td>0.120</td>\n",
       "    </tr>\n",
       "    <tr>\n",
       "      <th>3649</th>\n",
       "      <td>2022-12-29</td>\n",
       "      <td>SPF</td>\n",
       "      <td>0.03</td>\n",
       "      <td>363</td>\n",
       "      <td>0.102</td>\n",
       "    </tr>\n",
       "    <tr>\n",
       "      <th>3650</th>\n",
       "      <td>2022-12-30</td>\n",
       "      <td>SPF</td>\n",
       "      <td>0.62</td>\n",
       "      <td>364</td>\n",
       "      <td>0.268</td>\n",
       "    </tr>\n",
       "    <tr>\n",
       "      <th>3651</th>\n",
       "      <td>2022-12-31</td>\n",
       "      <td>SPF</td>\n",
       "      <td>0.17</td>\n",
       "      <td>365</td>\n",
       "      <td>0.140</td>\n",
       "    </tr>\n",
       "  </tbody>\n",
       "</table>\n",
       "<p>3652 rows × 5 columns</p>\n",
       "</div>"
      ],
      "text/plain": [
       "           DATE CITY  PRECIPITATION  DAY_OF_YEAR    AVG\n",
       "0    2018-01-01  SEA           0.02            1  0.128\n",
       "1    2018-01-02  SEA           0.00            2  0.084\n",
       "2    2018-01-03  SEA           0.00            3  0.242\n",
       "3    2018-01-04  SEA           0.02            4  0.438\n",
       "4    2018-01-05  SEA           0.13            5  0.312\n",
       "...         ...  ...            ...          ...    ...\n",
       "3647 2022-12-27  SPF           0.78          361  0.304\n",
       "3648 2022-12-28  SPF           0.40          362  0.120\n",
       "3649 2022-12-29  SPF           0.03          363  0.102\n",
       "3650 2022-12-30  SPF           0.62          364  0.268\n",
       "3651 2022-12-31  SPF           0.17          365  0.140\n",
       "\n",
       "[3652 rows x 5 columns]"
      ]
     },
     "execution_count": 419,
     "metadata": {},
     "output_type": "execute_result"
    }
   ],
   "source": [
    "df_w_avg = pd.merge(df_tidy_a, df_daycityavg, on=['DAY_OF_YEAR','CITY'], how='inner').sort_values(['CITY','DATE']).reset_index(drop=True)\n",
    "df_w_avg"
   ]
  },
  {
   "cell_type": "code",
   "execution_count": 420,
   "id": "e2d7b264-4e98-4e74-adc7-7edf77a19a0b",
   "metadata": {},
   "outputs": [
    {
     "data": {
      "text/html": [
       "<div>\n",
       "<style scoped>\n",
       "    .dataframe tbody tr th:only-of-type {\n",
       "        vertical-align: middle;\n",
       "    }\n",
       "\n",
       "    .dataframe tbody tr th {\n",
       "        vertical-align: top;\n",
       "    }\n",
       "\n",
       "    .dataframe thead th {\n",
       "        text-align: right;\n",
       "    }\n",
       "</style>\n",
       "<table border=\"1\" class=\"dataframe\">\n",
       "  <thead>\n",
       "    <tr style=\"text-align: right;\">\n",
       "      <th></th>\n",
       "      <th>DATE</th>\n",
       "      <th>CITY</th>\n",
       "      <th>PRECIPITATION</th>\n",
       "      <th>DAY_OF_YEAR</th>\n",
       "      <th>AVG</th>\n",
       "    </tr>\n",
       "  </thead>\n",
       "  <tbody>\n",
       "    <tr>\n",
       "      <th>30</th>\n",
       "      <td>2018-01-31</td>\n",
       "      <td>SEA</td>\n",
       "      <td>0.07</td>\n",
       "      <td>31</td>\n",
       "      <td>0.1040</td>\n",
       "    </tr>\n",
       "    <tr>\n",
       "      <th>31</th>\n",
       "      <td>2018-02-01</td>\n",
       "      <td>SEA</td>\n",
       "      <td>0.00</td>\n",
       "      <td>32</td>\n",
       "      <td>0.0820</td>\n",
       "    </tr>\n",
       "    <tr>\n",
       "      <th>32</th>\n",
       "      <td>2018-02-02</td>\n",
       "      <td>SEA</td>\n",
       "      <td>0.03</td>\n",
       "      <td>33</td>\n",
       "      <td>0.1600</td>\n",
       "    </tr>\n",
       "    <tr>\n",
       "      <th>33</th>\n",
       "      <td>2018-02-03</td>\n",
       "      <td>SEA</td>\n",
       "      <td>0.04</td>\n",
       "      <td>34</td>\n",
       "      <td>0.3400</td>\n",
       "    </tr>\n",
       "    <tr>\n",
       "      <th>34</th>\n",
       "      <td>2018-02-04</td>\n",
       "      <td>SEA</td>\n",
       "      <td>0.00</td>\n",
       "      <td>35</td>\n",
       "      <td>0.0640</td>\n",
       "    </tr>\n",
       "    <tr>\n",
       "      <th>35</th>\n",
       "      <td>2018-02-05</td>\n",
       "      <td>SEA</td>\n",
       "      <td>0.02</td>\n",
       "      <td>36</td>\n",
       "      <td>0.0800</td>\n",
       "    </tr>\n",
       "    <tr>\n",
       "      <th>36</th>\n",
       "      <td>2018-02-06</td>\n",
       "      <td>SEA</td>\n",
       "      <td>0.00</td>\n",
       "      <td>37</td>\n",
       "      <td>0.0500</td>\n",
       "    </tr>\n",
       "    <tr>\n",
       "      <th>37</th>\n",
       "      <td>2018-02-07</td>\n",
       "      <td>SEA</td>\n",
       "      <td>NaN</td>\n",
       "      <td>38</td>\n",
       "      <td>0.0100</td>\n",
       "    </tr>\n",
       "    <tr>\n",
       "      <th>38</th>\n",
       "      <td>2018-02-08</td>\n",
       "      <td>SEA</td>\n",
       "      <td>NaN</td>\n",
       "      <td>39</td>\n",
       "      <td>0.0625</td>\n",
       "    </tr>\n",
       "    <tr>\n",
       "      <th>39</th>\n",
       "      <td>2018-02-09</td>\n",
       "      <td>SEA</td>\n",
       "      <td>NaN</td>\n",
       "      <td>40</td>\n",
       "      <td>0.2425</td>\n",
       "    </tr>\n",
       "  </tbody>\n",
       "</table>\n",
       "</div>"
      ],
      "text/plain": [
       "         DATE CITY  PRECIPITATION  DAY_OF_YEAR     AVG\n",
       "30 2018-01-31  SEA           0.07           31  0.1040\n",
       "31 2018-02-01  SEA           0.00           32  0.0820\n",
       "32 2018-02-02  SEA           0.03           33  0.1600\n",
       "33 2018-02-03  SEA           0.04           34  0.3400\n",
       "34 2018-02-04  SEA           0.00           35  0.0640\n",
       "35 2018-02-05  SEA           0.02           36  0.0800\n",
       "36 2018-02-06  SEA           0.00           37  0.0500\n",
       "37 2018-02-07  SEA            NaN           38  0.0100\n",
       "38 2018-02-08  SEA            NaN           39  0.0625\n",
       "39 2018-02-09  SEA            NaN           40  0.2425"
      ]
     },
     "execution_count": 420,
     "metadata": {},
     "output_type": "execute_result"
    }
   ],
   "source": [
    "df_w_avg[30:40]"
   ]
  },
  {
   "cell_type": "markdown",
   "id": "d1e65c19-aea6-4e8a-9d7e-feb86671f0a9",
   "metadata": {},
   "source": [
    "Above, we can see the 2018-02-09 date for Seattle was missing data but now we have a complementary average. Now we create a new column holding precipitation or the average, depending on if precipitation was NaN."
   ]
  },
  {
   "cell_type": "code",
   "execution_count": 421,
   "id": "c12453c1-026a-451b-ab34-ce3207daa54d",
   "metadata": {},
   "outputs": [],
   "source": [
    "df_w_avg.loc[df_w_avg['PRECIPITATION'].isna(), 'PRECIPITATION_OR_AVG'] = df_w_avg.loc[df_w_avg['PRECIPITATION'].isna(), 'AVG']\n",
    "df_w_avg.loc[df_w_avg['PRECIPITATION'].notna(), 'PRECIPITATION_OR_AVG'] = df_w_avg.loc[df_w_avg['PRECIPITATION'].notna(), 'PRECIPITATION']"
   ]
  },
  {
   "cell_type": "markdown",
   "id": "5a277016-be7f-43ce-b407-348cf3fa5568",
   "metadata": {},
   "source": [
    "Check that missing precipitation dates use average."
   ]
  },
  {
   "cell_type": "code",
   "execution_count": 422,
   "id": "efc2fc92-f6b2-40a3-a6c5-a1140d39a6d9",
   "metadata": {},
   "outputs": [
    {
     "data": {
      "text/html": [
       "<div>\n",
       "<style scoped>\n",
       "    .dataframe tbody tr th:only-of-type {\n",
       "        vertical-align: middle;\n",
       "    }\n",
       "\n",
       "    .dataframe tbody tr th {\n",
       "        vertical-align: top;\n",
       "    }\n",
       "\n",
       "    .dataframe thead th {\n",
       "        text-align: right;\n",
       "    }\n",
       "</style>\n",
       "<table border=\"1\" class=\"dataframe\">\n",
       "  <thead>\n",
       "    <tr style=\"text-align: right;\">\n",
       "      <th></th>\n",
       "      <th>DATE</th>\n",
       "      <th>CITY</th>\n",
       "      <th>PRECIPITATION</th>\n",
       "      <th>DAY_OF_YEAR</th>\n",
       "      <th>AVG</th>\n",
       "      <th>PRECIPITATION_OR_AVG</th>\n",
       "    </tr>\n",
       "  </thead>\n",
       "  <tbody>\n",
       "    <tr>\n",
       "      <th>30</th>\n",
       "      <td>2018-01-31</td>\n",
       "      <td>SEA</td>\n",
       "      <td>0.07</td>\n",
       "      <td>31</td>\n",
       "      <td>0.1040</td>\n",
       "      <td>0.0700</td>\n",
       "    </tr>\n",
       "    <tr>\n",
       "      <th>31</th>\n",
       "      <td>2018-02-01</td>\n",
       "      <td>SEA</td>\n",
       "      <td>0.00</td>\n",
       "      <td>32</td>\n",
       "      <td>0.0820</td>\n",
       "      <td>0.0000</td>\n",
       "    </tr>\n",
       "    <tr>\n",
       "      <th>32</th>\n",
       "      <td>2018-02-02</td>\n",
       "      <td>SEA</td>\n",
       "      <td>0.03</td>\n",
       "      <td>33</td>\n",
       "      <td>0.1600</td>\n",
       "      <td>0.0300</td>\n",
       "    </tr>\n",
       "    <tr>\n",
       "      <th>33</th>\n",
       "      <td>2018-02-03</td>\n",
       "      <td>SEA</td>\n",
       "      <td>0.04</td>\n",
       "      <td>34</td>\n",
       "      <td>0.3400</td>\n",
       "      <td>0.0400</td>\n",
       "    </tr>\n",
       "    <tr>\n",
       "      <th>34</th>\n",
       "      <td>2018-02-04</td>\n",
       "      <td>SEA</td>\n",
       "      <td>0.00</td>\n",
       "      <td>35</td>\n",
       "      <td>0.0640</td>\n",
       "      <td>0.0000</td>\n",
       "    </tr>\n",
       "    <tr>\n",
       "      <th>35</th>\n",
       "      <td>2018-02-05</td>\n",
       "      <td>SEA</td>\n",
       "      <td>0.02</td>\n",
       "      <td>36</td>\n",
       "      <td>0.0800</td>\n",
       "      <td>0.0200</td>\n",
       "    </tr>\n",
       "    <tr>\n",
       "      <th>36</th>\n",
       "      <td>2018-02-06</td>\n",
       "      <td>SEA</td>\n",
       "      <td>0.00</td>\n",
       "      <td>37</td>\n",
       "      <td>0.0500</td>\n",
       "      <td>0.0000</td>\n",
       "    </tr>\n",
       "    <tr>\n",
       "      <th>37</th>\n",
       "      <td>2018-02-07</td>\n",
       "      <td>SEA</td>\n",
       "      <td>NaN</td>\n",
       "      <td>38</td>\n",
       "      <td>0.0100</td>\n",
       "      <td>0.0100</td>\n",
       "    </tr>\n",
       "    <tr>\n",
       "      <th>38</th>\n",
       "      <td>2018-02-08</td>\n",
       "      <td>SEA</td>\n",
       "      <td>NaN</td>\n",
       "      <td>39</td>\n",
       "      <td>0.0625</td>\n",
       "      <td>0.0625</td>\n",
       "    </tr>\n",
       "    <tr>\n",
       "      <th>39</th>\n",
       "      <td>2018-02-09</td>\n",
       "      <td>SEA</td>\n",
       "      <td>NaN</td>\n",
       "      <td>40</td>\n",
       "      <td>0.2425</td>\n",
       "      <td>0.2425</td>\n",
       "    </tr>\n",
       "  </tbody>\n",
       "</table>\n",
       "</div>"
      ],
      "text/plain": [
       "         DATE CITY  PRECIPITATION  DAY_OF_YEAR     AVG  PRECIPITATION_OR_AVG\n",
       "30 2018-01-31  SEA           0.07           31  0.1040                0.0700\n",
       "31 2018-02-01  SEA           0.00           32  0.0820                0.0000\n",
       "32 2018-02-02  SEA           0.03           33  0.1600                0.0300\n",
       "33 2018-02-03  SEA           0.04           34  0.3400                0.0400\n",
       "34 2018-02-04  SEA           0.00           35  0.0640                0.0000\n",
       "35 2018-02-05  SEA           0.02           36  0.0800                0.0200\n",
       "36 2018-02-06  SEA           0.00           37  0.0500                0.0000\n",
       "37 2018-02-07  SEA            NaN           38  0.0100                0.0100\n",
       "38 2018-02-08  SEA            NaN           39  0.0625                0.0625\n",
       "39 2018-02-09  SEA            NaN           40  0.2425                0.2425"
      ]
     },
     "execution_count": 422,
     "metadata": {},
     "output_type": "execute_result"
    }
   ],
   "source": [
    "df_w_avg[30:40]"
   ]
  },
  {
   "cell_type": "markdown",
   "id": "d7a03516-f1cd-45c1-bf80-94ababb803ad",
   "metadata": {},
   "source": [
    "And let's confirm there are no missing values in our final column."
   ]
  },
  {
   "cell_type": "code",
   "execution_count": 423,
   "id": "2091079e-5285-4bae-be34-55e9197b3645",
   "metadata": {},
   "outputs": [
    {
     "data": {
      "text/plain": [
       "0"
      ]
     },
     "execution_count": 423,
     "metadata": {},
     "output_type": "execute_result"
    }
   ],
   "source": [
    "df_w_avg['PRECIPITATION_OR_AVG'].isna().sum()"
   ]
  },
  {
   "cell_type": "markdown",
   "id": "52852b47-5a94-480b-88b3-0b7581a9ef92",
   "metadata": {},
   "source": [
    "We will also make use of the year, month, year+month, and season as variables. Additionally, we may want to assess the binary of if the precipitation was non-zero (if it rained), so we will calculate that field as well."
   ]
  },
  {
   "cell_type": "code",
   "execution_count": 424,
   "id": "1785abc3-58e5-4460-b1cb-234ee231b32c",
   "metadata": {},
   "outputs": [
    {
     "data": {
      "text/html": [
       "<div>\n",
       "<style scoped>\n",
       "    .dataframe tbody tr th:only-of-type {\n",
       "        vertical-align: middle;\n",
       "    }\n",
       "\n",
       "    .dataframe tbody tr th {\n",
       "        vertical-align: top;\n",
       "    }\n",
       "\n",
       "    .dataframe thead th {\n",
       "        text-align: right;\n",
       "    }\n",
       "</style>\n",
       "<table border=\"1\" class=\"dataframe\">\n",
       "  <thead>\n",
       "    <tr style=\"text-align: right;\">\n",
       "      <th></th>\n",
       "      <th>DATE</th>\n",
       "      <th>CITY</th>\n",
       "      <th>PRECIPITATION</th>\n",
       "      <th>DAY_OF_YEAR</th>\n",
       "      <th>AVG</th>\n",
       "      <th>PRECIPITATION_OR_AVG</th>\n",
       "      <th>YEAR</th>\n",
       "      <th>MONTH</th>\n",
       "      <th>MONTH_NO</th>\n",
       "      <th>MONTH_AND_YEAR</th>\n",
       "      <th>SEASON</th>\n",
       "    </tr>\n",
       "  </thead>\n",
       "  <tbody>\n",
       "    <tr>\n",
       "      <th>0</th>\n",
       "      <td>2018-01-01</td>\n",
       "      <td>SEA</td>\n",
       "      <td>0.02</td>\n",
       "      <td>1</td>\n",
       "      <td>0.128</td>\n",
       "      <td>0.02</td>\n",
       "      <td>2018</td>\n",
       "      <td>January</td>\n",
       "      <td>1</td>\n",
       "      <td>January 2018</td>\n",
       "      <td>Winter</td>\n",
       "    </tr>\n",
       "    <tr>\n",
       "      <th>1</th>\n",
       "      <td>2018-01-02</td>\n",
       "      <td>SEA</td>\n",
       "      <td>0.00</td>\n",
       "      <td>2</td>\n",
       "      <td>0.084</td>\n",
       "      <td>0.00</td>\n",
       "      <td>2018</td>\n",
       "      <td>January</td>\n",
       "      <td>1</td>\n",
       "      <td>January 2018</td>\n",
       "      <td>Winter</td>\n",
       "    </tr>\n",
       "    <tr>\n",
       "      <th>2</th>\n",
       "      <td>2018-01-03</td>\n",
       "      <td>SEA</td>\n",
       "      <td>0.00</td>\n",
       "      <td>3</td>\n",
       "      <td>0.242</td>\n",
       "      <td>0.00</td>\n",
       "      <td>2018</td>\n",
       "      <td>January</td>\n",
       "      <td>1</td>\n",
       "      <td>January 2018</td>\n",
       "      <td>Winter</td>\n",
       "    </tr>\n",
       "    <tr>\n",
       "      <th>3</th>\n",
       "      <td>2018-01-04</td>\n",
       "      <td>SEA</td>\n",
       "      <td>0.02</td>\n",
       "      <td>4</td>\n",
       "      <td>0.438</td>\n",
       "      <td>0.02</td>\n",
       "      <td>2018</td>\n",
       "      <td>January</td>\n",
       "      <td>1</td>\n",
       "      <td>January 2018</td>\n",
       "      <td>Winter</td>\n",
       "    </tr>\n",
       "    <tr>\n",
       "      <th>4</th>\n",
       "      <td>2018-01-05</td>\n",
       "      <td>SEA</td>\n",
       "      <td>0.13</td>\n",
       "      <td>5</td>\n",
       "      <td>0.312</td>\n",
       "      <td>0.13</td>\n",
       "      <td>2018</td>\n",
       "      <td>January</td>\n",
       "      <td>1</td>\n",
       "      <td>January 2018</td>\n",
       "      <td>Winter</td>\n",
       "    </tr>\n",
       "    <tr>\n",
       "      <th>...</th>\n",
       "      <td>...</td>\n",
       "      <td>...</td>\n",
       "      <td>...</td>\n",
       "      <td>...</td>\n",
       "      <td>...</td>\n",
       "      <td>...</td>\n",
       "      <td>...</td>\n",
       "      <td>...</td>\n",
       "      <td>...</td>\n",
       "      <td>...</td>\n",
       "      <td>...</td>\n",
       "    </tr>\n",
       "    <tr>\n",
       "      <th>3647</th>\n",
       "      <td>2022-12-27</td>\n",
       "      <td>SPF</td>\n",
       "      <td>0.78</td>\n",
       "      <td>361</td>\n",
       "      <td>0.304</td>\n",
       "      <td>0.78</td>\n",
       "      <td>2022</td>\n",
       "      <td>December</td>\n",
       "      <td>12</td>\n",
       "      <td>December 2022</td>\n",
       "      <td>Winter</td>\n",
       "    </tr>\n",
       "    <tr>\n",
       "      <th>3648</th>\n",
       "      <td>2022-12-28</td>\n",
       "      <td>SPF</td>\n",
       "      <td>0.40</td>\n",
       "      <td>362</td>\n",
       "      <td>0.120</td>\n",
       "      <td>0.40</td>\n",
       "      <td>2022</td>\n",
       "      <td>December</td>\n",
       "      <td>12</td>\n",
       "      <td>December 2022</td>\n",
       "      <td>Winter</td>\n",
       "    </tr>\n",
       "    <tr>\n",
       "      <th>3649</th>\n",
       "      <td>2022-12-29</td>\n",
       "      <td>SPF</td>\n",
       "      <td>0.03</td>\n",
       "      <td>363</td>\n",
       "      <td>0.102</td>\n",
       "      <td>0.03</td>\n",
       "      <td>2022</td>\n",
       "      <td>December</td>\n",
       "      <td>12</td>\n",
       "      <td>December 2022</td>\n",
       "      <td>Winter</td>\n",
       "    </tr>\n",
       "    <tr>\n",
       "      <th>3650</th>\n",
       "      <td>2022-12-30</td>\n",
       "      <td>SPF</td>\n",
       "      <td>0.62</td>\n",
       "      <td>364</td>\n",
       "      <td>0.268</td>\n",
       "      <td>0.62</td>\n",
       "      <td>2022</td>\n",
       "      <td>December</td>\n",
       "      <td>12</td>\n",
       "      <td>December 2022</td>\n",
       "      <td>Winter</td>\n",
       "    </tr>\n",
       "    <tr>\n",
       "      <th>3651</th>\n",
       "      <td>2022-12-31</td>\n",
       "      <td>SPF</td>\n",
       "      <td>0.17</td>\n",
       "      <td>365</td>\n",
       "      <td>0.140</td>\n",
       "      <td>0.17</td>\n",
       "      <td>2022</td>\n",
       "      <td>December</td>\n",
       "      <td>12</td>\n",
       "      <td>December 2022</td>\n",
       "      <td>Winter</td>\n",
       "    </tr>\n",
       "  </tbody>\n",
       "</table>\n",
       "<p>3652 rows × 11 columns</p>\n",
       "</div>"
      ],
      "text/plain": [
       "           DATE CITY  PRECIPITATION  DAY_OF_YEAR    AVG  PRECIPITATION_OR_AVG  \\\n",
       "0    2018-01-01  SEA           0.02            1  0.128                  0.02   \n",
       "1    2018-01-02  SEA           0.00            2  0.084                  0.00   \n",
       "2    2018-01-03  SEA           0.00            3  0.242                  0.00   \n",
       "3    2018-01-04  SEA           0.02            4  0.438                  0.02   \n",
       "4    2018-01-05  SEA           0.13            5  0.312                  0.13   \n",
       "...         ...  ...            ...          ...    ...                   ...   \n",
       "3647 2022-12-27  SPF           0.78          361  0.304                  0.78   \n",
       "3648 2022-12-28  SPF           0.40          362  0.120                  0.40   \n",
       "3649 2022-12-29  SPF           0.03          363  0.102                  0.03   \n",
       "3650 2022-12-30  SPF           0.62          364  0.268                  0.62   \n",
       "3651 2022-12-31  SPF           0.17          365  0.140                  0.17   \n",
       "\n",
       "      YEAR     MONTH  MONTH_NO MONTH_AND_YEAR  SEASON  \n",
       "0     2018   January         1   January 2018  Winter  \n",
       "1     2018   January         1   January 2018  Winter  \n",
       "2     2018   January         1   January 2018  Winter  \n",
       "3     2018   January         1   January 2018  Winter  \n",
       "4     2018   January         1   January 2018  Winter  \n",
       "...    ...       ...       ...            ...     ...  \n",
       "3647  2022  December        12  December 2022  Winter  \n",
       "3648  2022  December        12  December 2022  Winter  \n",
       "3649  2022  December        12  December 2022  Winter  \n",
       "3650  2022  December        12  December 2022  Winter  \n",
       "3651  2022  December        12  December 2022  Winter  \n",
       "\n",
       "[3652 rows x 11 columns]"
      ]
     },
     "execution_count": 424,
     "metadata": {},
     "output_type": "execute_result"
    }
   ],
   "source": [
    "df_w_avg['YEAR'] = df_w_avg['DATE'].dt.year.astype(str)\n",
    "df_w_avg['MONTH'] = df_w_avg['DATE'].dt.month_name()\n",
    "df_w_avg['MONTH_NO'] = df_w_avg['DATE'].dt.month\n",
    "df_w_avg['MONTH_AND_YEAR'] =  df_w_avg['DATE'].dt.month_name() + \" \" + df_w_avg['DATE'].dt.year.astype(str)\n",
    "\n",
    "season_conditions = [\n",
    "    ((80 < df_w_avg['DAY_OF_YEAR']) & (df_w_avg['DAY_OF_YEAR'] <= 171)),\n",
    "    ((171 < df_w_avg['DAY_OF_YEAR']) & (df_w_avg['DAY_OF_YEAR'] <= 262)),\n",
    "    ((262 < df_w_avg['DAY_OF_YEAR']) & (df_w_avg['DAY_OF_YEAR'] <= 353))\n",
    "]\n",
    "season_values = [\n",
    "    'Spring',\n",
    "    'Summer',\n",
    "    'Fall'\n",
    "]\n",
    "df_w_avg['SEASON'] = np.select(season_conditions, season_values, default='Winter')\n",
    "\n",
    "df_w_avg"
   ]
  },
  {
   "cell_type": "markdown",
   "id": "151bcd75-578e-4ce5-b201-92a67cb9f414",
   "metadata": {},
   "source": [
    "Our data is ready for use!"
   ]
  },
  {
   "cell_type": "markdown",
   "id": "d3079388-c7ef-4cf0-9245-2ae49c058ad2",
   "metadata": {},
   "source": [
    "### Exporting Ready Data"
   ]
  },
  {
   "cell_type": "code",
   "execution_count": 425,
   "id": "64a1a54b-db8f-4d31-b63c-3b98742d0e23",
   "metadata": {},
   "outputs": [
    {
     "data": {
      "text/plain": [
       "'C:\\\\Users\\\\ejber\\\\Desktop\\\\Data5100\\\\code'"
      ]
     },
     "execution_count": 425,
     "metadata": {},
     "output_type": "execute_result"
    }
   ],
   "source": [
    "import os\n",
    "os.getcwd()"
   ]
  },
  {
   "cell_type": "code",
   "execution_count": 427,
   "id": "ea93f3da-7654-40f3-b949-5d3f4f41b037",
   "metadata": {},
   "outputs": [],
   "source": [
    "os.chdir('C:\\\\Users\\\\ejber\\\\Desktop\\\\Data5100\\\\data')"
   ]
  },
  {
   "cell_type": "code",
   "execution_count": 428,
   "id": "42d9abb7-97ca-432f-ad71-6991956dcf93",
   "metadata": {},
   "outputs": [
    {
     "data": {
      "text/plain": [
       "'C:\\\\Users\\\\ejber\\\\Desktop\\\\Data5100\\\\data'"
      ]
     },
     "execution_count": 428,
     "metadata": {},
     "output_type": "execute_result"
    }
   ],
   "source": [
    "os.getcwd()"
   ]
  },
  {
   "cell_type": "code",
   "execution_count": 429,
   "id": "413edafd-27a4-476f-b06d-7d0aec528463",
   "metadata": {},
   "outputs": [],
   "source": [
    "df_w_avg.to_csv('clean_seattle_springfield_weather.csv', encoding='utf-8-sig', index=False)"
   ]
  },
  {
   "cell_type": "markdown",
   "id": "3eeee6ed-2e6b-4324-8a14-8a5513bfaa15",
   "metadata": {},
   "source": [
    "## Analyzing the Data"
   ]
  },
  {
   "cell_type": "markdown",
   "id": "d32151ae-8651-406a-a24a-5ebc958c3700",
   "metadata": {},
   "source": [
    "First, we will take a look at some summary statistics by city for the full dataset."
   ]
  },
  {
   "cell_type": "code",
   "execution_count": 430,
   "id": "7afe4f8b-ce96-4099-a27d-107e1b283731",
   "metadata": {},
   "outputs": [
    {
     "data": {
      "text/html": [
       "<div>\n",
       "<style scoped>\n",
       "    .dataframe tbody tr th:only-of-type {\n",
       "        vertical-align: middle;\n",
       "    }\n",
       "\n",
       "    .dataframe tbody tr th {\n",
       "        vertical-align: top;\n",
       "    }\n",
       "\n",
       "    .dataframe thead th {\n",
       "        text-align: right;\n",
       "    }\n",
       "</style>\n",
       "<table border=\"1\" class=\"dataframe\">\n",
       "  <thead>\n",
       "    <tr style=\"text-align: right;\">\n",
       "      <th></th>\n",
       "      <th>count</th>\n",
       "      <th>mean</th>\n",
       "      <th>std</th>\n",
       "      <th>min</th>\n",
       "      <th>25%</th>\n",
       "      <th>50%</th>\n",
       "      <th>75%</th>\n",
       "      <th>max</th>\n",
       "      <th>sum</th>\n",
       "    </tr>\n",
       "    <tr>\n",
       "      <th>CITY</th>\n",
       "      <th></th>\n",
       "      <th></th>\n",
       "      <th></th>\n",
       "      <th></th>\n",
       "      <th></th>\n",
       "      <th></th>\n",
       "      <th></th>\n",
       "      <th></th>\n",
       "      <th></th>\n",
       "    </tr>\n",
       "  </thead>\n",
       "  <tbody>\n",
       "    <tr>\n",
       "      <th>SEA</th>\n",
       "      <td>1826.0</td>\n",
       "      <td>0.108457</td>\n",
       "      <td>0.234710</td>\n",
       "      <td>0.0</td>\n",
       "      <td>0.0</td>\n",
       "      <td>0.00</td>\n",
       "      <td>0.10</td>\n",
       "      <td>2.33</td>\n",
       "      <td>198.041667</td>\n",
       "    </tr>\n",
       "    <tr>\n",
       "      <th>SPF</th>\n",
       "      <td>1826.0</td>\n",
       "      <td>0.113270</td>\n",
       "      <td>0.240516</td>\n",
       "      <td>0.0</td>\n",
       "      <td>0.0</td>\n",
       "      <td>0.01</td>\n",
       "      <td>0.12</td>\n",
       "      <td>2.60</td>\n",
       "      <td>206.831667</td>\n",
       "    </tr>\n",
       "  </tbody>\n",
       "</table>\n",
       "</div>"
      ],
      "text/plain": [
       "       count      mean       std  min  25%   50%   75%   max         sum\n",
       "CITY                                                                    \n",
       "SEA   1826.0  0.108457  0.234710  0.0  0.0  0.00  0.10  2.33  198.041667\n",
       "SPF   1826.0  0.113270  0.240516  0.0  0.0  0.01  0.12  2.60  206.831667"
      ]
     },
     "execution_count": 430,
     "metadata": {},
     "output_type": "execute_result"
    }
   ],
   "source": [
    "desc_stats = df_w_avg.groupby('CITY')['PRECIPITATION_OR_AVG'].describe()\n",
    "sum_stat = df_w_avg.groupby('CITY')['PRECIPITATION_OR_AVG'].sum().to_frame(name='sum') \n",
    "pd.concat([desc_stats, sum_stat], axis =1)"
   ]
  },
  {
   "cell_type": "markdown",
   "id": "78626704-5522-4944-ab94-590c790c9a4a",
   "metadata": {},
   "source": [
    "It would immediately appear that the average rainfall in Seattle is actually less than Springfield. The median, max, and total over five years also appear lower. Let's take a look at year to year differences."
   ]
  },
  {
   "cell_type": "code",
   "execution_count": 431,
   "id": "b29f0203-8be7-4641-986e-213b64d8f0ce",
   "metadata": {},
   "outputs": [
    {
     "data": {
      "text/html": [
       "<div>\n",
       "<style scoped>\n",
       "    .dataframe tbody tr th:only-of-type {\n",
       "        vertical-align: middle;\n",
       "    }\n",
       "\n",
       "    .dataframe tbody tr th {\n",
       "        vertical-align: top;\n",
       "    }\n",
       "\n",
       "    .dataframe thead th {\n",
       "        text-align: right;\n",
       "    }\n",
       "</style>\n",
       "<table border=\"1\" class=\"dataframe\">\n",
       "  <thead>\n",
       "    <tr style=\"text-align: right;\">\n",
       "      <th></th>\n",
       "      <th></th>\n",
       "      <th>count</th>\n",
       "      <th>mean</th>\n",
       "      <th>std</th>\n",
       "      <th>min</th>\n",
       "      <th>25%</th>\n",
       "      <th>50%</th>\n",
       "      <th>75%</th>\n",
       "      <th>max</th>\n",
       "      <th>sum</th>\n",
       "    </tr>\n",
       "    <tr>\n",
       "      <th>YEAR</th>\n",
       "      <th>CITY</th>\n",
       "      <th></th>\n",
       "      <th></th>\n",
       "      <th></th>\n",
       "      <th></th>\n",
       "      <th></th>\n",
       "      <th></th>\n",
       "      <th></th>\n",
       "      <th></th>\n",
       "      <th></th>\n",
       "    </tr>\n",
       "  </thead>\n",
       "  <tbody>\n",
       "    <tr>\n",
       "      <th rowspan=\"2\" valign=\"top\">2018</th>\n",
       "      <th>SEA</th>\n",
       "      <td>365.0</td>\n",
       "      <td>0.092315</td>\n",
       "      <td>0.193960</td>\n",
       "      <td>0.0</td>\n",
       "      <td>0.0</td>\n",
       "      <td>0.0000</td>\n",
       "      <td>0.0600</td>\n",
       "      <td>1.29</td>\n",
       "      <td>33.695000</td>\n",
       "    </tr>\n",
       "    <tr>\n",
       "      <th>SPF</th>\n",
       "      <td>365.0</td>\n",
       "      <td>0.102039</td>\n",
       "      <td>0.197829</td>\n",
       "      <td>0.0</td>\n",
       "      <td>0.0</td>\n",
       "      <td>0.0075</td>\n",
       "      <td>0.1400</td>\n",
       "      <td>1.65</td>\n",
       "      <td>37.244167</td>\n",
       "    </tr>\n",
       "    <tr>\n",
       "      <th rowspan=\"2\" valign=\"top\">2019</th>\n",
       "      <th>SEA</th>\n",
       "      <td>365.0</td>\n",
       "      <td>0.106260</td>\n",
       "      <td>0.242960</td>\n",
       "      <td>0.0</td>\n",
       "      <td>0.0</td>\n",
       "      <td>0.0000</td>\n",
       "      <td>0.1000</td>\n",
       "      <td>2.33</td>\n",
       "      <td>38.785000</td>\n",
       "    </tr>\n",
       "    <tr>\n",
       "      <th>SPF</th>\n",
       "      <td>365.0</td>\n",
       "      <td>0.105900</td>\n",
       "      <td>0.238780</td>\n",
       "      <td>0.0</td>\n",
       "      <td>0.0</td>\n",
       "      <td>0.0100</td>\n",
       "      <td>0.1200</td>\n",
       "      <td>2.60</td>\n",
       "      <td>38.653333</td>\n",
       "    </tr>\n",
       "    <tr>\n",
       "      <th rowspan=\"2\" valign=\"top\">2020</th>\n",
       "      <th>SEA</th>\n",
       "      <td>366.0</td>\n",
       "      <td>0.112796</td>\n",
       "      <td>0.217285</td>\n",
       "      <td>0.0</td>\n",
       "      <td>0.0</td>\n",
       "      <td>0.0000</td>\n",
       "      <td>0.1275</td>\n",
       "      <td>1.18</td>\n",
       "      <td>41.283333</td>\n",
       "    </tr>\n",
       "    <tr>\n",
       "      <th>SPF</th>\n",
       "      <td>366.0</td>\n",
       "      <td>0.118092</td>\n",
       "      <td>0.249205</td>\n",
       "      <td>0.0</td>\n",
       "      <td>0.0</td>\n",
       "      <td>0.0200</td>\n",
       "      <td>0.1100</td>\n",
       "      <td>2.42</td>\n",
       "      <td>43.221667</td>\n",
       "    </tr>\n",
       "    <tr>\n",
       "      <th rowspan=\"2\" valign=\"top\">2021</th>\n",
       "      <th>SEA</th>\n",
       "      <td>365.0</td>\n",
       "      <td>0.116130</td>\n",
       "      <td>0.259713</td>\n",
       "      <td>0.0</td>\n",
       "      <td>0.0</td>\n",
       "      <td>0.0000</td>\n",
       "      <td>0.1100</td>\n",
       "      <td>2.16</td>\n",
       "      <td>42.387500</td>\n",
       "    </tr>\n",
       "    <tr>\n",
       "      <th>SPF</th>\n",
       "      <td>365.0</td>\n",
       "      <td>0.121737</td>\n",
       "      <td>0.243659</td>\n",
       "      <td>0.0</td>\n",
       "      <td>0.0</td>\n",
       "      <td>0.0200</td>\n",
       "      <td>0.1400</td>\n",
       "      <td>2.00</td>\n",
       "      <td>44.434167</td>\n",
       "    </tr>\n",
       "    <tr>\n",
       "      <th rowspan=\"2\" valign=\"top\">2022</th>\n",
       "      <th>SEA</th>\n",
       "      <td>365.0</td>\n",
       "      <td>0.114769</td>\n",
       "      <td>0.253718</td>\n",
       "      <td>0.0</td>\n",
       "      <td>0.0</td>\n",
       "      <td>0.0000</td>\n",
       "      <td>0.0900</td>\n",
       "      <td>1.54</td>\n",
       "      <td>41.890833</td>\n",
       "    </tr>\n",
       "    <tr>\n",
       "      <th>SPF</th>\n",
       "      <td>365.0</td>\n",
       "      <td>0.118571</td>\n",
       "      <td>0.268206</td>\n",
       "      <td>0.0</td>\n",
       "      <td>0.0</td>\n",
       "      <td>0.0100</td>\n",
       "      <td>0.1000</td>\n",
       "      <td>1.97</td>\n",
       "      <td>43.278333</td>\n",
       "    </tr>\n",
       "  </tbody>\n",
       "</table>\n",
       "</div>"
      ],
      "text/plain": [
       "           count      mean       std  min  25%     50%     75%   max  \\\n",
       "YEAR CITY                                                              \n",
       "2018 SEA   365.0  0.092315  0.193960  0.0  0.0  0.0000  0.0600  1.29   \n",
       "     SPF   365.0  0.102039  0.197829  0.0  0.0  0.0075  0.1400  1.65   \n",
       "2019 SEA   365.0  0.106260  0.242960  0.0  0.0  0.0000  0.1000  2.33   \n",
       "     SPF   365.0  0.105900  0.238780  0.0  0.0  0.0100  0.1200  2.60   \n",
       "2020 SEA   366.0  0.112796  0.217285  0.0  0.0  0.0000  0.1275  1.18   \n",
       "     SPF   366.0  0.118092  0.249205  0.0  0.0  0.0200  0.1100  2.42   \n",
       "2021 SEA   365.0  0.116130  0.259713  0.0  0.0  0.0000  0.1100  2.16   \n",
       "     SPF   365.0  0.121737  0.243659  0.0  0.0  0.0200  0.1400  2.00   \n",
       "2022 SEA   365.0  0.114769  0.253718  0.0  0.0  0.0000  0.0900  1.54   \n",
       "     SPF   365.0  0.118571  0.268206  0.0  0.0  0.0100  0.1000  1.97   \n",
       "\n",
       "                 sum  \n",
       "YEAR CITY             \n",
       "2018 SEA   33.695000  \n",
       "     SPF   37.244167  \n",
       "2019 SEA   38.785000  \n",
       "     SPF   38.653333  \n",
       "2020 SEA   41.283333  \n",
       "     SPF   43.221667  \n",
       "2021 SEA   42.387500  \n",
       "     SPF   44.434167  \n",
       "2022 SEA   41.890833  \n",
       "     SPF   43.278333  "
      ]
     },
     "execution_count": 431,
     "metadata": {},
     "output_type": "execute_result"
    }
   ],
   "source": [
    "desc_stats = df_w_avg.groupby(['YEAR','CITY'])['PRECIPITATION_OR_AVG'].describe()\n",
    "sum_stat = df_w_avg.groupby(['YEAR','CITY'])['PRECIPITATION_OR_AVG'].sum().to_frame(name='sum') \n",
    "pd.concat([desc_stats, sum_stat], axis =1)"
   ]
  },
  {
   "cell_type": "markdown",
   "id": "f6ff771e-23ca-48ff-8d9d-f1d67d575be0",
   "metadata": {},
   "source": [
    "We see similar trends here, with Springfield outraining Seattle in all years but 2019 (by a slight margin). A bar plot represents this well."
   ]
  },
  {
   "cell_type": "code",
   "execution_count": 432,
   "id": "02c1101a-9887-43a1-8b06-1d531f9b9a5f",
   "metadata": {},
   "outputs": [
    {
     "data": {
      "image/png": "[encoded data removed]",
      "text/plain": [
       "<Figure size 2000x500 with 1 Axes>"
      ]
     },
     "metadata": {},
     "output_type": "display_data"
    }
   ],
   "source": [
    "plt.figure(figsize=(20,5))\n",
    "\n",
    "sns.barplot(data=df_w_avg, x = 'YEAR', y='PRECIPITATION_OR_AVG', hue = 'CITY', errorbar = None)\n",
    "\n",
    "plt.title('Rainfall', fontsize=24)\n",
    "plt.xlabel('Year', fontsize=18)\n",
    "plt.ylabel('Precipitation (inches)', fontsize=18)\n",
    "\n",
    "plt.tick_params(labelsize=15)\n",
    "\n",
    "plt.show()"
   ]
  },
  {
   "cell_type": "markdown",
   "id": "5bbb36f6-714d-424e-9042-8cf231495aa8",
   "metadata": {},
   "source": [
    "Let's take a look at monthly differences."
   ]
  },
  {
   "cell_type": "code",
   "execution_count": 433,
   "id": "a28ec042-9fef-4c0a-898f-14270dea54a6",
   "metadata": {},
   "outputs": [
    {
     "data": {
      "text/html": [
       "<div>\n",
       "<style scoped>\n",
       "    .dataframe tbody tr th:only-of-type {\n",
       "        vertical-align: middle;\n",
       "    }\n",
       "\n",
       "    .dataframe tbody tr th {\n",
       "        vertical-align: top;\n",
       "    }\n",
       "\n",
       "    .dataframe thead th {\n",
       "        text-align: right;\n",
       "    }\n",
       "</style>\n",
       "<table border=\"1\" class=\"dataframe\">\n",
       "  <thead>\n",
       "    <tr style=\"text-align: right;\">\n",
       "      <th></th>\n",
       "      <th></th>\n",
       "      <th></th>\n",
       "      <th>count</th>\n",
       "      <th>mean</th>\n",
       "      <th>std</th>\n",
       "      <th>min</th>\n",
       "      <th>25%</th>\n",
       "      <th>50%</th>\n",
       "      <th>75%</th>\n",
       "      <th>max</th>\n",
       "      <th>sum</th>\n",
       "    </tr>\n",
       "    <tr>\n",
       "      <th>MONTH_NO</th>\n",
       "      <th>MONTH</th>\n",
       "      <th>CITY</th>\n",
       "      <th></th>\n",
       "      <th></th>\n",
       "      <th></th>\n",
       "      <th></th>\n",
       "      <th></th>\n",
       "      <th></th>\n",
       "      <th></th>\n",
       "      <th></th>\n",
       "      <th></th>\n",
       "    </tr>\n",
       "  </thead>\n",
       "  <tbody>\n",
       "    <tr>\n",
       "      <th rowspan=\"2\" valign=\"top\">1</th>\n",
       "      <th rowspan=\"2\" valign=\"top\">January</th>\n",
       "      <th>SEA</th>\n",
       "      <td>155.0</td>\n",
       "      <td>0.191742</td>\n",
       "      <td>0.259808</td>\n",
       "      <td>0.0</td>\n",
       "      <td>0.00</td>\n",
       "      <td>0.050</td>\n",
       "      <td>0.315000</td>\n",
       "      <td>1.51</td>\n",
       "      <td>29.720000</td>\n",
       "    </tr>\n",
       "    <tr>\n",
       "      <th>SPF</th>\n",
       "      <td>155.0</td>\n",
       "      <td>0.230742</td>\n",
       "      <td>0.341816</td>\n",
       "      <td>0.0</td>\n",
       "      <td>0.01</td>\n",
       "      <td>0.110</td>\n",
       "      <td>0.290417</td>\n",
       "      <td>1.97</td>\n",
       "      <td>35.765000</td>\n",
       "    </tr>\n",
       "    <tr>\n",
       "      <th rowspan=\"2\" valign=\"top\">2</th>\n",
       "      <th rowspan=\"2\" valign=\"top\">February</th>\n",
       "      <th>SEA</th>\n",
       "      <td>141.0</td>\n",
       "      <td>0.153014</td>\n",
       "      <td>0.284391</td>\n",
       "      <td>0.0</td>\n",
       "      <td>0.00</td>\n",
       "      <td>0.040</td>\n",
       "      <td>0.210000</td>\n",
       "      <td>2.33</td>\n",
       "      <td>21.575000</td>\n",
       "    </tr>\n",
       "    <tr>\n",
       "      <th>SPF</th>\n",
       "      <td>141.0</td>\n",
       "      <td>0.176472</td>\n",
       "      <td>0.296935</td>\n",
       "      <td>0.0</td>\n",
       "      <td>0.01</td>\n",
       "      <td>0.070</td>\n",
       "      <td>0.190000</td>\n",
       "      <td>1.89</td>\n",
       "      <td>24.882500</td>\n",
       "    </tr>\n",
       "    <tr>\n",
       "      <th rowspan=\"2\" valign=\"top\">3</th>\n",
       "      <th rowspan=\"2\" valign=\"top\">March</th>\n",
       "      <th>SEA</th>\n",
       "      <td>155.0</td>\n",
       "      <td>0.112452</td>\n",
       "      <td>0.217304</td>\n",
       "      <td>0.0</td>\n",
       "      <td>0.00</td>\n",
       "      <td>0.000</td>\n",
       "      <td>0.130000</td>\n",
       "      <td>1.17</td>\n",
       "      <td>17.430000</td>\n",
       "    </tr>\n",
       "    <tr>\n",
       "      <th>SPF</th>\n",
       "      <td>155.0</td>\n",
       "      <td>0.089075</td>\n",
       "      <td>0.167194</td>\n",
       "      <td>0.0</td>\n",
       "      <td>0.00</td>\n",
       "      <td>0.000</td>\n",
       "      <td>0.105000</td>\n",
       "      <td>1.03</td>\n",
       "      <td>13.806667</td>\n",
       "    </tr>\n",
       "    <tr>\n",
       "      <th rowspan=\"2\" valign=\"top\">4</th>\n",
       "      <th rowspan=\"2\" valign=\"top\">April</th>\n",
       "      <th>SEA</th>\n",
       "      <td>150.0</td>\n",
       "      <td>0.143600</td>\n",
       "      <td>0.257680</td>\n",
       "      <td>0.0</td>\n",
       "      <td>0.00</td>\n",
       "      <td>0.015</td>\n",
       "      <td>0.210000</td>\n",
       "      <td>1.72</td>\n",
       "      <td>21.540000</td>\n",
       "    </tr>\n",
       "    <tr>\n",
       "      <th>SPF</th>\n",
       "      <td>150.0</td>\n",
       "      <td>0.100483</td>\n",
       "      <td>0.200652</td>\n",
       "      <td>0.0</td>\n",
       "      <td>0.00</td>\n",
       "      <td>0.020</td>\n",
       "      <td>0.110000</td>\n",
       "      <td>1.65</td>\n",
       "      <td>15.072500</td>\n",
       "    </tr>\n",
       "    <tr>\n",
       "      <th rowspan=\"2\" valign=\"top\">5</th>\n",
       "      <th rowspan=\"2\" valign=\"top\">May</th>\n",
       "      <th>SEA</th>\n",
       "      <td>155.0</td>\n",
       "      <td>0.095532</td>\n",
       "      <td>0.200126</td>\n",
       "      <td>0.0</td>\n",
       "      <td>0.00</td>\n",
       "      <td>0.000</td>\n",
       "      <td>0.085000</td>\n",
       "      <td>1.18</td>\n",
       "      <td>14.807500</td>\n",
       "    </tr>\n",
       "    <tr>\n",
       "      <th>SPF</th>\n",
       "      <td>155.0</td>\n",
       "      <td>0.069161</td>\n",
       "      <td>0.164036</td>\n",
       "      <td>0.0</td>\n",
       "      <td>0.00</td>\n",
       "      <td>0.000</td>\n",
       "      <td>0.050000</td>\n",
       "      <td>1.29</td>\n",
       "      <td>10.720000</td>\n",
       "    </tr>\n",
       "    <tr>\n",
       "      <th rowspan=\"2\" valign=\"top\">6</th>\n",
       "      <th rowspan=\"2\" valign=\"top\">June</th>\n",
       "      <th>SEA</th>\n",
       "      <td>150.0</td>\n",
       "      <td>0.071000</td>\n",
       "      <td>0.181366</td>\n",
       "      <td>0.0</td>\n",
       "      <td>0.00</td>\n",
       "      <td>0.000</td>\n",
       "      <td>0.020000</td>\n",
       "      <td>1.14</td>\n",
       "      <td>10.650000</td>\n",
       "    </tr>\n",
       "    <tr>\n",
       "      <th>SPF</th>\n",
       "      <td>150.0</td>\n",
       "      <td>0.063167</td>\n",
       "      <td>0.146171</td>\n",
       "      <td>0.0</td>\n",
       "      <td>0.00</td>\n",
       "      <td>0.000</td>\n",
       "      <td>0.050000</td>\n",
       "      <td>1.07</td>\n",
       "      <td>9.475000</td>\n",
       "    </tr>\n",
       "    <tr>\n",
       "      <th rowspan=\"2\" valign=\"top\">7</th>\n",
       "      <th rowspan=\"2\" valign=\"top\">July</th>\n",
       "      <th>SEA</th>\n",
       "      <td>155.0</td>\n",
       "      <td>0.001339</td>\n",
       "      <td>0.007866</td>\n",
       "      <td>0.0</td>\n",
       "      <td>0.00</td>\n",
       "      <td>0.000</td>\n",
       "      <td>0.000000</td>\n",
       "      <td>0.07</td>\n",
       "      <td>0.207500</td>\n",
       "    </tr>\n",
       "    <tr>\n",
       "      <th>SPF</th>\n",
       "      <td>155.0</td>\n",
       "      <td>0.013984</td>\n",
       "      <td>0.057169</td>\n",
       "      <td>0.0</td>\n",
       "      <td>0.00</td>\n",
       "      <td>0.000</td>\n",
       "      <td>0.000000</td>\n",
       "      <td>0.62</td>\n",
       "      <td>2.167500</td>\n",
       "    </tr>\n",
       "    <tr>\n",
       "      <th rowspan=\"2\" valign=\"top\">8</th>\n",
       "      <th rowspan=\"2\" valign=\"top\">August</th>\n",
       "      <th>SEA</th>\n",
       "      <td>155.0</td>\n",
       "      <td>0.004629</td>\n",
       "      <td>0.027164</td>\n",
       "      <td>0.0</td>\n",
       "      <td>0.00</td>\n",
       "      <td>0.000</td>\n",
       "      <td>0.000000</td>\n",
       "      <td>0.30</td>\n",
       "      <td>0.717500</td>\n",
       "    </tr>\n",
       "    <tr>\n",
       "      <th>SPF</th>\n",
       "      <td>155.0</td>\n",
       "      <td>0.019995</td>\n",
       "      <td>0.061337</td>\n",
       "      <td>0.0</td>\n",
       "      <td>0.00</td>\n",
       "      <td>0.000</td>\n",
       "      <td>0.010000</td>\n",
       "      <td>0.47</td>\n",
       "      <td>3.099167</td>\n",
       "    </tr>\n",
       "    <tr>\n",
       "      <th rowspan=\"2\" valign=\"top\">9</th>\n",
       "      <th rowspan=\"2\" valign=\"top\">September</th>\n",
       "      <th>SEA</th>\n",
       "      <td>150.0</td>\n",
       "      <td>0.075933</td>\n",
       "      <td>0.224449</td>\n",
       "      <td>0.0</td>\n",
       "      <td>0.00</td>\n",
       "      <td>0.000</td>\n",
       "      <td>0.000000</td>\n",
       "      <td>1.65</td>\n",
       "      <td>11.390000</td>\n",
       "    </tr>\n",
       "    <tr>\n",
       "      <th>SPF</th>\n",
       "      <td>150.0</td>\n",
       "      <td>0.055622</td>\n",
       "      <td>0.133198</td>\n",
       "      <td>0.0</td>\n",
       "      <td>0.00</td>\n",
       "      <td>0.000</td>\n",
       "      <td>0.030000</td>\n",
       "      <td>0.85</td>\n",
       "      <td>8.343333</td>\n",
       "    </tr>\n",
       "    <tr>\n",
       "      <th rowspan=\"2\" valign=\"top\">10</th>\n",
       "      <th rowspan=\"2\" valign=\"top\">October</th>\n",
       "      <th>SEA</th>\n",
       "      <td>155.0</td>\n",
       "      <td>0.071333</td>\n",
       "      <td>0.159229</td>\n",
       "      <td>0.0</td>\n",
       "      <td>0.00</td>\n",
       "      <td>0.000</td>\n",
       "      <td>0.075000</td>\n",
       "      <td>1.25</td>\n",
       "      <td>11.056667</td>\n",
       "    </tr>\n",
       "    <tr>\n",
       "      <th>SPF</th>\n",
       "      <td>155.0</td>\n",
       "      <td>0.118452</td>\n",
       "      <td>0.260078</td>\n",
       "      <td>0.0</td>\n",
       "      <td>0.00</td>\n",
       "      <td>0.010</td>\n",
       "      <td>0.120000</td>\n",
       "      <td>2.00</td>\n",
       "      <td>18.360000</td>\n",
       "    </tr>\n",
       "    <tr>\n",
       "      <th rowspan=\"2\" valign=\"top\">11</th>\n",
       "      <th rowspan=\"2\" valign=\"top\">November</th>\n",
       "      <th>SEA</th>\n",
       "      <td>150.0</td>\n",
       "      <td>0.154250</td>\n",
       "      <td>0.304944</td>\n",
       "      <td>0.0</td>\n",
       "      <td>0.00</td>\n",
       "      <td>0.020</td>\n",
       "      <td>0.200000</td>\n",
       "      <td>2.16</td>\n",
       "      <td>23.137500</td>\n",
       "    </tr>\n",
       "    <tr>\n",
       "      <th>SPF</th>\n",
       "      <td>150.0</td>\n",
       "      <td>0.201867</td>\n",
       "      <td>0.276785</td>\n",
       "      <td>0.0</td>\n",
       "      <td>0.00</td>\n",
       "      <td>0.095</td>\n",
       "      <td>0.283750</td>\n",
       "      <td>1.56</td>\n",
       "      <td>30.280000</td>\n",
       "    </tr>\n",
       "    <tr>\n",
       "      <th rowspan=\"2\" valign=\"top\">12</th>\n",
       "      <th rowspan=\"2\" valign=\"top\">December</th>\n",
       "      <th>SEA</th>\n",
       "      <td>155.0</td>\n",
       "      <td>0.231032</td>\n",
       "      <td>0.331769</td>\n",
       "      <td>0.0</td>\n",
       "      <td>0.00</td>\n",
       "      <td>0.070</td>\n",
       "      <td>0.315000</td>\n",
       "      <td>1.54</td>\n",
       "      <td>35.810000</td>\n",
       "    </tr>\n",
       "    <tr>\n",
       "      <th>SPF</th>\n",
       "      <td>155.0</td>\n",
       "      <td>0.224903</td>\n",
       "      <td>0.378504</td>\n",
       "      <td>0.0</td>\n",
       "      <td>0.02</td>\n",
       "      <td>0.080</td>\n",
       "      <td>0.305000</td>\n",
       "      <td>2.60</td>\n",
       "      <td>34.860000</td>\n",
       "    </tr>\n",
       "  </tbody>\n",
       "</table>\n",
       "</div>"
      ],
      "text/plain": [
       "                         count      mean       std  min   25%    50%  \\\n",
       "MONTH_NO MONTH     CITY                                                \n",
       "1        January   SEA   155.0  0.191742  0.259808  0.0  0.00  0.050   \n",
       "                   SPF   155.0  0.230742  0.341816  0.0  0.01  0.110   \n",
       "2        February  SEA   141.0  0.153014  0.284391  0.0  0.00  0.040   \n",
       "                   SPF   141.0  0.176472  0.296935  0.0  0.01  0.070   \n",
       "3        March     SEA   155.0  0.112452  0.217304  0.0  0.00  0.000   \n",
       "                   SPF   155.0  0.089075  0.167194  0.0  0.00  0.000   \n",
       "4        April     SEA   150.0  0.143600  0.257680  0.0  0.00  0.015   \n",
       "                   SPF   150.0  0.100483  0.200652  0.0  0.00  0.020   \n",
       "5        May       SEA   155.0  0.095532  0.200126  0.0  0.00  0.000   \n",
       "                   SPF   155.0  0.069161  0.164036  0.0  0.00  0.000   \n",
       "6        June      SEA   150.0  0.071000  0.181366  0.0  0.00  0.000   \n",
       "                   SPF   150.0  0.063167  0.146171  0.0  0.00  0.000   \n",
       "7        July      SEA   155.0  0.001339  0.007866  0.0  0.00  0.000   \n",
       "                   SPF   155.0  0.013984  0.057169  0.0  0.00  0.000   \n",
       "8        August    SEA   155.0  0.004629  0.027164  0.0  0.00  0.000   \n",
       "                   SPF   155.0  0.019995  0.061337  0.0  0.00  0.000   \n",
       "9        September SEA   150.0  0.075933  0.224449  0.0  0.00  0.000   \n",
       "                   SPF   150.0  0.055622  0.133198  0.0  0.00  0.000   \n",
       "10       October   SEA   155.0  0.071333  0.159229  0.0  0.00  0.000   \n",
       "                   SPF   155.0  0.118452  0.260078  0.0  0.00  0.010   \n",
       "11       November  SEA   150.0  0.154250  0.304944  0.0  0.00  0.020   \n",
       "                   SPF   150.0  0.201867  0.276785  0.0  0.00  0.095   \n",
       "12       December  SEA   155.0  0.231032  0.331769  0.0  0.00  0.070   \n",
       "                   SPF   155.0  0.224903  0.378504  0.0  0.02  0.080   \n",
       "\n",
       "                              75%   max        sum  \n",
       "MONTH_NO MONTH     CITY                             \n",
       "1        January   SEA   0.315000  1.51  29.720000  \n",
       "                   SPF   0.290417  1.97  35.765000  \n",
       "2        February  SEA   0.210000  2.33  21.575000  \n",
       "                   SPF   0.190000  1.89  24.882500  \n",
       "3        March     SEA   0.130000  1.17  17.430000  \n",
       "                   SPF   0.105000  1.03  13.806667  \n",
       "4        April     SEA   0.210000  1.72  21.540000  \n",
       "                   SPF   0.110000  1.65  15.072500  \n",
       "5        May       SEA   0.085000  1.18  14.807500  \n",
       "                   SPF   0.050000  1.29  10.720000  \n",
       "6        June      SEA   0.020000  1.14  10.650000  \n",
       "                   SPF   0.050000  1.07   9.475000  \n",
       "7        July      SEA   0.000000  0.07   0.207500  \n",
       "                   SPF   0.000000  0.62   2.167500  \n",
       "8        August    SEA   0.000000  0.30   0.717500  \n",
       "                   SPF   0.010000  0.47   3.099167  \n",
       "9        September SEA   0.000000  1.65  11.390000  \n",
       "                   SPF   0.030000  0.85   8.343333  \n",
       "10       October   SEA   0.075000  1.25  11.056667  \n",
       "                   SPF   0.120000  2.00  18.360000  \n",
       "11       November  SEA   0.200000  2.16  23.137500  \n",
       "                   SPF   0.283750  1.56  30.280000  \n",
       "12       December  SEA   0.315000  1.54  35.810000  \n",
       "                   SPF   0.305000  2.60  34.860000  "
      ]
     },
     "execution_count": 433,
     "metadata": {},
     "output_type": "execute_result"
    }
   ],
   "source": [
    "desc_stats = df_w_avg.groupby(['MONTH_NO','MONTH','CITY'])['PRECIPITATION_OR_AVG'].describe()\n",
    "sum_stat = df_w_avg.groupby(['MONTH_NO','MONTH','CITY'])['PRECIPITATION_OR_AVG'].sum().to_frame(name='sum') \n",
    "pd.concat([desc_stats, sum_stat], axis =1)"
   ]
  },
  {
   "cell_type": "code",
   "execution_count": 434,
   "id": "d956132f-0da0-433d-82cb-311ecbfbdc44",
   "metadata": {},
   "outputs": [
    {
     "data": {
      "image/png": "[encoded data removed]",
      "text/plain": [
       "<Figure size 2000x500 with 1 Axes>"
      ]
     },
     "metadata": {},
     "output_type": "display_data"
    }
   ],
   "source": [
    "plt.figure(figsize=(20,5))\n",
    "\n",
    "sns.barplot(data=df_w_avg, x = 'MONTH', y='PRECIPITATION_OR_AVG', hue = 'CITY', errorbar = None)\n",
    "\n",
    "plt.title('Rainfall 2018-2022', fontsize=24)\n",
    "plt.xlabel('Date', fontsize=18)\n",
    "plt.ylabel('Precipitation (inches)', fontsize=18)\n",
    "\n",
    "plt.tick_params(labelsize=15, labelrotation=0)\n",
    "\n",
    "plt.show()"
   ]
  },
  {
   "cell_type": "markdown",
   "id": "4fe0bcc0-4ad1-42d7-b637-b182e1922646",
   "metadata": {},
   "source": [
    "Between the summary statistics and bar plot, it is easy to recognize that Seattle does significantly outrain Springfield in certain months, particularly March, April, and May which all fall into Spring. Let's compare by season."
   ]
  },
  {
   "cell_type": "code",
   "execution_count": 435,
   "id": "6ec35a1d-df9a-48be-9ac2-5bc12c89c938",
   "metadata": {},
   "outputs": [
    {
     "data": {
      "text/html": [
       "<div>\n",
       "<style scoped>\n",
       "    .dataframe tbody tr th:only-of-type {\n",
       "        vertical-align: middle;\n",
       "    }\n",
       "\n",
       "    .dataframe tbody tr th {\n",
       "        vertical-align: top;\n",
       "    }\n",
       "\n",
       "    .dataframe thead th {\n",
       "        text-align: right;\n",
       "    }\n",
       "</style>\n",
       "<table border=\"1\" class=\"dataframe\">\n",
       "  <thead>\n",
       "    <tr style=\"text-align: right;\">\n",
       "      <th></th>\n",
       "      <th></th>\n",
       "      <th>count</th>\n",
       "      <th>mean</th>\n",
       "      <th>std</th>\n",
       "      <th>min</th>\n",
       "      <th>25%</th>\n",
       "      <th>50%</th>\n",
       "      <th>75%</th>\n",
       "      <th>max</th>\n",
       "      <th>sum</th>\n",
       "    </tr>\n",
       "    <tr>\n",
       "      <th>SEASON</th>\n",
       "      <th>CITY</th>\n",
       "      <th></th>\n",
       "      <th></th>\n",
       "      <th></th>\n",
       "      <th></th>\n",
       "      <th></th>\n",
       "      <th></th>\n",
       "      <th></th>\n",
       "      <th></th>\n",
       "      <th></th>\n",
       "    </tr>\n",
       "  </thead>\n",
       "  <tbody>\n",
       "    <tr>\n",
       "      <th rowspan=\"2\" valign=\"top\">Fall</th>\n",
       "      <th>SEA</th>\n",
       "      <td>455.0</td>\n",
       "      <td>0.123504</td>\n",
       "      <td>0.250486</td>\n",
       "      <td>0.0</td>\n",
       "      <td>0.0</td>\n",
       "      <td>0.00</td>\n",
       "      <td>0.150</td>\n",
       "      <td>2.16</td>\n",
       "      <td>56.194167</td>\n",
       "    </tr>\n",
       "    <tr>\n",
       "      <th>SPF</th>\n",
       "      <td>455.0</td>\n",
       "      <td>0.146227</td>\n",
       "      <td>0.246420</td>\n",
       "      <td>0.0</td>\n",
       "      <td>0.0</td>\n",
       "      <td>0.03</td>\n",
       "      <td>0.195</td>\n",
       "      <td>2.00</td>\n",
       "      <td>66.533333</td>\n",
       "    </tr>\n",
       "    <tr>\n",
       "      <th rowspan=\"2\" valign=\"top\">Spring</th>\n",
       "      <th>SEA</th>\n",
       "      <td>455.0</td>\n",
       "      <td>0.116984</td>\n",
       "      <td>0.229004</td>\n",
       "      <td>0.0</td>\n",
       "      <td>0.0</td>\n",
       "      <td>0.00</td>\n",
       "      <td>0.140</td>\n",
       "      <td>1.72</td>\n",
       "      <td>53.227500</td>\n",
       "    </tr>\n",
       "    <tr>\n",
       "      <th>SPF</th>\n",
       "      <td>455.0</td>\n",
       "      <td>0.086383</td>\n",
       "      <td>0.177791</td>\n",
       "      <td>0.0</td>\n",
       "      <td>0.0</td>\n",
       "      <td>0.01</td>\n",
       "      <td>0.100</td>\n",
       "      <td>1.65</td>\n",
       "      <td>39.304167</td>\n",
       "    </tr>\n",
       "    <tr>\n",
       "      <th rowspan=\"2\" valign=\"top\">Summer</th>\n",
       "      <th>SEA</th>\n",
       "      <td>455.0</td>\n",
       "      <td>0.018011</td>\n",
       "      <td>0.113958</td>\n",
       "      <td>0.0</td>\n",
       "      <td>0.0</td>\n",
       "      <td>0.00</td>\n",
       "      <td>0.000</td>\n",
       "      <td>1.65</td>\n",
       "      <td>8.195000</td>\n",
       "    </tr>\n",
       "    <tr>\n",
       "      <th>SPF</th>\n",
       "      <td>455.0</td>\n",
       "      <td>0.025256</td>\n",
       "      <td>0.084729</td>\n",
       "      <td>0.0</td>\n",
       "      <td>0.0</td>\n",
       "      <td>0.00</td>\n",
       "      <td>0.010</td>\n",
       "      <td>0.85</td>\n",
       "      <td>11.491667</td>\n",
       "    </tr>\n",
       "    <tr>\n",
       "      <th rowspan=\"2\" valign=\"top\">Winter</th>\n",
       "      <th>SEA</th>\n",
       "      <td>461.0</td>\n",
       "      <td>0.174458</td>\n",
       "      <td>0.281612</td>\n",
       "      <td>0.0</td>\n",
       "      <td>0.0</td>\n",
       "      <td>0.04</td>\n",
       "      <td>0.240</td>\n",
       "      <td>2.33</td>\n",
       "      <td>80.425000</td>\n",
       "    </tr>\n",
       "    <tr>\n",
       "      <th>SPF</th>\n",
       "      <td>461.0</td>\n",
       "      <td>0.194149</td>\n",
       "      <td>0.339536</td>\n",
       "      <td>0.0</td>\n",
       "      <td>0.0</td>\n",
       "      <td>0.06</td>\n",
       "      <td>0.230</td>\n",
       "      <td>2.60</td>\n",
       "      <td>89.502500</td>\n",
       "    </tr>\n",
       "  </tbody>\n",
       "</table>\n",
       "</div>"
      ],
      "text/plain": [
       "             count      mean       std  min  25%   50%    75%   max        sum\n",
       "SEASON CITY                                                                   \n",
       "Fall   SEA   455.0  0.123504  0.250486  0.0  0.0  0.00  0.150  2.16  56.194167\n",
       "       SPF   455.0  0.146227  0.246420  0.0  0.0  0.03  0.195  2.00  66.533333\n",
       "Spring SEA   455.0  0.116984  0.229004  0.0  0.0  0.00  0.140  1.72  53.227500\n",
       "       SPF   455.0  0.086383  0.177791  0.0  0.0  0.01  0.100  1.65  39.304167\n",
       "Summer SEA   455.0  0.018011  0.113958  0.0  0.0  0.00  0.000  1.65   8.195000\n",
       "       SPF   455.0  0.025256  0.084729  0.0  0.0  0.00  0.010  0.85  11.491667\n",
       "Winter SEA   461.0  0.174458  0.281612  0.0  0.0  0.04  0.240  2.33  80.425000\n",
       "       SPF   461.0  0.194149  0.339536  0.0  0.0  0.06  0.230  2.60  89.502500"
      ]
     },
     "execution_count": 435,
     "metadata": {},
     "output_type": "execute_result"
    }
   ],
   "source": [
    "desc_stats = df_w_avg.groupby(['SEASON','CITY'])['PRECIPITATION_OR_AVG'].describe()\n",
    "sum_stat = df_w_avg.groupby(['SEASON','CITY'])['PRECIPITATION_OR_AVG'].sum().to_frame(name='sum') \n",
    "pd.concat([desc_stats, sum_stat], axis =1)"
   ]
  },
  {
   "cell_type": "code",
   "execution_count": 436,
   "id": "47364a86-2018-4f45-835e-754acab0fdd7",
   "metadata": {},
   "outputs": [
    {
     "data": {
      "image/png": "[encoded data removed]",
      "text/plain": [
       "<Figure size 2000x500 with 1 Axes>"
      ]
     },
     "metadata": {},
     "output_type": "display_data"
    }
   ],
   "source": [
    "plt.figure(figsize=(20,5))\n",
    "\n",
    "sns.barplot(data=df_w_avg, x = 'SEASON', y='PRECIPITATION_OR_AVG', hue = 'CITY', errorbar = None)\n",
    "\n",
    "plt.title('Rainfall 2018-2022', fontsize=24)\n",
    "plt.xlabel('Season', fontsize=18)\n",
    "plt.ylabel('Precipitation (inches)', fontsize=18)\n",
    "\n",
    "plt.tick_params(labelsize=15, labelrotation=0)\n",
    "\n",
    "plt.show()"
   ]
  },
  {
   "cell_type": "markdown",
   "id": "197af122-ab7b-42d8-b972-28e087fb805d",
   "metadata": {},
   "source": [
    "Indeed Seattle outrains Springfield seasonally in the spring. We can zoom out to visualize each day between cities in hopes of seeing a clear domination..."
   ]
  },
  {
   "cell_type": "code",
   "execution_count": 437,
   "id": "f1fdc5fa-dee4-401f-a37f-b87ceb4ba6da",
   "metadata": {},
   "outputs": [
    {
     "data": {
      "image/png": "[encoded data removed]",
      "text/plain": [
       "<Figure size 2000x500 with 1 Axes>"
      ]
     },
     "metadata": {},
     "output_type": "display_data"
    }
   ],
   "source": [
    "plt.figure(figsize=(20,5))\n",
    "\n",
    "sns.lineplot(data=df_w_avg, x = 'DATE', y='PRECIPITATION_OR_AVG', hue = 'CITY')\n",
    "\n",
    "plt.title('Rainfall 2018-2022', fontsize=24)\n",
    "plt.xlabel('Date', fontsize=18)\n",
    "plt.ylabel('Precipitation (inches)', fontsize=18)\n",
    "\n",
    "plt.tick_params(labelsize=15)\n",
    "\n",
    "plt.show()"
   ]
  },
  {
   "cell_type": "markdown",
   "id": "2496fb6e-e122-4017-ab45-809b7b2d731c",
   "metadata": {},
   "source": [
    "But due to the amount of data and thin margin of difference, it is difficult to understand much from this image besides the presence of sharp annual spikes from both Seattle and Springfield. If we utilize a similar line plot by month's sum precipiation..."
   ]
  },
  {
   "cell_type": "code",
   "execution_count": null,
   "id": "33335e6d-4e88-4837-91d8-349668bfa000",
   "metadata": {},
   "outputs": [],
   "source": []
  },
  {
   "cell_type": "code",
   "execution_count": 438,
   "id": "aebabf01-ccdc-4e15-9be8-00b1c2cf53fe",
   "metadata": {},
   "outputs": [
    {
     "data": {
      "image/png": "[encoded data removed]",
      "text/plain": [
       "<Figure size 2000x500 with 1 Axes>"
      ]
     },
     "metadata": {},
     "output_type": "display_data"
    }
   ],
   "source": [
    "plt.figure(figsize=(20,5))\n",
    "\n",
    "sns.lineplot(data=df_w_avg, x = 'MONTH_AND_YEAR', y='PRECIPITATION_OR_AVG', hue = 'CITY', errorbar = None)\n",
    "\n",
    "plt.title('Rainfall 2018-2022', fontsize=24)\n",
    "plt.xlabel('Month', fontsize=18)\n",
    "plt.ylabel('Precipitation (inches)', fontsize=18)\n",
    "\n",
    "plt.tick_params(labelsize=15, labelrotation=90)\n",
    "\n",
    "plt.show()"
   ]
  },
  {
   "cell_type": "markdown",
   "id": "7c271c0c-13f0-4cf5-9150-73dc126efb50",
   "metadata": {},
   "source": [
    "We rediscover the peak Seattle rainfall which tends to outperform Springfield in the winter and spring months. Despite the highest monthly totals being held by Seattle, we already know that the max daily precipitation value belongs to Springfield, and understandably it's standard deviation is also greater. Let's explore the distributions of the daily fall with a histogram. "
   ]
  },
  {
   "cell_type": "code",
   "execution_count": 444,
   "id": "f41d4619-67e5-4918-8bd4-e60bb97a1837",
   "metadata": {},
   "outputs": [
    {
     "data": {
      "image/png": "[encoded data removed]",
      "text/plain": [
       "<Figure size 2000x500 with 1 Axes>"
      ]
     },
     "metadata": {},
     "output_type": "display_data"
    }
   ],
   "source": [
    "plt.figure(figsize=(20,5))\n",
    "\n",
    "sns.histplot(data=df_w_avg, x = 'PRECIPITATION_OR_AVG', hue = 'CITY', binwidth=.1, multiple = 'dodge')\n",
    "\n",
    "plt.title('Rainfall 2018-2022', fontsize=24)\n",
    "plt.xlabel('Precipitation (inches)', fontsize=18)\n",
    "plt.ylabel('Number of Days', fontsize=18)\n",
    "\n",
    "plt.tick_params(labelsize=15)\n",
    "\n",
    "plt.show()"
   ]
  },
  {
   "cell_type": "markdown",
   "id": "3ab49b87-ed57-4ecd-9dd0-71131b82ac4e",
   "metadata": {},
   "source": [
    "We see that both cities' precipitation rates skew heavily right, explained by the high number of no rain days. Surprisingly, Seattle shows a greater number of no rain days than Springfield. We cannot determine the great value from this very thin view of the right tail, so we can recreate this histogram utilizing only daily precipitation values greater than one inch."
   ]
  },
  {
   "cell_type": "code",
   "execution_count": 445,
   "id": "79ac08bb-220f-4d21-a2e5-2a567f529755",
   "metadata": {},
   "outputs": [
    {
     "data": {
      "image/png": "[encoded data removed]",
      "text/plain": [
       "<Figure size 2000x500 with 1 Axes>"
      ]
     },
     "metadata": {},
     "output_type": "display_data"
    }
   ],
   "source": [
    "plt.figure(figsize=(20,5))\n",
    "\n",
    "sns.histplot(df_w_avg[df_w_avg['PRECIPITATION_OR_AVG'] > 1], x = 'PRECIPITATION_OR_AVG', hue = 'CITY', binwidth=.1, multiple = 'dodge')\n",
    "\n",
    "plt.title('Rainfall 2018-2022, Exceeding One Inch', fontsize=24)\n",
    "plt.xlabel('Precipitation (inches)', fontsize=18)\n",
    "plt.ylabel('Number of Days', fontsize=18)\n",
    "\n",
    "plt.tick_params(labelsize=15)\n",
    "\n",
    "plt.show()"
   ]
  },
  {
   "cell_type": "markdown",
   "id": "40d2190f-46ff-4869-a725-5535cacc91b2",
   "metadata": {},
   "source": [
    "Here we can better visualize the longer right tail of the Springfield distribution, heavy rainfall outliers."
   ]
  },
  {
   "cell_type": "markdown",
   "id": "779487c1-eb90-475c-afeb-e544b6c982d9",
   "metadata": {},
   "source": [
    "## Conclusion\n",
    "We assessed daily precipitation in inches over a five year period from single weather stations in both Seattle, WA and Springfield, OR. Due to its greater total rainfall, greater annual rainfall four of five years, greater seasonal rainfall summer through winter, and greater maximum rainfall skewing the distribution further right, we can conclude that Springfield, OR is in fact rainier than Seattle, WA."
   ]
  }
 ],
 "metadata": {
  "kernelspec": {
   "display_name": "Python [conda env:base] *",
   "language": "python",
   "name": "conda-base-py"
  },
  "language_info": {
   "codemirror_mode": {
    "name": "ipython",
    "version": 3
   },
   "file_extension": ".py",
   "mimetype": "text/x-python",
   "name": "python",
   "nbconvert_exporter": "python",
   "pygments_lexer": "ipython3",
   "version": "3.12.4"
  }
 },
 "nbformat": 4,
 "nbformat_minor": 5
}
