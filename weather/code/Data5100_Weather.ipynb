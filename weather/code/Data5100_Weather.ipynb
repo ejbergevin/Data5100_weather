{
 "cells": [
  {
   "cell_type": "code",
   "execution_count": null,
   "id": "2b3b7b3f-2c40-4f0c-ac59-0b2382fada0c",
   "metadata": {},
   "outputs": [],
   "source": [
    "kjk"
   ]
  }
 ],
 "metadata": {
  "kernelspec": {
   "display_name": "Python [conda env:base] *",
   "language": "python",
   "name": "conda-base-py"
  },
  "language_info": {
   "codemirror_mode": {
    "name": "ipython",
    "version": 3
   },
   "file_extension": ".py",
   "mimetype": "text/x-python",
   "name": "python",
   "nbconvert_exporter": "python",
   "pygments_lexer": "ipython3",
   "version": "3.12.4"
  }
 },
 "nbformat": 4,
 "nbformat_minor": 5
}
